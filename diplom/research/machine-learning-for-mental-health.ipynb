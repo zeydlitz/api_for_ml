{
 "cells": [
  {
   "cell_type": "markdown",
   "metadata": {
    "_cell_guid": "b5d748ec-ba93-440b-9020-647f44fe6e0f",
    "_uuid": "aa2ef3305175ad6f2f289d18aa9d1e2e570bccd4",
    "collapsed": true
   },
   "source": [
    "# **Predictors of mental health illness** <br>\n",
    "Kairos<br>\n",
    "Created: 1/23/2018<br>\n",
    "Last update: 6/23/2018<br>\n",
    "\n",
    "This kernel is modified from the “starter kernel” by Megan Risdal<br>\n",
    "\n",
    "### **Question:**\n",
    "**Can you predict whether a patient should be treated of his/her mental illness or not according to the values obtained in the dataset?**\n",
    "\n",
    "This is my first kernel after taking several courses of ML. I'm trying to understand better every concept by practicing and Kaggle is a good place to do it. Thanks Kaggle team.\n",
    "\n",
    "The proccess is the following:\n",
    "1. [Library and data loading](#Library_and_data_loading)\n",
    "2. [Data cleaning](#Data_cleaning)\n",
    "3. [Encoding data](#Encoding_data)\n",
    "4. [Covariance Matrix. Variability comparison between categories of variables](#Covariance_Matrix)\n",
    "5. [Some charts to see data relationship](#Some_charts_to_see_data_relationship)\n",
    "6. [Scaling and fitting](#Scaling_and_fitting)\n",
    "7. [Tuning](#Tuning)\n",
    "8. [Evaluating models](#Evaluating_models)    \n",
    "    1. [Logistic Eegression](#Logistic_regressio)\n",
    "    2. [KNeighbors Classifier](#KNeighborsClassifier)\n",
    "    3. [Decision Tree Classifier](#Decision_Tree_classifier)\n",
    "    4. [Random Forests](#Random_Forests)\n",
    "    5. [Bagging](#Bagging)\n",
    "    6. [Boosting](#Boosting)\n",
    "    7. [Stacking](#Stacking)\n",
    "9. [Predicting with Neural Network](#Predicting_with_Neural_Network)\n",
    "10. [Success method plot](#Success_method_plot)\n",
    "11. [Creating predictions on test set](#Creating_predictions_on_test_set)\n",
    "12. [Submission](#Submission)\n",
    "13. [Conclusions](#Conclusions)\n"
   ]
  },
  {
   "cell_type": "markdown",
   "metadata": {
    "_cell_guid": "dc7cd7b3-32e0-4284-b669-87d4fb6dbaf8",
    "_uuid": "dfeb8a6c8cc31996e69537a9a25102c42ccf3e6d"
   },
   "source": [
    "<a id='Library_and_data_loading'></a>\n",
    "## **1. Library and data loading** ##"
   ]
  },
  {
   "cell_type": "code",
   "execution_count": 1,
   "metadata": {
    "ExecuteTime": {
     "end_time": "2021-04-10T18:41:31.173487Z",
     "start_time": "2021-04-10T18:41:19.767407Z"
    },
    "_cell_guid": "507667c6-d01e-44e4-b8d7-a2d61d3eb02a",
    "_uuid": "d59a9a91a5da35354233aaf9fc1f0dd66686349b"
   },
   "outputs": [
    {
     "name": "stdout",
     "output_type": "stream",
     "text": [
      "(1259, 27)\n",
      "                Age\n",
      "count  1.259000e+03\n",
      "mean   7.942815e+07\n",
      "std    2.818299e+09\n",
      "min   -1.726000e+03\n",
      "25%    2.700000e+01\n",
      "50%    3.100000e+01\n",
      "75%    3.600000e+01\n",
      "max    1.000000e+11\n",
      "<class 'pandas.core.frame.DataFrame'>\n",
      "RangeIndex: 1259 entries, 0 to 1258\n",
      "Data columns (total 27 columns):\n",
      " #   Column                     Non-Null Count  Dtype \n",
      "---  ------                     --------------  ----- \n",
      " 0   Timestamp                  1259 non-null   object\n",
      " 1   Age                        1259 non-null   int64 \n",
      " 2   Gender                     1259 non-null   object\n",
      " 3   Country                    1259 non-null   object\n",
      " 4   state                      744 non-null    object\n",
      " 5   self_employed              1241 non-null   object\n",
      " 6   family_history             1259 non-null   object\n",
      " 7   treatment                  1259 non-null   object\n",
      " 8   work_interfere             995 non-null    object\n",
      " 9   no_employees               1259 non-null   object\n",
      " 10  remote_work                1259 non-null   object\n",
      " 11  tech_company               1259 non-null   object\n",
      " 12  benefits                   1259 non-null   object\n",
      " 13  care_options               1259 non-null   object\n",
      " 14  wellness_program           1259 non-null   object\n",
      " 15  seek_help                  1259 non-null   object\n",
      " 16  anonymity                  1259 non-null   object\n",
      " 17  leave                      1259 non-null   object\n",
      " 18  mental_health_consequence  1259 non-null   object\n",
      " 19  phys_health_consequence    1259 non-null   object\n",
      " 20  coworkers                  1259 non-null   object\n",
      " 21  supervisor                 1259 non-null   object\n",
      " 22  mental_health_interview    1259 non-null   object\n",
      " 23  phys_health_interview      1259 non-null   object\n",
      " 24  mental_vs_physical         1259 non-null   object\n",
      " 25  obs_consequence            1259 non-null   object\n",
      " 26  comments                   164 non-null    object\n",
      "dtypes: int64(1), object(26)\n",
      "memory usage: 265.7+ KB\n",
      "None\n"
     ]
    }
   ],
   "source": [
    "import numpy as np # linear algebra\n",
    "import pandas as pd # data processing, CSV file I/O (e.g. pd.read_csv)\n",
    "import matplotlib.pyplot as plt\n",
    "import seaborn as sns\n",
    "\n",
    "from scipy import stats\n",
    "from scipy.stats import randint\n",
    "\n",
    "# prep\n",
    "from sklearn.model_selection import train_test_split\n",
    "from sklearn import preprocessing\n",
    "from sklearn.datasets import make_classification\n",
    "from sklearn.preprocessing import binarize, LabelEncoder, MinMaxScaler\n",
    "\n",
    "# models\n",
    "from sklearn.linear_model import LogisticRegression\n",
    "from sklearn.tree import DecisionTreeClassifier\n",
    "from sklearn.ensemble import RandomForestClassifier, ExtraTreesClassifier\n",
    "\n",
    "# Validation libraries\n",
    "from sklearn import metrics\n",
    "from sklearn.metrics import accuracy_score, mean_squared_error, precision_recall_curve\n",
    "from sklearn.model_selection import cross_val_score\n",
    "\n",
    "#Neural Network\n",
    "# from sklearn.neural_network import MLPClassifier\n",
    "# from sklearn.grid_search import RandomizedSearchCV\n",
    "\n",
    "#Bagging\n",
    "from sklearn.ensemble import BaggingClassifier, AdaBoostClassifier\n",
    "from sklearn.neighbors import KNeighborsClassifier\n",
    "\n",
    "#Naive bayes\n",
    "from sklearn.naive_bayes import GaussianNB \n",
    "\n",
    "#Stacking\n",
    "# from mlxtend.classifier import StackingClassifier\n",
    "\n",
    "# Input data files are available in the \"../input/\" directory.\n",
    "# For example, running this (by clicking run or pressing Shift+Enter) will list the files in the input directory\n",
    "\n",
    "# from subprocess import check_output\n",
    "# print(check_output([\"ls\", \"../input\"]).decode(\"utf8\"))\n",
    "\n",
    "# Any results you write to the current directory are saved as output.\n",
    "\n",
    "#reading in CSV's from a file path\n",
    "train_df = pd.read_csv('survey.csv')\n",
    "\n",
    "\n",
    "#Pandas: whats the data row count?\n",
    "print(train_df.shape)\n",
    "    \n",
    "#Pandas: whats the distribution of the data?\n",
    "print(train_df.describe())\n",
    "    \n",
    "#Pandas: What types of data do i have?\n",
    "print(train_df.info())\n"
   ]
  },
  {
   "cell_type": "code",
   "execution_count": 2,
   "metadata": {
    "ExecuteTime": {
     "end_time": "2021-04-04T11:40:47.967472Z",
     "start_time": "2021-04-04T11:40:47.906060Z"
    }
   },
   "outputs": [
    {
     "name": "stdout",
     "output_type": "stream",
     "text": [
      "’ҐЄгй п Є®¤®ў п бва ­Ёж : 1251\n",
      " ’®¬ ў гбва®©бвўҐ G Ё¬ҐҐв ¬ҐвЄг Data\n",
      " ‘ҐаЁ©­л© ­®¬Ґа в®¬ : D6D7-D26D\n",
      "\n",
      " ‘®¤Ґа¦Ё¬®Ґ Ї ЇЄЁ G:\\Programming\\data_sc\\github\\coursework\\research\n",
      "\n",
      "03.04.2021  22:25    <DIR>          .\n",
      "03.04.2021  22:25    <DIR>          ..\n",
      "27.03.2021  14:27    <DIR>          .ipynb_checkpoints\n",
      "09.12.2020  00:58            44я210 df.png\n",
      "03.04.2021  22:10    <DIR>          f.h5\n",
      "01.10.2019  20:15            11я328 heart.csv\n",
      "03.04.2021  19:06         2я117я243 heart.ipynb\n",
      "01.11.2020  19:26            12я686 heart1.csv\n",
      "03.04.2021  18:28    <DIR>          label\n",
      "20.12.2020  19:39             1я273 lin.png\n",
      "20.12.2020  19:39            56я087 lin1.png\n",
      "03.04.2021  22:25           868я094 machine-learning-for-mental-health.ipynb\n",
      "27.03.2021  14:20             3я916 mental_health.ipynb\n",
      "29.10.2020  15:02         2я611я223 output.html\n",
      "20.09.2019  00:04           303я684 survey.csv\n",
      "20.12.2020  19:29             5я867 tree.dot\n",
      "22.09.2020  12:53           330я055 tree.png\n",
      "              12 д ©«®ў      6я365я666 Ў ©в\n",
      "               5 Ї Ї®Є  115я642я605я568 Ў ©в бў®Ў®¤­®\n"
     ]
    }
   ],
   "source": [
    "!dir"
   ]
  },
  {
   "cell_type": "markdown",
   "metadata": {
    "_cell_guid": "9a8c2272-ba6c-477a-9710-b82d57a1804f",
    "_uuid": "e4eef2cb6628af4e719fdbd434ccbacc1846e487"
   },
   "source": [
    "<a id='Data_cleaning'></a>\n",
    "## **2. Data cleaning** ##"
   ]
  },
  {
   "cell_type": "code",
   "execution_count": 2,
   "metadata": {
    "ExecuteTime": {
     "end_time": "2021-04-10T18:41:31.345487Z",
     "start_time": "2021-04-10T18:41:31.288496Z"
    },
    "_cell_guid": "a8e060e1-18fa-4214-a6fb-f924f74af108",
    "_kg_hide-input": true,
    "_kg_hide-output": true,
    "_uuid": "6088e9b05d062fbed2c2272924e9d8aa0e23e5b7",
    "scrolled": false
   },
   "outputs": [
    {
     "name": "stdout",
     "output_type": "stream",
     "text": [
      "                           Total   Percent\n",
      "comments                    1095  0.869738\n",
      "state                        515  0.409055\n",
      "work_interfere               264  0.209690\n",
      "self_employed                 18  0.014297\n",
      "seek_help                      0  0.000000\n",
      "obs_consequence                0  0.000000\n",
      "mental_vs_physical             0  0.000000\n",
      "phys_health_interview          0  0.000000\n",
      "mental_health_interview        0  0.000000\n",
      "supervisor                     0  0.000000\n",
      "coworkers                      0  0.000000\n",
      "phys_health_consequence        0  0.000000\n",
      "mental_health_consequence      0  0.000000\n",
      "leave                          0  0.000000\n",
      "anonymity                      0  0.000000\n",
      "Timestamp                      0  0.000000\n",
      "wellness_program               0  0.000000\n",
      "Age                            0  0.000000\n",
      "benefits                       0  0.000000\n",
      "tech_company                   0  0.000000\n",
      "remote_work                    0  0.000000\n",
      "no_employees                   0  0.000000\n",
      "treatment                      0  0.000000\n",
      "family_history                 0  0.000000\n",
      "Country                        0  0.000000\n",
      "Gender                         0  0.000000\n",
      "care_options                   0  0.000000\n"
     ]
    }
   ],
   "source": [
    "#missing data\n",
    "total = train_df.isnull().sum().sort_values(ascending=False)\n",
    "percent = (train_df.isnull().sum()/train_df.isnull().count()).sort_values(ascending=False)\n",
    "missing_data = pd.concat([total, percent], axis=1, keys=['Total', 'Percent'])\n",
    "missing_data.head(20)\n",
    "print(missing_data)\n"
   ]
  },
  {
   "cell_type": "code",
   "execution_count": 3,
   "metadata": {
    "ExecuteTime": {
     "end_time": "2021-04-10T18:41:36.889516Z",
     "start_time": "2021-04-10T18:41:36.805514Z"
    },
    "_cell_guid": "d21825da-92d6-48e2-9ab9-c63fbbbbd2b7",
    "_uuid": "50bdd9973655b16c61711d519645df6afb2ca214"
   },
   "outputs": [
    {
     "data": {
      "text/html": [
       "<div>\n",
       "<style scoped>\n",
       "    .dataframe tbody tr th:only-of-type {\n",
       "        vertical-align: middle;\n",
       "    }\n",
       "\n",
       "    .dataframe tbody tr th {\n",
       "        vertical-align: top;\n",
       "    }\n",
       "\n",
       "    .dataframe thead th {\n",
       "        text-align: right;\n",
       "    }\n",
       "</style>\n",
       "<table border=\"1\" class=\"dataframe\">\n",
       "  <thead>\n",
       "    <tr style=\"text-align: right;\">\n",
       "      <th></th>\n",
       "      <th>Age</th>\n",
       "      <th>Gender</th>\n",
       "      <th>Country</th>\n",
       "      <th>self_employed</th>\n",
       "      <th>family_history</th>\n",
       "      <th>treatment</th>\n",
       "      <th>work_interfere</th>\n",
       "      <th>no_employees</th>\n",
       "      <th>remote_work</th>\n",
       "      <th>tech_company</th>\n",
       "      <th>...</th>\n",
       "      <th>anonymity</th>\n",
       "      <th>leave</th>\n",
       "      <th>mental_health_consequence</th>\n",
       "      <th>phys_health_consequence</th>\n",
       "      <th>coworkers</th>\n",
       "      <th>supervisor</th>\n",
       "      <th>mental_health_interview</th>\n",
       "      <th>phys_health_interview</th>\n",
       "      <th>mental_vs_physical</th>\n",
       "      <th>obs_consequence</th>\n",
       "    </tr>\n",
       "  </thead>\n",
       "  <tbody>\n",
       "    <tr>\n",
       "      <th>0</th>\n",
       "      <td>37</td>\n",
       "      <td>Female</td>\n",
       "      <td>United States</td>\n",
       "      <td>NaN</td>\n",
       "      <td>No</td>\n",
       "      <td>Yes</td>\n",
       "      <td>Often</td>\n",
       "      <td>6-25</td>\n",
       "      <td>No</td>\n",
       "      <td>Yes</td>\n",
       "      <td>...</td>\n",
       "      <td>Yes</td>\n",
       "      <td>Somewhat easy</td>\n",
       "      <td>No</td>\n",
       "      <td>No</td>\n",
       "      <td>Some of them</td>\n",
       "      <td>Yes</td>\n",
       "      <td>No</td>\n",
       "      <td>Maybe</td>\n",
       "      <td>Yes</td>\n",
       "      <td>No</td>\n",
       "    </tr>\n",
       "    <tr>\n",
       "      <th>1</th>\n",
       "      <td>44</td>\n",
       "      <td>M</td>\n",
       "      <td>United States</td>\n",
       "      <td>NaN</td>\n",
       "      <td>No</td>\n",
       "      <td>No</td>\n",
       "      <td>Rarely</td>\n",
       "      <td>More than 1000</td>\n",
       "      <td>No</td>\n",
       "      <td>No</td>\n",
       "      <td>...</td>\n",
       "      <td>Don't know</td>\n",
       "      <td>Don't know</td>\n",
       "      <td>Maybe</td>\n",
       "      <td>No</td>\n",
       "      <td>No</td>\n",
       "      <td>No</td>\n",
       "      <td>No</td>\n",
       "      <td>No</td>\n",
       "      <td>Don't know</td>\n",
       "      <td>No</td>\n",
       "    </tr>\n",
       "    <tr>\n",
       "      <th>2</th>\n",
       "      <td>32</td>\n",
       "      <td>Male</td>\n",
       "      <td>Canada</td>\n",
       "      <td>NaN</td>\n",
       "      <td>No</td>\n",
       "      <td>No</td>\n",
       "      <td>Rarely</td>\n",
       "      <td>6-25</td>\n",
       "      <td>No</td>\n",
       "      <td>Yes</td>\n",
       "      <td>...</td>\n",
       "      <td>Don't know</td>\n",
       "      <td>Somewhat difficult</td>\n",
       "      <td>No</td>\n",
       "      <td>No</td>\n",
       "      <td>Yes</td>\n",
       "      <td>Yes</td>\n",
       "      <td>Yes</td>\n",
       "      <td>Yes</td>\n",
       "      <td>No</td>\n",
       "      <td>No</td>\n",
       "    </tr>\n",
       "    <tr>\n",
       "      <th>3</th>\n",
       "      <td>31</td>\n",
       "      <td>Male</td>\n",
       "      <td>United Kingdom</td>\n",
       "      <td>NaN</td>\n",
       "      <td>Yes</td>\n",
       "      <td>Yes</td>\n",
       "      <td>Often</td>\n",
       "      <td>26-100</td>\n",
       "      <td>No</td>\n",
       "      <td>Yes</td>\n",
       "      <td>...</td>\n",
       "      <td>No</td>\n",
       "      <td>Somewhat difficult</td>\n",
       "      <td>Yes</td>\n",
       "      <td>Yes</td>\n",
       "      <td>Some of them</td>\n",
       "      <td>No</td>\n",
       "      <td>Maybe</td>\n",
       "      <td>Maybe</td>\n",
       "      <td>No</td>\n",
       "      <td>Yes</td>\n",
       "    </tr>\n",
       "    <tr>\n",
       "      <th>4</th>\n",
       "      <td>31</td>\n",
       "      <td>Male</td>\n",
       "      <td>United States</td>\n",
       "      <td>NaN</td>\n",
       "      <td>No</td>\n",
       "      <td>No</td>\n",
       "      <td>Never</td>\n",
       "      <td>100-500</td>\n",
       "      <td>Yes</td>\n",
       "      <td>Yes</td>\n",
       "      <td>...</td>\n",
       "      <td>Don't know</td>\n",
       "      <td>Don't know</td>\n",
       "      <td>No</td>\n",
       "      <td>No</td>\n",
       "      <td>Some of them</td>\n",
       "      <td>Yes</td>\n",
       "      <td>Yes</td>\n",
       "      <td>Yes</td>\n",
       "      <td>Don't know</td>\n",
       "      <td>No</td>\n",
       "    </tr>\n",
       "  </tbody>\n",
       "</table>\n",
       "<p>5 rows × 24 columns</p>\n",
       "</div>"
      ],
      "text/plain": [
       "   Age  Gender         Country self_employed family_history treatment  \\\n",
       "0   37  Female   United States           NaN             No       Yes   \n",
       "1   44       M   United States           NaN             No        No   \n",
       "2   32    Male          Canada           NaN             No        No   \n",
       "3   31    Male  United Kingdom           NaN            Yes       Yes   \n",
       "4   31    Male   United States           NaN             No        No   \n",
       "\n",
       "  work_interfere    no_employees remote_work tech_company  ...   anonymity  \\\n",
       "0          Often            6-25          No          Yes  ...         Yes   \n",
       "1         Rarely  More than 1000          No           No  ...  Don't know   \n",
       "2         Rarely            6-25          No          Yes  ...  Don't know   \n",
       "3          Often          26-100          No          Yes  ...          No   \n",
       "4          Never         100-500         Yes          Yes  ...  Don't know   \n",
       "\n",
       "                leave mental_health_consequence phys_health_consequence  \\\n",
       "0       Somewhat easy                        No                      No   \n",
       "1          Don't know                     Maybe                      No   \n",
       "2  Somewhat difficult                        No                      No   \n",
       "3  Somewhat difficult                       Yes                     Yes   \n",
       "4          Don't know                        No                      No   \n",
       "\n",
       "      coworkers supervisor mental_health_interview phys_health_interview  \\\n",
       "0  Some of them        Yes                      No                 Maybe   \n",
       "1            No         No                      No                    No   \n",
       "2           Yes        Yes                     Yes                   Yes   \n",
       "3  Some of them         No                   Maybe                 Maybe   \n",
       "4  Some of them        Yes                     Yes                   Yes   \n",
       "\n",
       "  mental_vs_physical obs_consequence  \n",
       "0                Yes              No  \n",
       "1         Don't know              No  \n",
       "2                 No              No  \n",
       "3                 No             Yes  \n",
       "4         Don't know              No  \n",
       "\n",
       "[5 rows x 24 columns]"
      ]
     },
     "execution_count": 3,
     "metadata": {},
     "output_type": "execute_result"
    }
   ],
   "source": [
    "#dealing with missing data\n",
    "#Let’s get rid of the variables \"Timestamp\",“comments”, “state” just to make our lives easier.\n",
    "train_df = train_df.drop(['comments'], axis= 1)\n",
    "train_df = train_df.drop(['state'], axis= 1)\n",
    "train_df = train_df.drop(['Timestamp'], axis= 1)\n",
    "train_df.isnull().sum().max() #just checking that there's no missing data missing...\n",
    "train_df.head(5)"
   ]
  },
  {
   "cell_type": "markdown",
   "metadata": {
    "_cell_guid": "871f195e-d25d-426a-84f5-997b017b892c",
    "_uuid": "7a54d86c30dab2e270e7374455178f8abcc15a7c"
   },
   "source": [
    "\n",
    "**Cleaning NaN**"
   ]
  },
  {
   "cell_type": "code",
   "execution_count": 4,
   "metadata": {
    "ExecuteTime": {
     "end_time": "2021-04-10T18:41:44.328342Z",
     "start_time": "2021-04-10T18:41:44.249342Z"
    },
    "_cell_guid": "2bf70e26-afd9-4766-95ae-68d8ff9b21db",
    "_uuid": "08b863f7d666b7e68cef056ba2a0ae033cbdeb9d"
   },
   "outputs": [
    {
     "data": {
      "text/html": [
       "<div>\n",
       "<style scoped>\n",
       "    .dataframe tbody tr th:only-of-type {\n",
       "        vertical-align: middle;\n",
       "    }\n",
       "\n",
       "    .dataframe tbody tr th {\n",
       "        vertical-align: top;\n",
       "    }\n",
       "\n",
       "    .dataframe thead th {\n",
       "        text-align: right;\n",
       "    }\n",
       "</style>\n",
       "<table border=\"1\" class=\"dataframe\">\n",
       "  <thead>\n",
       "    <tr style=\"text-align: right;\">\n",
       "      <th></th>\n",
       "      <th>Age</th>\n",
       "      <th>Gender</th>\n",
       "      <th>Country</th>\n",
       "      <th>self_employed</th>\n",
       "      <th>family_history</th>\n",
       "      <th>treatment</th>\n",
       "      <th>work_interfere</th>\n",
       "      <th>no_employees</th>\n",
       "      <th>remote_work</th>\n",
       "      <th>tech_company</th>\n",
       "      <th>...</th>\n",
       "      <th>anonymity</th>\n",
       "      <th>leave</th>\n",
       "      <th>mental_health_consequence</th>\n",
       "      <th>phys_health_consequence</th>\n",
       "      <th>coworkers</th>\n",
       "      <th>supervisor</th>\n",
       "      <th>mental_health_interview</th>\n",
       "      <th>phys_health_interview</th>\n",
       "      <th>mental_vs_physical</th>\n",
       "      <th>obs_consequence</th>\n",
       "    </tr>\n",
       "  </thead>\n",
       "  <tbody>\n",
       "    <tr>\n",
       "      <th>0</th>\n",
       "      <td>37</td>\n",
       "      <td>Female</td>\n",
       "      <td>United States</td>\n",
       "      <td>NaN</td>\n",
       "      <td>No</td>\n",
       "      <td>Yes</td>\n",
       "      <td>Often</td>\n",
       "      <td>6-25</td>\n",
       "      <td>No</td>\n",
       "      <td>Yes</td>\n",
       "      <td>...</td>\n",
       "      <td>Yes</td>\n",
       "      <td>Somewhat easy</td>\n",
       "      <td>No</td>\n",
       "      <td>No</td>\n",
       "      <td>Some of them</td>\n",
       "      <td>Yes</td>\n",
       "      <td>No</td>\n",
       "      <td>Maybe</td>\n",
       "      <td>Yes</td>\n",
       "      <td>No</td>\n",
       "    </tr>\n",
       "    <tr>\n",
       "      <th>1</th>\n",
       "      <td>44</td>\n",
       "      <td>M</td>\n",
       "      <td>United States</td>\n",
       "      <td>NaN</td>\n",
       "      <td>No</td>\n",
       "      <td>No</td>\n",
       "      <td>Rarely</td>\n",
       "      <td>More than 1000</td>\n",
       "      <td>No</td>\n",
       "      <td>No</td>\n",
       "      <td>...</td>\n",
       "      <td>Don't know</td>\n",
       "      <td>Don't know</td>\n",
       "      <td>Maybe</td>\n",
       "      <td>No</td>\n",
       "      <td>No</td>\n",
       "      <td>No</td>\n",
       "      <td>No</td>\n",
       "      <td>No</td>\n",
       "      <td>Don't know</td>\n",
       "      <td>No</td>\n",
       "    </tr>\n",
       "    <tr>\n",
       "      <th>2</th>\n",
       "      <td>32</td>\n",
       "      <td>Male</td>\n",
       "      <td>Canada</td>\n",
       "      <td>NaN</td>\n",
       "      <td>No</td>\n",
       "      <td>No</td>\n",
       "      <td>Rarely</td>\n",
       "      <td>6-25</td>\n",
       "      <td>No</td>\n",
       "      <td>Yes</td>\n",
       "      <td>...</td>\n",
       "      <td>Don't know</td>\n",
       "      <td>Somewhat difficult</td>\n",
       "      <td>No</td>\n",
       "      <td>No</td>\n",
       "      <td>Yes</td>\n",
       "      <td>Yes</td>\n",
       "      <td>Yes</td>\n",
       "      <td>Yes</td>\n",
       "      <td>No</td>\n",
       "      <td>No</td>\n",
       "    </tr>\n",
       "    <tr>\n",
       "      <th>3</th>\n",
       "      <td>31</td>\n",
       "      <td>Male</td>\n",
       "      <td>United Kingdom</td>\n",
       "      <td>NaN</td>\n",
       "      <td>Yes</td>\n",
       "      <td>Yes</td>\n",
       "      <td>Often</td>\n",
       "      <td>26-100</td>\n",
       "      <td>No</td>\n",
       "      <td>Yes</td>\n",
       "      <td>...</td>\n",
       "      <td>No</td>\n",
       "      <td>Somewhat difficult</td>\n",
       "      <td>Yes</td>\n",
       "      <td>Yes</td>\n",
       "      <td>Some of them</td>\n",
       "      <td>No</td>\n",
       "      <td>Maybe</td>\n",
       "      <td>Maybe</td>\n",
       "      <td>No</td>\n",
       "      <td>Yes</td>\n",
       "    </tr>\n",
       "    <tr>\n",
       "      <th>4</th>\n",
       "      <td>31</td>\n",
       "      <td>Male</td>\n",
       "      <td>United States</td>\n",
       "      <td>NaN</td>\n",
       "      <td>No</td>\n",
       "      <td>No</td>\n",
       "      <td>Never</td>\n",
       "      <td>100-500</td>\n",
       "      <td>Yes</td>\n",
       "      <td>Yes</td>\n",
       "      <td>...</td>\n",
       "      <td>Don't know</td>\n",
       "      <td>Don't know</td>\n",
       "      <td>No</td>\n",
       "      <td>No</td>\n",
       "      <td>Some of them</td>\n",
       "      <td>Yes</td>\n",
       "      <td>Yes</td>\n",
       "      <td>Yes</td>\n",
       "      <td>Don't know</td>\n",
       "      <td>No</td>\n",
       "    </tr>\n",
       "  </tbody>\n",
       "</table>\n",
       "<p>5 rows × 24 columns</p>\n",
       "</div>"
      ],
      "text/plain": [
       "   Age  Gender         Country self_employed family_history treatment  \\\n",
       "0   37  Female   United States           NaN             No       Yes   \n",
       "1   44       M   United States           NaN             No        No   \n",
       "2   32    Male          Canada           NaN             No        No   \n",
       "3   31    Male  United Kingdom           NaN            Yes       Yes   \n",
       "4   31    Male   United States           NaN             No        No   \n",
       "\n",
       "  work_interfere    no_employees remote_work tech_company  ...   anonymity  \\\n",
       "0          Often            6-25          No          Yes  ...         Yes   \n",
       "1         Rarely  More than 1000          No           No  ...  Don't know   \n",
       "2         Rarely            6-25          No          Yes  ...  Don't know   \n",
       "3          Often          26-100          No          Yes  ...          No   \n",
       "4          Never         100-500         Yes          Yes  ...  Don't know   \n",
       "\n",
       "                leave mental_health_consequence phys_health_consequence  \\\n",
       "0       Somewhat easy                        No                      No   \n",
       "1          Don't know                     Maybe                      No   \n",
       "2  Somewhat difficult                        No                      No   \n",
       "3  Somewhat difficult                       Yes                     Yes   \n",
       "4          Don't know                        No                      No   \n",
       "\n",
       "      coworkers supervisor mental_health_interview phys_health_interview  \\\n",
       "0  Some of them        Yes                      No                 Maybe   \n",
       "1            No         No                      No                    No   \n",
       "2           Yes        Yes                     Yes                   Yes   \n",
       "3  Some of them         No                   Maybe                 Maybe   \n",
       "4  Some of them        Yes                     Yes                   Yes   \n",
       "\n",
       "  mental_vs_physical obs_consequence  \n",
       "0                Yes              No  \n",
       "1         Don't know              No  \n",
       "2                 No              No  \n",
       "3                 No             Yes  \n",
       "4         Don't know              No  \n",
       "\n",
       "[5 rows x 24 columns]"
      ]
     },
     "execution_count": 4,
     "metadata": {},
     "output_type": "execute_result"
    }
   ],
   "source": [
    "# Assign default values for each data type\n",
    "defaultInt = 0\n",
    "defaultString = 'NaN'\n",
    "defaultFloat = 0.0\n",
    "\n",
    "# Create lists by data tpe\n",
    "intFeatures = ['Age']\n",
    "stringFeatures = ['Gender', 'Country', 'self_employed', 'family_history', 'treatment', 'work_interfere',\n",
    "                 'no_employees', 'remote_work', 'tech_company', 'anonymity', 'leave', 'mental_health_consequence',\n",
    "                 'phys_health_consequence', 'coworkers', 'supervisor', 'mental_health_interview', 'phys_health_interview',\n",
    "                 'mental_vs_physical', 'obs_consequence', 'benefits', 'care_options', 'wellness_program',\n",
    "                 'seek_help']\n",
    "floatFeatures = []\n",
    "\n",
    "# Clean the NaN's\n",
    "for feature in train_df:\n",
    "    if feature in intFeatures:\n",
    "        train_df[feature] = train_df[feature].fillna(defaultInt)\n",
    "    elif feature in stringFeatures:\n",
    "        train_df[feature] = train_df[feature].fillna(defaultString)\n",
    "    elif feature in floatFeatures:\n",
    "        train_df[feature] = train_df[feature].fillna(defaultFloat)\n",
    "    else:\n",
    "        print('Error: Feature %s not recognized.' % feature)\n",
    "train_df.head(5)   "
   ]
  },
  {
   "cell_type": "code",
   "execution_count": 5,
   "metadata": {
    "ExecuteTime": {
     "end_time": "2021-04-10T18:41:49.442513Z",
     "start_time": "2021-04-10T18:41:48.476016Z"
    },
    "_cell_guid": "4ec04bf5-c88f-4839-a79b-2d3ad6962599",
    "_uuid": "4507b7c43c9663f90a9cf915dd73850e4e0f17ab"
   },
   "outputs": [
    {
     "name": "stdout",
     "output_type": "stream",
     "text": [
      "['female' 'male' 'trans']\n"
     ]
    }
   ],
   "source": [
    "#clean 'Gender'\n",
    "#Slower case all columm's elements\n",
    "gender = train_df['Gender'].str.lower()\n",
    "#print(gender)\n",
    "\n",
    "#Select unique elements\n",
    "gender = train_df['Gender'].unique()\n",
    "\n",
    "#Made gender groups\n",
    "male_str = [\"male\", \"m\", \"male-ish\", \"maile\", \"mal\", \"male (cis)\", \"make\", \"male \", \"man\",\"msle\", \"mail\", \"malr\",\"cis man\", \"Cis Male\", \"cis male\"]\n",
    "trans_str = [\"trans-female\", \"something kinda male?\", \"queer/she/they\", \"non-binary\",\"nah\", \"all\", \"enby\", \"fluid\", \"genderqueer\", \"androgyne\", \"agender\", \"male leaning androgynous\", \"guy (-ish) ^_^\", \"trans woman\", \"neuter\", \"female (trans)\", \"queer\", \"ostensibly male, unsure what that really means\"]           \n",
    "female_str = [\"cis female\", \"f\", \"female\", \"woman\",  \"femake\", \"female \",\"cis-female/femme\", \"female (cis)\", \"femail\"]\n",
    "\n",
    "for (row, col) in train_df.iterrows():\n",
    "\n",
    "    if str.lower(col.Gender) in male_str:\n",
    "        train_df['Gender'].replace(to_replace=col.Gender, value='male', inplace=True)\n",
    "\n",
    "    if str.lower(col.Gender) in female_str:\n",
    "        train_df['Gender'].replace(to_replace=col.Gender, value='female', inplace=True)\n",
    "\n",
    "    if str.lower(col.Gender) in trans_str:\n",
    "        train_df['Gender'].replace(to_replace=col.Gender, value='trans', inplace=True)\n",
    "\n",
    "#Get rid of bullshit\n",
    "stk_list = ['A little about you', 'p']\n",
    "train_df = train_df[~train_df['Gender'].isin(stk_list)]\n",
    "\n",
    "print(train_df['Gender'].unique())"
   ]
  },
  {
   "cell_type": "code",
   "execution_count": 6,
   "metadata": {
    "ExecuteTime": {
     "end_time": "2021-04-10T18:41:50.867046Z",
     "start_time": "2021-04-10T18:41:50.819048Z"
    },
    "_cell_guid": "0e211fa8-a69e-42c1-adda-375d82916db4",
    "_uuid": "818c6a88caf07379d5012f15919d6eb46ae6d98c"
   },
   "outputs": [],
   "source": [
    "#complete missing age with mean\n",
    "train_df['Age'].fillna(train_df['Age'].median(), inplace = True)\n",
    "\n",
    "# Fill with media() values < 18 and > 120\n",
    "s = pd.Series(train_df['Age'])\n",
    "s[s<18] = train_df['Age'].median()\n",
    "train_df['Age'] = s\n",
    "s = pd.Series(train_df['Age'])\n",
    "s[s>120] = train_df['Age'].median()\n",
    "train_df['Age'] = s\n",
    "\n",
    "#Ranges of Age\n",
    "train_df['age_range'] = pd.cut(train_df['Age'], [0,20,30,65,100], labels=[\"0-20\", \"21-30\", \"31-65\", \"66-100\"], include_lowest=True)\n",
    "\n"
   ]
  },
  {
   "cell_type": "code",
   "execution_count": 7,
   "metadata": {
    "ExecuteTime": {
     "end_time": "2021-04-10T18:41:53.293582Z",
     "start_time": "2021-04-10T18:41:53.282407Z"
    },
    "_cell_guid": "ffa02f53-30cd-4f7e-bcd9-f74b3c0826c4",
    "_uuid": "55b6621c02ca8d8603d815da74b15ad621b46629"
   },
   "outputs": [
    {
     "name": "stdout",
     "output_type": "stream",
     "text": [
      "['No' 'Yes']\n"
     ]
    }
   ],
   "source": [
    "#There are only 0.014% of self employed so let's change NaN to NOT self_employed\n",
    "#Replace \"NaN\" string from defaultString\n",
    "train_df['self_employed'] = train_df['self_employed'].replace([defaultString], 'No')\n",
    "print(train_df['self_employed'].unique())"
   ]
  },
  {
   "cell_type": "code",
   "execution_count": 8,
   "metadata": {
    "ExecuteTime": {
     "end_time": "2021-04-10T18:41:54.965673Z",
     "start_time": "2021-04-10T18:41:54.951680Z"
    },
    "_cell_guid": "d910581d-4b92-4919-ab5a-85b018158745",
    "_uuid": "b934d97a22a46c36e107d2e0fdeb9f0ee74dc532"
   },
   "outputs": [
    {
     "name": "stdout",
     "output_type": "stream",
     "text": [
      "['Often' 'Rarely' 'Never' 'Sometimes' \"Don't know\"]\n"
     ]
    }
   ],
   "source": [
    "#There are only 0.20% of self work_interfere so let's change NaN to \"Don't know\n",
    "#Replace \"NaN\" string from defaultString\n",
    "\n",
    "train_df['work_interfere'] = train_df['work_interfere'].replace([defaultString], 'Don\\'t know' )\n",
    "print(train_df['work_interfere'].unique())"
   ]
  },
  {
   "cell_type": "code",
   "execution_count": 9,
   "metadata": {
    "ExecuteTime": {
     "end_time": "2021-04-10T18:41:55.505776Z",
     "start_time": "2021-04-10T18:41:55.458776Z"
    }
   },
   "outputs": [
    {
     "data": {
      "text/html": [
       "<div>\n",
       "<style scoped>\n",
       "    .dataframe tbody tr th:only-of-type {\n",
       "        vertical-align: middle;\n",
       "    }\n",
       "\n",
       "    .dataframe tbody tr th {\n",
       "        vertical-align: top;\n",
       "    }\n",
       "\n",
       "    .dataframe thead th {\n",
       "        text-align: right;\n",
       "    }\n",
       "</style>\n",
       "<table border=\"1\" class=\"dataframe\">\n",
       "  <thead>\n",
       "    <tr style=\"text-align: right;\">\n",
       "      <th></th>\n",
       "      <th>Age</th>\n",
       "      <th>Gender</th>\n",
       "      <th>Country</th>\n",
       "      <th>self_employed</th>\n",
       "      <th>family_history</th>\n",
       "      <th>treatment</th>\n",
       "      <th>work_interfere</th>\n",
       "      <th>no_employees</th>\n",
       "      <th>remote_work</th>\n",
       "      <th>tech_company</th>\n",
       "      <th>...</th>\n",
       "      <th>leave</th>\n",
       "      <th>mental_health_consequence</th>\n",
       "      <th>phys_health_consequence</th>\n",
       "      <th>coworkers</th>\n",
       "      <th>supervisor</th>\n",
       "      <th>mental_health_interview</th>\n",
       "      <th>phys_health_interview</th>\n",
       "      <th>mental_vs_physical</th>\n",
       "      <th>obs_consequence</th>\n",
       "      <th>age_range</th>\n",
       "    </tr>\n",
       "  </thead>\n",
       "  <tbody>\n",
       "    <tr>\n",
       "      <th>0</th>\n",
       "      <td>37</td>\n",
       "      <td>female</td>\n",
       "      <td>United States</td>\n",
       "      <td>No</td>\n",
       "      <td>No</td>\n",
       "      <td>Yes</td>\n",
       "      <td>Often</td>\n",
       "      <td>6-25</td>\n",
       "      <td>No</td>\n",
       "      <td>Yes</td>\n",
       "      <td>...</td>\n",
       "      <td>Somewhat easy</td>\n",
       "      <td>No</td>\n",
       "      <td>No</td>\n",
       "      <td>Some of them</td>\n",
       "      <td>Yes</td>\n",
       "      <td>No</td>\n",
       "      <td>Maybe</td>\n",
       "      <td>Yes</td>\n",
       "      <td>No</td>\n",
       "      <td>31-65</td>\n",
       "    </tr>\n",
       "    <tr>\n",
       "      <th>1</th>\n",
       "      <td>44</td>\n",
       "      <td>male</td>\n",
       "      <td>United States</td>\n",
       "      <td>No</td>\n",
       "      <td>No</td>\n",
       "      <td>No</td>\n",
       "      <td>Rarely</td>\n",
       "      <td>More than 1000</td>\n",
       "      <td>No</td>\n",
       "      <td>No</td>\n",
       "      <td>...</td>\n",
       "      <td>Don't know</td>\n",
       "      <td>Maybe</td>\n",
       "      <td>No</td>\n",
       "      <td>No</td>\n",
       "      <td>No</td>\n",
       "      <td>No</td>\n",
       "      <td>No</td>\n",
       "      <td>Don't know</td>\n",
       "      <td>No</td>\n",
       "      <td>31-65</td>\n",
       "    </tr>\n",
       "    <tr>\n",
       "      <th>2</th>\n",
       "      <td>32</td>\n",
       "      <td>male</td>\n",
       "      <td>Canada</td>\n",
       "      <td>No</td>\n",
       "      <td>No</td>\n",
       "      <td>No</td>\n",
       "      <td>Rarely</td>\n",
       "      <td>6-25</td>\n",
       "      <td>No</td>\n",
       "      <td>Yes</td>\n",
       "      <td>...</td>\n",
       "      <td>Somewhat difficult</td>\n",
       "      <td>No</td>\n",
       "      <td>No</td>\n",
       "      <td>Yes</td>\n",
       "      <td>Yes</td>\n",
       "      <td>Yes</td>\n",
       "      <td>Yes</td>\n",
       "      <td>No</td>\n",
       "      <td>No</td>\n",
       "      <td>31-65</td>\n",
       "    </tr>\n",
       "    <tr>\n",
       "      <th>3</th>\n",
       "      <td>31</td>\n",
       "      <td>male</td>\n",
       "      <td>United Kingdom</td>\n",
       "      <td>No</td>\n",
       "      <td>Yes</td>\n",
       "      <td>Yes</td>\n",
       "      <td>Often</td>\n",
       "      <td>26-100</td>\n",
       "      <td>No</td>\n",
       "      <td>Yes</td>\n",
       "      <td>...</td>\n",
       "      <td>Somewhat difficult</td>\n",
       "      <td>Yes</td>\n",
       "      <td>Yes</td>\n",
       "      <td>Some of them</td>\n",
       "      <td>No</td>\n",
       "      <td>Maybe</td>\n",
       "      <td>Maybe</td>\n",
       "      <td>No</td>\n",
       "      <td>Yes</td>\n",
       "      <td>31-65</td>\n",
       "    </tr>\n",
       "    <tr>\n",
       "      <th>4</th>\n",
       "      <td>31</td>\n",
       "      <td>male</td>\n",
       "      <td>United States</td>\n",
       "      <td>No</td>\n",
       "      <td>No</td>\n",
       "      <td>No</td>\n",
       "      <td>Never</td>\n",
       "      <td>100-500</td>\n",
       "      <td>Yes</td>\n",
       "      <td>Yes</td>\n",
       "      <td>...</td>\n",
       "      <td>Don't know</td>\n",
       "      <td>No</td>\n",
       "      <td>No</td>\n",
       "      <td>Some of them</td>\n",
       "      <td>Yes</td>\n",
       "      <td>Yes</td>\n",
       "      <td>Yes</td>\n",
       "      <td>Don't know</td>\n",
       "      <td>No</td>\n",
       "      <td>31-65</td>\n",
       "    </tr>\n",
       "  </tbody>\n",
       "</table>\n",
       "<p>5 rows × 25 columns</p>\n",
       "</div>"
      ],
      "text/plain": [
       "   Age  Gender         Country self_employed family_history treatment  \\\n",
       "0   37  female   United States            No             No       Yes   \n",
       "1   44    male   United States            No             No        No   \n",
       "2   32    male          Canada            No             No        No   \n",
       "3   31    male  United Kingdom            No            Yes       Yes   \n",
       "4   31    male   United States            No             No        No   \n",
       "\n",
       "  work_interfere    no_employees remote_work tech_company  ...  \\\n",
       "0          Often            6-25          No          Yes  ...   \n",
       "1         Rarely  More than 1000          No           No  ...   \n",
       "2         Rarely            6-25          No          Yes  ...   \n",
       "3          Often          26-100          No          Yes  ...   \n",
       "4          Never         100-500         Yes          Yes  ...   \n",
       "\n",
       "                leave mental_health_consequence phys_health_consequence  \\\n",
       "0       Somewhat easy                        No                      No   \n",
       "1          Don't know                     Maybe                      No   \n",
       "2  Somewhat difficult                        No                      No   \n",
       "3  Somewhat difficult                       Yes                     Yes   \n",
       "4          Don't know                        No                      No   \n",
       "\n",
       "      coworkers supervisor mental_health_interview phys_health_interview  \\\n",
       "0  Some of them        Yes                      No                 Maybe   \n",
       "1            No         No                      No                    No   \n",
       "2           Yes        Yes                     Yes                   Yes   \n",
       "3  Some of them         No                   Maybe                 Maybe   \n",
       "4  Some of them        Yes                     Yes                   Yes   \n",
       "\n",
       "  mental_vs_physical obs_consequence age_range  \n",
       "0                Yes              No     31-65  \n",
       "1         Don't know              No     31-65  \n",
       "2                 No              No     31-65  \n",
       "3                 No             Yes     31-65  \n",
       "4         Don't know              No     31-65  \n",
       "\n",
       "[5 rows x 25 columns]"
      ]
     },
     "execution_count": 9,
     "metadata": {},
     "output_type": "execute_result"
    }
   ],
   "source": [
    "train_df.head()"
   ]
  },
  {
   "cell_type": "markdown",
   "metadata": {},
   "source": [
    "### Delete Age and County"
   ]
  },
  {
   "cell_type": "code",
   "execution_count": 27,
   "metadata": {
    "ExecuteTime": {
     "end_time": "2021-04-03T15:23:04.975908Z",
     "start_time": "2021-04-03T15:23:04.968908Z"
    }
   },
   "outputs": [],
   "source": [
    "train_df = train_df.drop(['Age'], axis= 1)\n",
    "# train_df = train_df.drop(['Country'], axis= 1)"
   ]
  },
  {
   "cell_type": "markdown",
   "metadata": {
    "_cell_guid": "b77019bf-b900-4c2b-9676-792860d89825",
    "_uuid": "01bdb3e74278bd61fdbdda9b1f9a3085c873999b"
   },
   "source": [
    "<a id='Encoding_data'></a>\n",
    "## **3. Encoding data**"
   ]
  },
  {
   "cell_type": "code",
   "execution_count": 10,
   "metadata": {
    "ExecuteTime": {
     "end_time": "2021-04-10T18:42:00.280028Z",
     "start_time": "2021-04-10T18:42:00.174994Z"
    },
    "_cell_guid": "05a6455e-187d-4db2-bb71-4fbf2ba6d967",
    "_uuid": "af23578fce1520cbe5fd970b13c7ddd71f442018"
   },
   "outputs": [
    {
     "name": "stdout",
     "output_type": "stream",
     "text": [
      "label_Age [18, 19, 20, 21, 22, 23, 24, 25, 26, 27, 28, 29, 30, 31, 32, 33, 34, 35, 36, 37, 38, 39, 40, 41, 42, 43, 44, 45, 46, 47, 48, 49, 50, 51, 53, 54, 55, 56, 57, 58, 60, 61, 62, 65, 72]\n",
      "label_Gender ['female', 'male', 'trans']\n",
      "label_Country ['Australia', 'Austria', 'Belgium', 'Bosnia and Herzegovina', 'Brazil', 'Bulgaria', 'Canada', 'China', 'Colombia', 'Costa Rica', 'Croatia', 'Czech Republic', 'Denmark', 'Finland', 'France', 'Georgia', 'Germany', 'Greece', 'Hungary', 'India', 'Ireland', 'Israel', 'Italy', 'Japan', 'Latvia', 'Mexico', 'Moldova', 'Netherlands', 'New Zealand', 'Nigeria', 'Norway', 'Philippines', 'Poland', 'Portugal', 'Romania', 'Russia', 'Singapore', 'Slovenia', 'South Africa', 'Spain', 'Sweden', 'Switzerland', 'Thailand', 'United Kingdom', 'United States', 'Uruguay', 'Zimbabwe']\n",
      "label_self_employed ['No', 'Yes']\n",
      "label_family_history ['No', 'Yes']\n",
      "label_treatment ['No', 'Yes']\n",
      "label_work_interfere [\"Don't know\", 'Never', 'Often', 'Rarely', 'Sometimes']\n",
      "label_no_employees ['1-5', '100-500', '26-100', '500-1000', '6-25', 'More than 1000']\n",
      "label_remote_work ['No', 'Yes']\n",
      "label_tech_company ['No', 'Yes']\n",
      "label_benefits [\"Don't know\", 'No', 'Yes']\n",
      "label_care_options ['No', 'Not sure', 'Yes']\n",
      "label_wellness_program [\"Don't know\", 'No', 'Yes']\n",
      "label_seek_help [\"Don't know\", 'No', 'Yes']\n",
      "label_anonymity [\"Don't know\", 'No', 'Yes']\n",
      "label_leave [\"Don't know\", 'Somewhat difficult', 'Somewhat easy', 'Very difficult', 'Very easy']\n",
      "label_mental_health_consequence ['Maybe', 'No', 'Yes']\n",
      "label_phys_health_consequence ['Maybe', 'No', 'Yes']\n",
      "label_coworkers ['No', 'Some of them', 'Yes']\n",
      "label_supervisor ['No', 'Some of them', 'Yes']\n",
      "label_mental_health_interview ['Maybe', 'No', 'Yes']\n",
      "label_phys_health_interview ['Maybe', 'No', 'Yes']\n",
      "label_mental_vs_physical [\"Don't know\", 'No', 'Yes']\n",
      "label_obs_consequence ['No', 'Yes']\n",
      "label_age_range ['0-20', '21-30', '31-65', '66-100']\n"
     ]
    },
    {
     "data": {
      "text/html": [
       "<div>\n",
       "<style scoped>\n",
       "    .dataframe tbody tr th:only-of-type {\n",
       "        vertical-align: middle;\n",
       "    }\n",
       "\n",
       "    .dataframe tbody tr th {\n",
       "        vertical-align: top;\n",
       "    }\n",
       "\n",
       "    .dataframe thead th {\n",
       "        text-align: right;\n",
       "    }\n",
       "</style>\n",
       "<table border=\"1\" class=\"dataframe\">\n",
       "  <thead>\n",
       "    <tr style=\"text-align: right;\">\n",
       "      <th></th>\n",
       "      <th>Age</th>\n",
       "      <th>Gender</th>\n",
       "      <th>self_employed</th>\n",
       "      <th>family_history</th>\n",
       "      <th>treatment</th>\n",
       "      <th>work_interfere</th>\n",
       "      <th>no_employees</th>\n",
       "      <th>remote_work</th>\n",
       "      <th>tech_company</th>\n",
       "      <th>benefits</th>\n",
       "      <th>...</th>\n",
       "      <th>leave</th>\n",
       "      <th>mental_health_consequence</th>\n",
       "      <th>phys_health_consequence</th>\n",
       "      <th>coworkers</th>\n",
       "      <th>supervisor</th>\n",
       "      <th>mental_health_interview</th>\n",
       "      <th>phys_health_interview</th>\n",
       "      <th>mental_vs_physical</th>\n",
       "      <th>obs_consequence</th>\n",
       "      <th>age_range</th>\n",
       "    </tr>\n",
       "  </thead>\n",
       "  <tbody>\n",
       "    <tr>\n",
       "      <th>0</th>\n",
       "      <td>19</td>\n",
       "      <td>0</td>\n",
       "      <td>0</td>\n",
       "      <td>0</td>\n",
       "      <td>1</td>\n",
       "      <td>2</td>\n",
       "      <td>4</td>\n",
       "      <td>0</td>\n",
       "      <td>1</td>\n",
       "      <td>2</td>\n",
       "      <td>...</td>\n",
       "      <td>2</td>\n",
       "      <td>1</td>\n",
       "      <td>1</td>\n",
       "      <td>1</td>\n",
       "      <td>2</td>\n",
       "      <td>1</td>\n",
       "      <td>0</td>\n",
       "      <td>2</td>\n",
       "      <td>0</td>\n",
       "      <td>2</td>\n",
       "    </tr>\n",
       "    <tr>\n",
       "      <th>1</th>\n",
       "      <td>26</td>\n",
       "      <td>1</td>\n",
       "      <td>0</td>\n",
       "      <td>0</td>\n",
       "      <td>0</td>\n",
       "      <td>3</td>\n",
       "      <td>5</td>\n",
       "      <td>0</td>\n",
       "      <td>0</td>\n",
       "      <td>0</td>\n",
       "      <td>...</td>\n",
       "      <td>0</td>\n",
       "      <td>0</td>\n",
       "      <td>1</td>\n",
       "      <td>0</td>\n",
       "      <td>0</td>\n",
       "      <td>1</td>\n",
       "      <td>1</td>\n",
       "      <td>0</td>\n",
       "      <td>0</td>\n",
       "      <td>2</td>\n",
       "    </tr>\n",
       "    <tr>\n",
       "      <th>2</th>\n",
       "      <td>14</td>\n",
       "      <td>1</td>\n",
       "      <td>0</td>\n",
       "      <td>0</td>\n",
       "      <td>0</td>\n",
       "      <td>3</td>\n",
       "      <td>4</td>\n",
       "      <td>0</td>\n",
       "      <td>1</td>\n",
       "      <td>1</td>\n",
       "      <td>...</td>\n",
       "      <td>1</td>\n",
       "      <td>1</td>\n",
       "      <td>1</td>\n",
       "      <td>2</td>\n",
       "      <td>2</td>\n",
       "      <td>2</td>\n",
       "      <td>2</td>\n",
       "      <td>1</td>\n",
       "      <td>0</td>\n",
       "      <td>2</td>\n",
       "    </tr>\n",
       "    <tr>\n",
       "      <th>3</th>\n",
       "      <td>13</td>\n",
       "      <td>1</td>\n",
       "      <td>0</td>\n",
       "      <td>1</td>\n",
       "      <td>1</td>\n",
       "      <td>2</td>\n",
       "      <td>2</td>\n",
       "      <td>0</td>\n",
       "      <td>1</td>\n",
       "      <td>1</td>\n",
       "      <td>...</td>\n",
       "      <td>1</td>\n",
       "      <td>2</td>\n",
       "      <td>2</td>\n",
       "      <td>1</td>\n",
       "      <td>0</td>\n",
       "      <td>0</td>\n",
       "      <td>0</td>\n",
       "      <td>1</td>\n",
       "      <td>1</td>\n",
       "      <td>2</td>\n",
       "    </tr>\n",
       "    <tr>\n",
       "      <th>4</th>\n",
       "      <td>13</td>\n",
       "      <td>1</td>\n",
       "      <td>0</td>\n",
       "      <td>0</td>\n",
       "      <td>0</td>\n",
       "      <td>1</td>\n",
       "      <td>1</td>\n",
       "      <td>1</td>\n",
       "      <td>1</td>\n",
       "      <td>2</td>\n",
       "      <td>...</td>\n",
       "      <td>0</td>\n",
       "      <td>1</td>\n",
       "      <td>1</td>\n",
       "      <td>1</td>\n",
       "      <td>2</td>\n",
       "      <td>2</td>\n",
       "      <td>2</td>\n",
       "      <td>0</td>\n",
       "      <td>0</td>\n",
       "      <td>2</td>\n",
       "    </tr>\n",
       "  </tbody>\n",
       "</table>\n",
       "<p>5 rows × 24 columns</p>\n",
       "</div>"
      ],
      "text/plain": [
       "   Age  Gender  self_employed  family_history  treatment  work_interfere  \\\n",
       "0   19       0              0               0          1               2   \n",
       "1   26       1              0               0          0               3   \n",
       "2   14       1              0               0          0               3   \n",
       "3   13       1              0               1          1               2   \n",
       "4   13       1              0               0          0               1   \n",
       "\n",
       "   no_employees  remote_work  tech_company  benefits  ...  leave  \\\n",
       "0             4            0             1         2  ...      2   \n",
       "1             5            0             0         0  ...      0   \n",
       "2             4            0             1         1  ...      1   \n",
       "3             2            0             1         1  ...      1   \n",
       "4             1            1             1         2  ...      0   \n",
       "\n",
       "   mental_health_consequence  phys_health_consequence  coworkers  supervisor  \\\n",
       "0                          1                        1          1           2   \n",
       "1                          0                        1          0           0   \n",
       "2                          1                        1          2           2   \n",
       "3                          2                        2          1           0   \n",
       "4                          1                        1          1           2   \n",
       "\n",
       "   mental_health_interview  phys_health_interview  mental_vs_physical  \\\n",
       "0                        1                      0                   2   \n",
       "1                        1                      1                   0   \n",
       "2                        2                      2                   1   \n",
       "3                        0                      0                   1   \n",
       "4                        2                      2                   0   \n",
       "\n",
       "   obs_consequence  age_range  \n",
       "0                0          2  \n",
       "1                0          2  \n",
       "2                0          2  \n",
       "3                1          2  \n",
       "4                0          2  \n",
       "\n",
       "[5 rows x 24 columns]"
      ]
     },
     "execution_count": 10,
     "metadata": {},
     "output_type": "execute_result"
    }
   ],
   "source": [
    "#Encoding data\n",
    "labelDict = {}\n",
    "for feature in train_df:\n",
    "    le = preprocessing.LabelEncoder()\n",
    "    le.fit(train_df[feature])\n",
    "    le_name_mapping = dict(zip(le.classes_, le.transform(le.classes_)))\n",
    "    train_df[feature] = le.transform(train_df[feature])\n",
    "    # Get labels\n",
    "    np.save(f'label/{feature}.npy', le.classes_)\n",
    "    labelKey = 'label_' + feature\n",
    "    labelValue = [*le_name_mapping]\n",
    "    labelDict[labelKey] =labelValue\n",
    "    \n",
    "for key, value in labelDict.items():     \n",
    "    print(key, value)\n",
    "\n",
    "#Get rid of 'Country'\n",
    "train_df = train_df.drop(['Country'], axis= 1)\n",
    "train_df.head()\n",
    "\n"
   ]
  },
  {
   "cell_type": "markdown",
   "metadata": {
    "_cell_guid": "38b322d1-4aa6-468d-b370-cc93d43272c2",
    "_uuid": "f1cc9baff7c37cdad9014bccd875f0328b9c0d9b"
   },
   "source": [
    "### Testing there aren't any missing data"
   ]
  },
  {
   "cell_type": "code",
   "execution_count": 11,
   "metadata": {
    "ExecuteTime": {
     "end_time": "2021-04-10T18:42:03.591873Z",
     "start_time": "2021-04-10T18:42:03.558872Z"
    },
    "_cell_guid": "0031aa27-9d12-4cae-b59a-9897371789c0",
    "_uuid": "0958b0da3e0f1e2aa54914da431f47a773b8dec0"
   },
   "outputs": [
    {
     "name": "stdout",
     "output_type": "stream",
     "text": [
      "                           Total  Percent\n",
      "Age                            0      0.0\n",
      "Gender                         0      0.0\n",
      "obs_consequence                0      0.0\n",
      "mental_vs_physical             0      0.0\n",
      "phys_health_interview          0      0.0\n",
      "mental_health_interview        0      0.0\n",
      "supervisor                     0      0.0\n",
      "coworkers                      0      0.0\n",
      "phys_health_consequence        0      0.0\n",
      "mental_health_consequence      0      0.0\n",
      "leave                          0      0.0\n",
      "anonymity                      0      0.0\n",
      "seek_help                      0      0.0\n",
      "wellness_program               0      0.0\n",
      "care_options                   0      0.0\n",
      "benefits                       0      0.0\n",
      "tech_company                   0      0.0\n",
      "remote_work                    0      0.0\n",
      "no_employees                   0      0.0\n",
      "work_interfere                 0      0.0\n",
      "treatment                      0      0.0\n",
      "family_history                 0      0.0\n",
      "self_employed                  0      0.0\n",
      "age_range                      0      0.0\n"
     ]
    }
   ],
   "source": [
    "#missing data\n",
    "total = train_df.isnull().sum().sort_values(ascending=False)\n",
    "percent = (train_df.isnull().sum()/train_df.isnull().count()).sort_values(ascending=False)\n",
    "missing_data = pd.concat([total, percent], axis=1, keys=['Total', 'Percent'])\n",
    "missing_data.head(20)\n",
    "print(missing_data)"
   ]
  },
  {
   "cell_type": "markdown",
   "metadata": {
    "_cell_guid": "245bfde3-4bf8-4f4f-8cc6-9e1d95b632a7",
    "_uuid": "d9c414ad9ba5ed0ceb519beb410bccd8c12a117e"
   },
   "source": [
    "Features Scaling\n",
    "We're going to scale age, because is extremely different from the othere ones."
   ]
  },
  {
   "cell_type": "markdown",
   "metadata": {
    "_cell_guid": "b56ba09c-796d-4515-95fc-b36611cdb266",
    "_uuid": "75911eb1235de12aa6277ec8751d336f60ba9eb8"
   },
   "source": [
    "<a id='Covariance_Matrix'></a>\n",
    "## **4. Covariance Matrix. Variability comparison between categories of variables** "
   ]
  },
  {
   "cell_type": "code",
   "execution_count": 42,
   "metadata": {
    "ExecuteTime": {
     "end_time": "2021-04-03T16:00:36.854665Z",
     "start_time": "2021-04-03T16:00:35.400342Z"
    },
    "_cell_guid": "fa764109-e028-4ca6-a167-281f8dcf1056",
    "_uuid": "db911626ce6498bac062d8dc7e01bfe670427fb4"
   },
   "outputs": [
    {
     "data": {
      "image/png": "[encoded data removed]",
      "text/plain": [
       "<Figure size 864x648 with 2 Axes>"
      ]
     },
     "metadata": {
      "needs_background": "light"
     },
     "output_type": "display_data"
    },
    {
     "data": {
      "image/png": "[encoded data removed]",
      "text/plain": [
       "<Figure size 432x288 with 2 Axes>"
      ]
     },
     "metadata": {},
     "output_type": "display_data"
    }
   ],
   "source": [
    "#correlation matrix\n",
    "corrmat = train_df.corr()\n",
    "f, ax = plt.subplots(figsize=(12, 9))\n",
    "sns.heatmap(corrmat, vmax=.8, square=True);\n",
    "plt.show()\n",
    "\n",
    "#treatment correlation matrix\n",
    "k = 10 #number of variables for heatmap\n",
    "cols = corrmat.nlargest(k, 'treatment')['treatment'].index\n",
    "cm = np.corrcoef(train_df[cols].values.T)\n",
    "sns.set(font_scale=1.25)\n",
    "hm = sns.heatmap(cm, cbar=True, annot=True, square=True, fmt='.2f', annot_kws={'size': 10}, yticklabels=cols.values, xticklabels=cols.values)\n",
    "plt.show()\n",
    "\n"
   ]
  },
  {
   "cell_type": "markdown",
   "metadata": {
    "_cell_guid": "f71d0c3d-8554-4478-b1d5-7aa461fcb7bb",
    "_uuid": "22adfaf19848e1103804bf8737cb5656fcac5388"
   },
   "source": [
    "<a id='Some_charts_to_see_data_relationship'></a>\n",
    "## **5. Some charts to see data relationship** "
   ]
  },
  {
   "cell_type": "markdown",
   "metadata": {
    "_cell_guid": "2af9fb8b-79ac-4444-95b0-210c704afef9",
    "_uuid": "39488f9878f2ab937c4ce888eb82eba133fb175c"
   },
   "source": [
    "Distribiution and density by Age"
   ]
  },
  {
   "cell_type": "code",
   "execution_count": 43,
   "metadata": {
    "ExecuteTime": {
     "end_time": "2021-04-03T16:00:42.366580Z",
     "start_time": "2021-04-03T16:00:41.558256Z"
    },
    "_cell_guid": "89387b66-3a36-4b3f-98a4-254253452056",
    "_uuid": "e7288897925d3f340ba4c2e73d2ef61c6ca28c4f"
   },
   "outputs": [
    {
     "name": "stderr",
     "output_type": "stream",
     "text": [
      "c:\\users\\miair\\appdata\\local\\programs\\python\\python39\\lib\\site-packages\\seaborn\\distributions.py:2557: FutureWarning: `distplot` is a deprecated function and will be removed in a future version. Please adapt your code to use either `displot` (a figure-level function with similar flexibility) or `histplot` (an axes-level function for histograms).\n",
      "  warnings.warn(msg, FutureWarning)\n"
     ]
    },
    {
     "data": {
      "text/plain": [
       "Text(0.5, 0, 'Age')"
      ]
     },
     "execution_count": 43,
     "metadata": {},
     "output_type": "execute_result"
    },
    {
     "data": {
      "image/png": "[encoded data removed]",
      "text/plain": [
       "<Figure size 864x576 with 1 Axes>"
      ]
     },
     "metadata": {},
     "output_type": "display_data"
    }
   ],
   "source": [
    "# Distribiution and density by Age\n",
    "plt.figure(figsize=(12,8))\n",
    "sns.distplot(train_df[\"Age\"], bins=24)\n",
    "plt.title(\"Distribuition and density by Age\")\n",
    "plt.xlabel(\"Age\")\n",
    "\n"
   ]
  },
  {
   "cell_type": "markdown",
   "metadata": {
    "_cell_guid": "a8880fbd-1545-48dd-a850-1ccc6214bcdc",
    "_uuid": "9c24e2674ba7fe8cfecc0b911e6773512b7099c5"
   },
   "source": [
    "Separate by treatment"
   ]
  },
  {
   "cell_type": "code",
   "execution_count": 25,
   "metadata": {
    "ExecuteTime": {
     "end_time": "2021-03-27T11:36:09.361278Z",
     "start_time": "2021-03-27T11:36:08.733281Z"
    },
    "_cell_guid": "b464a345-00b2-47a2-9d3e-c7074cfaf790",
    "_uuid": "2cc9d4abe3ca092a5bf9b7a9cd9f0b4d443c0471"
   },
   "outputs": [
    {
     "name": "stderr",
     "output_type": "stream",
     "text": [
      "c:\\users\\miair\\appdata\\local\\programs\\python\\python39\\lib\\site-packages\\seaborn\\axisgrid.py:316: UserWarning: The `size` parameter has been renamed to `height`; please update your code.\n",
      "  warnings.warn(msg, UserWarning)\n",
      "c:\\users\\miair\\appdata\\local\\programs\\python\\python39\\lib\\site-packages\\seaborn\\distributions.py:2557: FutureWarning: `distplot` is a deprecated function and will be removed in a future version. Please adapt your code to use either `displot` (a figure-level function with similar flexibility) or `histplot` (an axes-level function for histograms).\n",
      "  warnings.warn(msg, FutureWarning)\n",
      "c:\\users\\miair\\appdata\\local\\programs\\python\\python39\\lib\\site-packages\\seaborn\\distributions.py:2557: FutureWarning: `distplot` is a deprecated function and will be removed in a future version. Please adapt your code to use either `displot` (a figure-level function with similar flexibility) or `histplot` (an axes-level function for histograms).\n",
      "  warnings.warn(msg, FutureWarning)\n"
     ]
    },
    {
     "data": {
      "image/png": "[encoded data removed]",
      "text/plain": [
       "<Figure size 720x360 with 2 Axes>"
      ]
     },
     "metadata": {},
     "output_type": "display_data"
    }
   ],
   "source": [
    "# Separate by treatment or not\n",
    "\n",
    "g = sns.FacetGrid(train_df, col='treatment', size=5)\n",
    "g = g.map(sns.distplot, \"Age\")"
   ]
  },
  {
   "cell_type": "markdown",
   "metadata": {
    "_cell_guid": "20b446a7-fe87-478d-9328-de7ea7afea5b",
    "_uuid": "1bfd6affb0501138a98d4dbc9c70ad491b35962c"
   },
   "source": [
    "How many people has been treated?"
   ]
  },
  {
   "cell_type": "code",
   "execution_count": 26,
   "metadata": {
    "ExecuteTime": {
     "end_time": "2021-03-27T11:36:10.645741Z",
     "start_time": "2021-03-27T11:36:10.484704Z"
    },
    "_cell_guid": "81f1eb2a-c3ac-433d-a674-24aa6a33d287",
    "_uuid": "ac35d322a601a3ff9fdde64fa5e33b28dbdd10e5"
   },
   "outputs": [
    {
     "ename": "ValueError",
     "evalue": "The number of FixedLocator locations (2), usually from a call to set_ticks, does not match the number of ticklabels (3).",
     "output_type": "error",
     "traceback": [
      "\u001b[1;31m---------------------------------------------------------------------------\u001b[0m",
      "\u001b[1;31mValueError\u001b[0m                                Traceback (most recent call last)",
      "\u001b[1;32m<ipython-input-26-ccfe2a9e5860>\u001b[0m in \u001b[0;36m<module>\u001b[1;34m\u001b[0m\n\u001b[0;32m      3\u001b[0m \u001b[0mlabels\u001b[0m \u001b[1;33m=\u001b[0m \u001b[0mlabelDict\u001b[0m\u001b[1;33m[\u001b[0m\u001b[1;34m'label_Gender'\u001b[0m\u001b[1;33m]\u001b[0m\u001b[1;33m\u001b[0m\u001b[1;33m\u001b[0m\u001b[0m\n\u001b[0;32m      4\u001b[0m \u001b[0mg\u001b[0m \u001b[1;33m=\u001b[0m \u001b[0msns\u001b[0m\u001b[1;33m.\u001b[0m\u001b[0mcountplot\u001b[0m\u001b[1;33m(\u001b[0m\u001b[0mx\u001b[0m\u001b[1;33m=\u001b[0m\u001b[1;34m\"treatment\"\u001b[0m\u001b[1;33m,\u001b[0m \u001b[0mdata\u001b[0m\u001b[1;33m=\u001b[0m\u001b[0mtrain_df\u001b[0m\u001b[1;33m)\u001b[0m\u001b[1;33m\u001b[0m\u001b[1;33m\u001b[0m\u001b[0m\n\u001b[1;32m----> 5\u001b[1;33m \u001b[0mg\u001b[0m\u001b[1;33m.\u001b[0m\u001b[0mset_xticklabels\u001b[0m\u001b[1;33m(\u001b[0m\u001b[0mlabels\u001b[0m\u001b[1;33m)\u001b[0m\u001b[1;33m\u001b[0m\u001b[1;33m\u001b[0m\u001b[0m\n\u001b[0m\u001b[0;32m      6\u001b[0m \u001b[1;33m\u001b[0m\u001b[0m\n\u001b[0;32m      7\u001b[0m \u001b[0mplt\u001b[0m\u001b[1;33m.\u001b[0m\u001b[0mtitle\u001b[0m\u001b[1;33m(\u001b[0m\u001b[1;34m'Total Distribuition by treated or not'\u001b[0m\u001b[1;33m)\u001b[0m\u001b[1;33m\u001b[0m\u001b[1;33m\u001b[0m\u001b[0m\n",
      "\u001b[1;32mc:\\users\\miair\\appdata\\local\\programs\\python\\python39\\lib\\site-packages\\matplotlib\\axes\\_base.py\u001b[0m in \u001b[0;36mwrapper\u001b[1;34m(self, *args, **kwargs)\u001b[0m\n\u001b[0;32m     71\u001b[0m \u001b[1;33m\u001b[0m\u001b[0m\n\u001b[0;32m     72\u001b[0m         \u001b[1;32mdef\u001b[0m \u001b[0mwrapper\u001b[0m\u001b[1;33m(\u001b[0m\u001b[0mself\u001b[0m\u001b[1;33m,\u001b[0m \u001b[1;33m*\u001b[0m\u001b[0margs\u001b[0m\u001b[1;33m,\u001b[0m \u001b[1;33m**\u001b[0m\u001b[0mkwargs\u001b[0m\u001b[1;33m)\u001b[0m\u001b[1;33m:\u001b[0m\u001b[1;33m\u001b[0m\u001b[1;33m\u001b[0m\u001b[0m\n\u001b[1;32m---> 73\u001b[1;33m             \u001b[1;32mreturn\u001b[0m \u001b[0mget_method\u001b[0m\u001b[1;33m(\u001b[0m\u001b[0mself\u001b[0m\u001b[1;33m)\u001b[0m\u001b[1;33m(\u001b[0m\u001b[1;33m*\u001b[0m\u001b[0margs\u001b[0m\u001b[1;33m,\u001b[0m \u001b[1;33m**\u001b[0m\u001b[0mkwargs\u001b[0m\u001b[1;33m)\u001b[0m\u001b[1;33m\u001b[0m\u001b[1;33m\u001b[0m\u001b[0m\n\u001b[0m\u001b[0;32m     74\u001b[0m \u001b[1;33m\u001b[0m\u001b[0m\n\u001b[0;32m     75\u001b[0m         \u001b[0mwrapper\u001b[0m\u001b[1;33m.\u001b[0m\u001b[0m__module__\u001b[0m \u001b[1;33m=\u001b[0m \u001b[0mowner\u001b[0m\u001b[1;33m.\u001b[0m\u001b[0m__module__\u001b[0m\u001b[1;33m\u001b[0m\u001b[1;33m\u001b[0m\u001b[0m\n",
      "\u001b[1;32mc:\\users\\miair\\appdata\\local\\programs\\python\\python39\\lib\\site-packages\\matplotlib\\_api\\deprecation.py\u001b[0m in \u001b[0;36mwrapper\u001b[1;34m(*args, **kwargs)\u001b[0m\n\u001b[0;32m    469\u001b[0m                 \u001b[1;34m\"parameter will become keyword-only %(removal)s.\"\u001b[0m\u001b[1;33m,\u001b[0m\u001b[1;33m\u001b[0m\u001b[1;33m\u001b[0m\u001b[0m\n\u001b[0;32m    470\u001b[0m                 name=name, obj_type=f\"parameter of {func.__name__}()\")\n\u001b[1;32m--> 471\u001b[1;33m         \u001b[1;32mreturn\u001b[0m \u001b[0mfunc\u001b[0m\u001b[1;33m(\u001b[0m\u001b[1;33m*\u001b[0m\u001b[0margs\u001b[0m\u001b[1;33m,\u001b[0m \u001b[1;33m**\u001b[0m\u001b[0mkwargs\u001b[0m\u001b[1;33m)\u001b[0m\u001b[1;33m\u001b[0m\u001b[1;33m\u001b[0m\u001b[0m\n\u001b[0m\u001b[0;32m    472\u001b[0m \u001b[1;33m\u001b[0m\u001b[0m\n\u001b[0;32m    473\u001b[0m     \u001b[1;32mreturn\u001b[0m \u001b[0mwrapper\u001b[0m\u001b[1;33m\u001b[0m\u001b[1;33m\u001b[0m\u001b[0m\n",
      "\u001b[1;32mc:\\users\\miair\\appdata\\local\\programs\\python\\python39\\lib\\site-packages\\matplotlib\\axis.py\u001b[0m in \u001b[0;36m_set_ticklabels\u001b[1;34m(self, labels, fontdict, minor, **kwargs)\u001b[0m\n\u001b[0;32m   1777\u001b[0m         \u001b[1;32mif\u001b[0m \u001b[0mfontdict\u001b[0m \u001b[1;32mis\u001b[0m \u001b[1;32mnot\u001b[0m \u001b[1;32mNone\u001b[0m\u001b[1;33m:\u001b[0m\u001b[1;33m\u001b[0m\u001b[1;33m\u001b[0m\u001b[0m\n\u001b[0;32m   1778\u001b[0m             \u001b[0mkwargs\u001b[0m\u001b[1;33m.\u001b[0m\u001b[0mupdate\u001b[0m\u001b[1;33m(\u001b[0m\u001b[0mfontdict\u001b[0m\u001b[1;33m)\u001b[0m\u001b[1;33m\u001b[0m\u001b[1;33m\u001b[0m\u001b[0m\n\u001b[1;32m-> 1779\u001b[1;33m         \u001b[1;32mreturn\u001b[0m \u001b[0mself\u001b[0m\u001b[1;33m.\u001b[0m\u001b[0mset_ticklabels\u001b[0m\u001b[1;33m(\u001b[0m\u001b[0mlabels\u001b[0m\u001b[1;33m,\u001b[0m \u001b[0mminor\u001b[0m\u001b[1;33m=\u001b[0m\u001b[0mminor\u001b[0m\u001b[1;33m,\u001b[0m \u001b[1;33m**\u001b[0m\u001b[0mkwargs\u001b[0m\u001b[1;33m)\u001b[0m\u001b[1;33m\u001b[0m\u001b[1;33m\u001b[0m\u001b[0m\n\u001b[0m\u001b[0;32m   1780\u001b[0m \u001b[1;33m\u001b[0m\u001b[0m\n\u001b[0;32m   1781\u001b[0m     \u001b[1;32mdef\u001b[0m \u001b[0mset_ticks\u001b[0m\u001b[1;33m(\u001b[0m\u001b[0mself\u001b[0m\u001b[1;33m,\u001b[0m \u001b[0mticks\u001b[0m\u001b[1;33m,\u001b[0m \u001b[1;33m*\u001b[0m\u001b[1;33m,\u001b[0m \u001b[0mminor\u001b[0m\u001b[1;33m=\u001b[0m\u001b[1;32mFalse\u001b[0m\u001b[1;33m)\u001b[0m\u001b[1;33m:\u001b[0m\u001b[1;33m\u001b[0m\u001b[1;33m\u001b[0m\u001b[0m\n",
      "\u001b[1;32mc:\\users\\miair\\appdata\\local\\programs\\python\\python39\\lib\\site-packages\\matplotlib\\axis.py\u001b[0m in \u001b[0;36mset_ticklabels\u001b[1;34m(self, ticklabels, minor, **kwargs)\u001b[0m\n\u001b[0;32m   1698\u001b[0m             \u001b[1;31m# remove all tick labels, so only error for > 0 ticklabels\u001b[0m\u001b[1;33m\u001b[0m\u001b[1;33m\u001b[0m\u001b[1;33m\u001b[0m\u001b[0m\n\u001b[0;32m   1699\u001b[0m             \u001b[1;32mif\u001b[0m \u001b[0mlen\u001b[0m\u001b[1;33m(\u001b[0m\u001b[0mlocator\u001b[0m\u001b[1;33m.\u001b[0m\u001b[0mlocs\u001b[0m\u001b[1;33m)\u001b[0m \u001b[1;33m!=\u001b[0m \u001b[0mlen\u001b[0m\u001b[1;33m(\u001b[0m\u001b[0mticklabels\u001b[0m\u001b[1;33m)\u001b[0m \u001b[1;32mand\u001b[0m \u001b[0mlen\u001b[0m\u001b[1;33m(\u001b[0m\u001b[0mticklabels\u001b[0m\u001b[1;33m)\u001b[0m \u001b[1;33m!=\u001b[0m \u001b[1;36m0\u001b[0m\u001b[1;33m:\u001b[0m\u001b[1;33m\u001b[0m\u001b[1;33m\u001b[0m\u001b[0m\n\u001b[1;32m-> 1700\u001b[1;33m                 raise ValueError(\n\u001b[0m\u001b[0;32m   1701\u001b[0m                     \u001b[1;34m\"The number of FixedLocator locations\"\u001b[0m\u001b[1;33m\u001b[0m\u001b[1;33m\u001b[0m\u001b[0m\n\u001b[0;32m   1702\u001b[0m                     \u001b[1;34mf\" ({len(locator.locs)}), usually from a call to\"\u001b[0m\u001b[1;33m\u001b[0m\u001b[1;33m\u001b[0m\u001b[0m\n",
      "\u001b[1;31mValueError\u001b[0m: The number of FixedLocator locations (2), usually from a call to set_ticks, does not match the number of ticklabels (3)."
     ]
    },
    {
     "data": {
      "image/png": "[encoded data removed]",
      "text/plain": [
       "<Figure size 864x576 with 1 Axes>"
      ]
     },
     "metadata": {},
     "output_type": "display_data"
    }
   ],
   "source": [
    "# Let see how many people has been treated\n",
    "plt.figure(figsize=(12,8))\n",
    "labels = labelDict['label_Gender']\n",
    "g = sns.countplot(x=\"treatment\", data=train_df)\n",
    "g.set_xticklabels(labels)\n",
    "\n",
    "plt.title('Total Distribuition by treated or not')"
   ]
  },
  {
   "cell_type": "markdown",
   "metadata": {
    "_cell_guid": "d7a9a45c-0df3-48a4-9ab2-e5aaae9abe7f",
    "_uuid": "a781bf88a14f5bb937ede09d81365f16bdcbbe3f"
   },
   "source": [
    "Draw a nested barplot to show probabilities for class and sex"
   ]
  },
  {
   "cell_type": "code",
   "execution_count": 27,
   "metadata": {
    "ExecuteTime": {
     "end_time": "2021-03-27T11:36:21.822480Z",
     "start_time": "2021-03-27T11:36:21.515483Z"
    },
    "_cell_guid": "210c02cf-9296-4373-8725-bd13b819a9e4",
    "_uuid": "2b931335e19a15bf897fa8a6eabcd26cb263503a",
    "scrolled": true
   },
   "outputs": [
    {
     "name": "stderr",
     "output_type": "stream",
     "text": [
      "c:\\users\\miair\\appdata\\local\\programs\\python\\python39\\lib\\site-packages\\seaborn\\categorical.py:3714: UserWarning: The `factorplot` function has been renamed to `catplot`. The original name will be removed in a future release. Please update your code. Note that the default `kind` in `factorplot` (`'point'`) has changed `'strip'` in `catplot`.\n",
      "  warnings.warn(msg)\n",
      "c:\\users\\miair\\appdata\\local\\programs\\python\\python39\\lib\\site-packages\\seaborn\\categorical.py:3720: UserWarning: The `size` parameter has been renamed to `height`; please update your code.\n",
      "  warnings.warn(msg, UserWarning)\n"
     ]
    },
    {
     "data": {
      "image/png": "[encoded data removed]",
      "text/plain": [
       "<Figure size 781.125x360 with 1 Axes>"
      ]
     },
     "metadata": {},
     "output_type": "display_data"
    }
   ],
   "source": [
    "o = labelDict['label_age_range']\n",
    "\n",
    "g = sns.factorplot(x=\"age_range\", y=\"treatment\", hue=\"Gender\", data=train_df, kind=\"bar\",  ci=None, size=5, aspect=2, legend_out = True)\n",
    "g.set_xticklabels(o)\n",
    "\n",
    "plt.title('Probability of mental health condition')\n",
    "plt.ylabel('Probability x 100')\n",
    "plt.xlabel('Age')\n",
    "# replace legend labels\n",
    "\n",
    "new_labels = labelDict['label_Gender']\n",
    "for t, l in zip(g._legend.texts, new_labels): t.set_text(l)\n",
    "\n",
    "# Positioning the legend\n",
    "g.fig.subplots_adjust(top=0.9,right=0.8)\n",
    "\n",
    "plt.show()"
   ]
  },
  {
   "cell_type": "markdown",
   "metadata": {
    "_cell_guid": "6517af95-3b02-4b50-b246-ea56f61f6113",
    "_uuid": "4ed2e62093d643cf105829ff2ae9a9917b110996"
   },
   "source": [
    "Barplot to show probabilities for family history"
   ]
  },
  {
   "cell_type": "code",
   "execution_count": 28,
   "metadata": {
    "ExecuteTime": {
     "end_time": "2021-03-27T11:36:25.935076Z",
     "start_time": "2021-03-27T11:36:25.651081Z"
    },
    "_cell_guid": "b93d6150-b23a-4b71-8cf8-a10b811152a8",
    "_uuid": "605bf86a497f0b7989b57a3458088131f564e2a8"
   },
   "outputs": [
    {
     "name": "stderr",
     "output_type": "stream",
     "text": [
      "c:\\users\\miair\\appdata\\local\\programs\\python\\python39\\lib\\site-packages\\seaborn\\categorical.py:3714: UserWarning: The `factorplot` function has been renamed to `catplot`. The original name will be removed in a future release. Please update your code. Note that the default `kind` in `factorplot` (`'point'`) has changed `'strip'` in `catplot`.\n",
      "  warnings.warn(msg)\n",
      "c:\\users\\miair\\appdata\\local\\programs\\python\\python39\\lib\\site-packages\\seaborn\\categorical.py:3720: UserWarning: The `size` parameter has been renamed to `height`; please update your code.\n",
      "  warnings.warn(msg, UserWarning)\n"
     ]
    },
    {
     "data": {
      "image/png": "[encoded data removed]",
      "text/plain": [
       "<Figure size 781.125x360 with 1 Axes>"
      ]
     },
     "metadata": {},
     "output_type": "display_data"
    }
   ],
   "source": [
    "o = labelDict['label_family_history']\n",
    "g = sns.factorplot(x=\"family_history\", y=\"treatment\", hue=\"Gender\", data=train_df, kind=\"bar\", ci=None, size=5, aspect=2, legend_out = True)\n",
    "g.set_xticklabels(o)\n",
    "plt.title('Probability of mental health condition')\n",
    "plt.ylabel('Probability x 100')\n",
    "plt.xlabel('Family History')\n",
    "\n",
    "# replace legend labels\n",
    "new_labels = labelDict['label_Gender']\n",
    "for t, l in zip(g._legend.texts, new_labels): t.set_text(l)\n",
    "\n",
    "# Positioning the legend\n",
    "g.fig.subplots_adjust(top=0.9,right=0.8)\n",
    "\n",
    "plt.show()"
   ]
  },
  {
   "cell_type": "markdown",
   "metadata": {
    "_cell_guid": "beecc2fe-4cd8-489c-bc0e-bb5ad633931c",
    "_uuid": "7c7baa6c000ab81edb071071d45bac309f796d80"
   },
   "source": [
    "Barplot to show probabilities for care options"
   ]
  },
  {
   "cell_type": "code",
   "execution_count": 29,
   "metadata": {
    "ExecuteTime": {
     "end_time": "2021-03-27T11:36:28.069450Z",
     "start_time": "2021-03-27T11:36:27.748446Z"
    },
    "_cell_guid": "c77da62e-f71f-49fb-9c13-fe2fea3d474e",
    "_uuid": "bc61dc5b0c4c0a8204453524438006a84f6168d1"
   },
   "outputs": [
    {
     "name": "stderr",
     "output_type": "stream",
     "text": [
      "c:\\users\\miair\\appdata\\local\\programs\\python\\python39\\lib\\site-packages\\seaborn\\categorical.py:3714: UserWarning: The `factorplot` function has been renamed to `catplot`. The original name will be removed in a future release. Please update your code. Note that the default `kind` in `factorplot` (`'point'`) has changed `'strip'` in `catplot`.\n",
      "  warnings.warn(msg)\n",
      "c:\\users\\miair\\appdata\\local\\programs\\python\\python39\\lib\\site-packages\\seaborn\\categorical.py:3720: UserWarning: The `size` parameter has been renamed to `height`; please update your code.\n",
      "  warnings.warn(msg, UserWarning)\n"
     ]
    },
    {
     "data": {
      "image/png": "[encoded data removed]",
      "text/plain": [
       "<Figure size 781.125x360 with 1 Axes>"
      ]
     },
     "metadata": {},
     "output_type": "display_data"
    }
   ],
   "source": [
    "o = labelDict['label_care_options']\n",
    "g = sns.factorplot(x=\"care_options\", y=\"treatment\", hue=\"Gender\", data=train_df, kind=\"bar\", ci=None, size=5, aspect=2, legend_out = True)\n",
    "g.set_xticklabels(o)\n",
    "plt.title('Probability of mental health condition')\n",
    "plt.ylabel('Probability x 100')\n",
    "plt.xlabel('Care options')\n",
    "\n",
    "# replace legend labels\n",
    "new_labels = labelDict['label_Gender']\n",
    "for t, l in zip(g._legend.texts, new_labels): t.set_text(l)\n",
    "\n",
    "# Positioning the legend\n",
    "g.fig.subplots_adjust(top=0.9,right=0.8)\n",
    "plt.show()"
   ]
  },
  {
   "cell_type": "markdown",
   "metadata": {
    "_cell_guid": "56de0fc1-8ee1-41b8-868e-133db7635c64",
    "_uuid": "5f9e29712de3b44df01755c481b898a38e508f07"
   },
   "source": [
    "Barplot to show probabilities for benefits"
   ]
  },
  {
   "cell_type": "code",
   "execution_count": 30,
   "metadata": {
    "ExecuteTime": {
     "end_time": "2021-03-27T11:36:31.643241Z",
     "start_time": "2021-03-27T11:36:31.334241Z"
    },
    "_cell_guid": "4fab65ea-f3f5-4831-9f3f-7560fb908d3e",
    "_uuid": "25c2da49fd8c83fc2d42355c0e147f439c00a7c0"
   },
   "outputs": [
    {
     "name": "stderr",
     "output_type": "stream",
     "text": [
      "c:\\users\\miair\\appdata\\local\\programs\\python\\python39\\lib\\site-packages\\seaborn\\categorical.py:3714: UserWarning: The `factorplot` function has been renamed to `catplot`. The original name will be removed in a future release. Please update your code. Note that the default `kind` in `factorplot` (`'point'`) has changed `'strip'` in `catplot`.\n",
      "  warnings.warn(msg)\n",
      "c:\\users\\miair\\appdata\\local\\programs\\python\\python39\\lib\\site-packages\\seaborn\\categorical.py:3720: UserWarning: The `size` parameter has been renamed to `height`; please update your code.\n",
      "  warnings.warn(msg, UserWarning)\n"
     ]
    },
    {
     "data": {
      "image/png": "[encoded data removed]",
      "text/plain": [
       "<Figure size 781.125x360 with 1 Axes>"
      ]
     },
     "metadata": {},
     "output_type": "display_data"
    }
   ],
   "source": [
    "o = labelDict['label_benefits']\n",
    "g = sns.factorplot(x=\"care_options\", y=\"treatment\", hue=\"Gender\", data=train_df, kind=\"bar\", ci=None, size=5, aspect=2, legend_out = True)\n",
    "g.set_xticklabels(o)\n",
    "plt.title('Probability of mental health condition')\n",
    "plt.ylabel('Probability x 100')\n",
    "plt.xlabel('Benefits')\n",
    "\n",
    "# replace legend labels\n",
    "new_labels = labelDict['label_Gender']\n",
    "for t, l in zip(g._legend.texts, new_labels): t.set_text(l)\n",
    "\n",
    "# Positioning the legend\n",
    "g.fig.subplots_adjust(top=0.9,right=0.8)\n",
    "plt.show()"
   ]
  },
  {
   "cell_type": "markdown",
   "metadata": {
    "_cell_guid": "bebe13ce-94d5-487c-88b8-7a634f361223",
    "_uuid": "9cfc643a94d39e2c06ed870c306deee6a9219b60"
   },
   "source": [
    "Barplot to show probabilities for work interfere"
   ]
  },
  {
   "cell_type": "code",
   "execution_count": 31,
   "metadata": {
    "ExecuteTime": {
     "end_time": "2021-03-27T11:36:33.293794Z",
     "start_time": "2021-03-27T11:36:32.932799Z"
    },
    "_cell_guid": "1606646f-0db7-41f9-b4bc-f8f2c982087c",
    "_uuid": "a7f3daeded334645d4cf5bd202e3116811159481"
   },
   "outputs": [
    {
     "name": "stderr",
     "output_type": "stream",
     "text": [
      "c:\\users\\miair\\appdata\\local\\programs\\python\\python39\\lib\\site-packages\\seaborn\\categorical.py:3714: UserWarning: The `factorplot` function has been renamed to `catplot`. The original name will be removed in a future release. Please update your code. Note that the default `kind` in `factorplot` (`'point'`) has changed `'strip'` in `catplot`.\n",
      "  warnings.warn(msg)\n",
      "c:\\users\\miair\\appdata\\local\\programs\\python\\python39\\lib\\site-packages\\seaborn\\categorical.py:3720: UserWarning: The `size` parameter has been renamed to `height`; please update your code.\n",
      "  warnings.warn(msg, UserWarning)\n"
     ]
    },
    {
     "data": {
      "image/png": "[encoded data removed]",
      "text/plain": [
       "<Figure size 781.125x360 with 1 Axes>"
      ]
     },
     "metadata": {},
     "output_type": "display_data"
    }
   ],
   "source": [
    "o = labelDict['label_work_interfere']\n",
    "g = sns.factorplot(x=\"work_interfere\", y=\"treatment\", hue=\"Gender\", data=train_df, kind=\"bar\", ci=None, size=5, aspect=2, legend_out = True)\n",
    "g.set_xticklabels(o)\n",
    "plt.title('Probability of mental health condition')\n",
    "plt.ylabel('Probability x 100')\n",
    "plt.xlabel('Work interfere')\n",
    "\n",
    "# replace legend labels\n",
    "new_labels = labelDict['label_Gender']\n",
    "for t, l in zip(g._legend.texts, new_labels): t.set_text(l)\n",
    "\n",
    "# Positioning the legend\n",
    "g.fig.subplots_adjust(top=0.9,right=0.8)\n",
    "plt.show()"
   ]
  },
  {
   "cell_type": "code",
   "execution_count": null,
   "metadata": {},
   "outputs": [],
   "source": []
  },
  {
   "cell_type": "markdown",
   "metadata": {
    "_cell_guid": "4ea1fe2d-e6bd-434f-807c-9936f17be784",
    "_uuid": "ebb8c1dc1fdd5dcfa5f9d1b05db3d23323b21adc"
   },
   "source": [
    "<a id='Scaling_and_fitting'></a>\n",
    "## **6. Scaling and fitting** ##\n",
    "\n"
   ]
  },
  {
   "cell_type": "markdown",
   "metadata": {
    "_cell_guid": "a95cf3ba-36d4-4df5-9797-2ccf1f018f5a",
    "_uuid": "5bdd6122fff56b5957a59210160269e7a32af869"
   },
   "source": [
    "Features Scaling\n",
    "We're going to scale age, because is extremely different from the othere ones."
   ]
  },
  {
   "cell_type": "code",
   "execution_count": 12,
   "metadata": {
    "ExecuteTime": {
     "end_time": "2021-04-10T18:47:06.199419Z",
     "start_time": "2021-04-10T18:47:06.152420Z"
    },
    "_cell_guid": "6ae3cc24-d8cf-4ab2-915d-091007ff2457",
    "_uuid": "d8dcf5e62e990fb6747f5695cbce9919f5cdec4b"
   },
   "outputs": [
    {
     "data": {
      "text/html": [
       "<div>\n",
       "<style scoped>\n",
       "    .dataframe tbody tr th:only-of-type {\n",
       "        vertical-align: middle;\n",
       "    }\n",
       "\n",
       "    .dataframe tbody tr th {\n",
       "        vertical-align: top;\n",
       "    }\n",
       "\n",
       "    .dataframe thead th {\n",
       "        text-align: right;\n",
       "    }\n",
       "</style>\n",
       "<table border=\"1\" class=\"dataframe\">\n",
       "  <thead>\n",
       "    <tr style=\"text-align: right;\">\n",
       "      <th></th>\n",
       "      <th>Age</th>\n",
       "      <th>Gender</th>\n",
       "      <th>self_employed</th>\n",
       "      <th>family_history</th>\n",
       "      <th>treatment</th>\n",
       "      <th>work_interfere</th>\n",
       "      <th>no_employees</th>\n",
       "      <th>remote_work</th>\n",
       "      <th>tech_company</th>\n",
       "      <th>benefits</th>\n",
       "      <th>...</th>\n",
       "      <th>leave</th>\n",
       "      <th>mental_health_consequence</th>\n",
       "      <th>phys_health_consequence</th>\n",
       "      <th>coworkers</th>\n",
       "      <th>supervisor</th>\n",
       "      <th>mental_health_interview</th>\n",
       "      <th>phys_health_interview</th>\n",
       "      <th>mental_vs_physical</th>\n",
       "      <th>obs_consequence</th>\n",
       "      <th>age_range</th>\n",
       "    </tr>\n",
       "  </thead>\n",
       "  <tbody>\n",
       "    <tr>\n",
       "      <th>0</th>\n",
       "      <td>0.431818</td>\n",
       "      <td>0</td>\n",
       "      <td>0</td>\n",
       "      <td>0</td>\n",
       "      <td>1</td>\n",
       "      <td>2</td>\n",
       "      <td>4</td>\n",
       "      <td>0</td>\n",
       "      <td>1</td>\n",
       "      <td>2</td>\n",
       "      <td>...</td>\n",
       "      <td>2</td>\n",
       "      <td>1</td>\n",
       "      <td>1</td>\n",
       "      <td>1</td>\n",
       "      <td>2</td>\n",
       "      <td>1</td>\n",
       "      <td>0</td>\n",
       "      <td>2</td>\n",
       "      <td>0</td>\n",
       "      <td>2</td>\n",
       "    </tr>\n",
       "    <tr>\n",
       "      <th>1</th>\n",
       "      <td>0.590909</td>\n",
       "      <td>1</td>\n",
       "      <td>0</td>\n",
       "      <td>0</td>\n",
       "      <td>0</td>\n",
       "      <td>3</td>\n",
       "      <td>5</td>\n",
       "      <td>0</td>\n",
       "      <td>0</td>\n",
       "      <td>0</td>\n",
       "      <td>...</td>\n",
       "      <td>0</td>\n",
       "      <td>0</td>\n",
       "      <td>1</td>\n",
       "      <td>0</td>\n",
       "      <td>0</td>\n",
       "      <td>1</td>\n",
       "      <td>1</td>\n",
       "      <td>0</td>\n",
       "      <td>0</td>\n",
       "      <td>2</td>\n",
       "    </tr>\n",
       "    <tr>\n",
       "      <th>2</th>\n",
       "      <td>0.318182</td>\n",
       "      <td>1</td>\n",
       "      <td>0</td>\n",
       "      <td>0</td>\n",
       "      <td>0</td>\n",
       "      <td>3</td>\n",
       "      <td>4</td>\n",
       "      <td>0</td>\n",
       "      <td>1</td>\n",
       "      <td>1</td>\n",
       "      <td>...</td>\n",
       "      <td>1</td>\n",
       "      <td>1</td>\n",
       "      <td>1</td>\n",
       "      <td>2</td>\n",
       "      <td>2</td>\n",
       "      <td>2</td>\n",
       "      <td>2</td>\n",
       "      <td>1</td>\n",
       "      <td>0</td>\n",
       "      <td>2</td>\n",
       "    </tr>\n",
       "    <tr>\n",
       "      <th>3</th>\n",
       "      <td>0.295455</td>\n",
       "      <td>1</td>\n",
       "      <td>0</td>\n",
       "      <td>1</td>\n",
       "      <td>1</td>\n",
       "      <td>2</td>\n",
       "      <td>2</td>\n",
       "      <td>0</td>\n",
       "      <td>1</td>\n",
       "      <td>1</td>\n",
       "      <td>...</td>\n",
       "      <td>1</td>\n",
       "      <td>2</td>\n",
       "      <td>2</td>\n",
       "      <td>1</td>\n",
       "      <td>0</td>\n",
       "      <td>0</td>\n",
       "      <td>0</td>\n",
       "      <td>1</td>\n",
       "      <td>1</td>\n",
       "      <td>2</td>\n",
       "    </tr>\n",
       "    <tr>\n",
       "      <th>4</th>\n",
       "      <td>0.295455</td>\n",
       "      <td>1</td>\n",
       "      <td>0</td>\n",
       "      <td>0</td>\n",
       "      <td>0</td>\n",
       "      <td>1</td>\n",
       "      <td>1</td>\n",
       "      <td>1</td>\n",
       "      <td>1</td>\n",
       "      <td>2</td>\n",
       "      <td>...</td>\n",
       "      <td>0</td>\n",
       "      <td>1</td>\n",
       "      <td>1</td>\n",
       "      <td>1</td>\n",
       "      <td>2</td>\n",
       "      <td>2</td>\n",
       "      <td>2</td>\n",
       "      <td>0</td>\n",
       "      <td>0</td>\n",
       "      <td>2</td>\n",
       "    </tr>\n",
       "  </tbody>\n",
       "</table>\n",
       "<p>5 rows × 24 columns</p>\n",
       "</div>"
      ],
      "text/plain": [
       "        Age  Gender  self_employed  family_history  treatment  work_interfere  \\\n",
       "0  0.431818       0              0               0          1               2   \n",
       "1  0.590909       1              0               0          0               3   \n",
       "2  0.318182       1              0               0          0               3   \n",
       "3  0.295455       1              0               1          1               2   \n",
       "4  0.295455       1              0               0          0               1   \n",
       "\n",
       "   no_employees  remote_work  tech_company  benefits  ...  leave  \\\n",
       "0             4            0             1         2  ...      2   \n",
       "1             5            0             0         0  ...      0   \n",
       "2             4            0             1         1  ...      1   \n",
       "3             2            0             1         1  ...      1   \n",
       "4             1            1             1         2  ...      0   \n",
       "\n",
       "   mental_health_consequence  phys_health_consequence  coworkers  supervisor  \\\n",
       "0                          1                        1          1           2   \n",
       "1                          0                        1          0           0   \n",
       "2                          1                        1          2           2   \n",
       "3                          2                        2          1           0   \n",
       "4                          1                        1          1           2   \n",
       "\n",
       "   mental_health_interview  phys_health_interview  mental_vs_physical  \\\n",
       "0                        1                      0                   2   \n",
       "1                        1                      1                   0   \n",
       "2                        2                      2                   1   \n",
       "3                        0                      0                   1   \n",
       "4                        2                      2                   0   \n",
       "\n",
       "   obs_consequence  age_range  \n",
       "0                0          2  \n",
       "1                0          2  \n",
       "2                0          2  \n",
       "3                1          2  \n",
       "4                0          2  \n",
       "\n",
       "[5 rows x 24 columns]"
      ]
     },
     "execution_count": 12,
     "metadata": {},
     "output_type": "execute_result"
    }
   ],
   "source": [
    "# Scaling Age\n",
    "scaler = MinMaxScaler()\n",
    "train_df['Age'] = scaler.fit_transform(train_df[['Age']])\n",
    "train_df.head()\n"
   ]
  },
  {
   "cell_type": "markdown",
   "metadata": {
    "_cell_guid": "653ecfa5-8248-41e3-a470-655859fd33f8",
    "_uuid": "ce9cbb939ed0411f3280348e888e448a623a55c5"
   },
   "source": [
    "Spliltting the dataset"
   ]
  },
  {
   "cell_type": "code",
   "execution_count": 23,
   "metadata": {
    "ExecuteTime": {
     "end_time": "2021-04-04T11:43:42.009714Z",
     "start_time": "2021-04-04T11:43:41.987649Z"
    },
    "_cell_guid": "3687ae06-561c-4a0c-94a4-aad2275022ce",
    "_uuid": "6477bae9fc3654aef51e7048c0382c7888c9e36c"
   },
   "outputs": [],
   "source": [
    "# define X and y\n",
    "feature_cols = ['Age', 'Gender', 'family_history', 'benefits', 'care_options', 'anonymity', 'leave', 'work_interfere']\n",
    "X = train_df[feature_cols]\n",
    "y = train_df.treatment\n",
    "\n",
    "# split X and y into training and testing sets\n",
    "X_train, X_test, y_train, y_test = train_test_split(X, y, test_size=0.30, random_state=0)\n",
    "\n",
    "# Create dictionaries for final graph\n",
    "# Use: methodDict['Stacking'] = accuracy_score\n",
    "methodDict = {}\n",
    "rmseDict = ()\n",
    "\n"
   ]
  },
  {
   "cell_type": "code",
   "execution_count": 46,
   "metadata": {
    "ExecuteTime": {
     "end_time": "2021-04-03T16:10:06.784189Z",
     "start_time": "2021-04-03T16:10:05.654193Z"
    },
    "_cell_guid": "b958ffcc-6625-421e-b5d0-57cdd753d32f",
    "_uuid": "5cbfa3c0808b550849fbe80158556775a4367b03"
   },
   "outputs": [
    {
     "data": {
      "image/png": "[encoded data removed]",
      "text/plain": [
       "<Figure size 864x576 with 1 Axes>"
      ]
     },
     "metadata": {},
     "output_type": "display_data"
    }
   ],
   "source": [
    "# Build a forest and compute the feature importances\n",
    "forest = ExtraTreesClassifier(n_estimators=250,\n",
    "                              random_state=0)\n",
    "\n",
    "forest.fit(X, y)\n",
    "importances = forest.feature_importances_\n",
    "std = np.std([tree.feature_importances_ for tree in forest.estimators_],\n",
    "             axis=0)\n",
    "indices = np.argsort(importances)[::-1]\n",
    "\n",
    "labels = []\n",
    "for f in range(X.shape[1]):\n",
    "    labels.append(feature_cols[f])      \n",
    "    \n",
    "# Plot the feature importances of the forest\n",
    "plt.figure(figsize=(12,8))\n",
    "plt.title(\"Feature importances\")\n",
    "plt.bar(range(X.shape[1]), importances[indices],\n",
    "       color=\"r\", yerr=std[indices], align=\"center\")\n",
    "plt.xticks(range(X.shape[1]), labels, rotation='vertical')\n",
    "plt.xlim([-1, X.shape[1]])\n",
    "plt.show()"
   ]
  },
  {
   "cell_type": "markdown",
   "metadata": {
    "_cell_guid": "b07c9bf0-3323-4cb3-9589-fe64b1fd854a",
    "_uuid": "a5a4b72ee4b193749ff0f59acb689c5900d98ec1"
   },
   "source": [
    "<a id='Tuning'></a>\n",
    "## **7. Tuning** \n",
    "### **Evaluating a Classification Model.** <br>\n",
    "This function will evalue:<br>\n",
    "* **Classification accuracy: **percentage of correct predictions\n",
    "* **Null accuracy:** accuracy that could be achieved by always predicting the most frequent class\n",
    "* **Percentage of ones**<br>\n",
    "* **Percentage of zero**s<br>\n",
    "* **Confusion matrix: **Table that describes the performance of a classification model\n",
    "        True Positives (TP): we correctly predicted that they do have diabetes\n",
    "        True Negatives (TN): we correctly predicted that they don't have diabetes\n",
    "        False Positives (FP): we incorrectly predicted that they do have diabetes (a \"Type I error\")\n",
    "        Falsely predict positive\n",
    "        False Negatives (FN): we incorrectly predicted that they don't have diabetes (a \"Type II error\")\n",
    "        Falsely predict negative\n",
    "\n",
    "* **False Positive Rate**<br>\n",
    "* **Precision of Positive value**<br>\n",
    "* **AUC:** is the percentage of the ROC plot that is underneath the curve\n",
    "        .90-1 = excellent (A)\n",
    "        .80-.90 = good (B)\n",
    "        .70-.80 = fair (C)\n",
    "        .60-.70 = poor (D)\n",
    "        .50-.60 = fail (F)\n",
    "And some others values for tuning processes.\n",
    "More information:  [http://www.ritchieng.com/machine-learning-evaluate-classification-model/]: \n"
   ]
  },
  {
   "cell_type": "markdown",
   "metadata": {
    "_cell_guid": "ae969199-93b6-4566-a677-69560ab1760f",
    "_uuid": "8f672b391aa354c77032b1f0c174a59aaa75cea9"
   },
   "source": []
  },
  {
   "cell_type": "code",
   "execution_count": 13,
   "metadata": {
    "ExecuteTime": {
     "end_time": "2021-04-04T11:41:28.512452Z",
     "start_time": "2021-04-04T11:41:28.499450Z"
    },
    "_cell_guid": "0c78481e-0e93-4369-932f-d2b21f1dea0c",
    "_uuid": "dec481c2407ad73187e7b678fbdb9812f6a636a8"
   },
   "outputs": [],
   "source": [
    "def evalClassModel(model, y_test, y_pred_class, plot=False):\n",
    "    #Classification accuracy: percentage of correct predictions\n",
    "    # calculate accuracy\n",
    "    print('Accuracy:', metrics.accuracy_score(y_test, y_pred_class))\n",
    "    \n",
    "    #Null accuracy: accuracy that could be achieved by always predicting the most frequent class\n",
    "    # examine the class distribution of the testing set (using a Pandas Series method)\n",
    "    print('Null accuracy:\\n', y_test.value_counts())\n",
    "    \n",
    "    # calculate the percentage of ones\n",
    "    print('Percentage of ones:', y_test.mean())\n",
    "    \n",
    "    # calculate the percentage of zeros\n",
    "    print('Percentage of zeros:',1 - y_test.mean())\n",
    "    \n",
    "    #Comparing the true and predicted response values\n",
    "    print('True:', y_test.values[0:25])\n",
    "    print('Pred:', y_pred_class[0:25])\n",
    "    \n",
    "    #Conclusion:\n",
    "    #Classification accuracy is the easiest classification metric to understand\n",
    "    #But, it does not tell you the underlying distribution of response values\n",
    "    #And, it does not tell you what \"types\" of errors your classifier is making\n",
    "    \n",
    "    #Confusion matrix\n",
    "    # save confusion matrix and slice into four pieces\n",
    "    confusion = metrics.confusion_matrix(y_test, y_pred_class)\n",
    "    #[row, column]\n",
    "    TP = confusion[1, 1]\n",
    "    TN = confusion[0, 0]\n",
    "    FP = confusion[0, 1]\n",
    "    FN = confusion[1, 0]\n",
    "    \n",
    "    # visualize Confusion Matrix\n",
    "    sns.heatmap(confusion,annot=True,fmt=\"d\") \n",
    "    plt.title('Confusion Matrix')\n",
    "    plt.xlabel('Predicted')\n",
    "    plt.ylabel('Actual')\n",
    "    plt.show()\n",
    "    \n",
    "    #Metrics computed from a confusion matrix\n",
    "    #Classification Accuracy: Overall, how often is the classifier correct?\n",
    "    accuracy = metrics.accuracy_score(y_test, y_pred_class)\n",
    "    print('Classification Accuracy:', accuracy)\n",
    "    \n",
    "    #Classification Error: Overall, how often is the classifier incorrect?\n",
    "    print('Classification Error:', 1 - metrics.accuracy_score(y_test, y_pred_class))\n",
    "    \n",
    "    #False Positive Rate: When the actual value is negative, how often is the prediction incorrect?\n",
    "    false_positive_rate = FP / float(TN + FP)\n",
    "    print('False Positive Rate:', false_positive_rate)\n",
    "    \n",
    "    #Precision: When a positive value is predicted, how often is the prediction correct?\n",
    "    print('Precision:', metrics.precision_score(y_test, y_pred_class))\n",
    "    \n",
    "    \n",
    "    # IMPORTANT: first argument is true values, second argument is predicted probabilities\n",
    "    print('AUC Score:', metrics.roc_auc_score(y_test, y_pred_class))\n",
    "    \n",
    "    # calculate cross-validated AUC\n",
    "    print('Cross-validated AUC:', cross_val_score(model, X, y, cv=10, scoring='roc_auc').mean())\n",
    "    \n",
    "    ##########################################\n",
    "    #Adjusting the classification threshold\n",
    "    ##########################################\n",
    "    # print the first 10 predicted responses\n",
    "    # 1D array (vector) of binary values (0, 1)\n",
    "    print('First 10 predicted responses:\\n', model.predict(X_test)[0:10])\n",
    "\n",
    "    # print the first 10 predicted probabilities of class membership\n",
    "    print('First 10 predicted probabilities of class members:\\n', model.predict_proba(X_test)[0:10])\n",
    "\n",
    "    # print the first 10 predicted probabilities for class 1\n",
    "    model.predict_proba(X_test)[0:10, 1]\n",
    "    \n",
    "    # store the predicted probabilities for class 1\n",
    "    y_pred_prob = model.predict_proba(X_test)[:, 1]\n",
    "    \n",
    "    if plot == True:\n",
    "        # histogram of predicted probabilities\n",
    "        # adjust the font size \n",
    "        plt.rcParams['font.size'] = 12\n",
    "        # 8 bins\n",
    "        plt.hist(y_pred_prob, bins=8)\n",
    "        \n",
    "        # x-axis limit from 0 to 1\n",
    "        plt.xlim(0,1)\n",
    "        plt.title('Histogram of predicted probabilities')\n",
    "        plt.xlabel('Predicted probability of treatment')\n",
    "        plt.ylabel('Frequency')\n",
    "    \n",
    "    \n",
    "    # predict treatment if the predicted probability is greater than 0.3\n",
    "    # it will return 1 for all values above 0.3 and 0 otherwise\n",
    "    # results are 2D so we slice out the first column\n",
    "    y_pred_prob = y_pred_prob.reshape(-1,1) \n",
    "    y_pred_class = binarize(y_pred_prob, 0.3)[0]\n",
    "    \n",
    "    # print the first 10 predicted probabilities\n",
    "    print('First 10 predicted probabilities:\\n', y_pred_prob[0:10])\n",
    "    \n",
    "    ##########################################\n",
    "    #ROC Curves and Area Under the Curve (AUC)\n",
    "    ##########################################\n",
    "    \n",
    "    #Question: Wouldn't it be nice if we could see how sensitivity and specificity are affected by various thresholds, without actually changing the threshold?\n",
    "    #Answer: Plot the ROC curve!\n",
    "    \n",
    "    \n",
    "    #AUC is the percentage of the ROC plot that is underneath the curve\n",
    "    #Higher value = better classifier\n",
    "    roc_auc = metrics.roc_auc_score(y_test, y_pred_prob)\n",
    "    \n",
    "    \n",
    "\n",
    "    # IMPORTANT: first argument is true values, second argument is predicted probabilities\n",
    "    # we pass y_test and y_pred_prob\n",
    "    # we do not use y_pred_class, because it will give incorrect results without generating an error\n",
    "    # roc_curve returns 3 objects fpr, tpr, thresholds\n",
    "    # fpr: false positive rate\n",
    "    # tpr: true positive rate\n",
    "    fpr, tpr, thresholds = metrics.roc_curve(y_test, y_pred_prob)\n",
    "    if plot == True:\n",
    "        plt.figure()\n",
    "        \n",
    "        plt.plot(fpr, tpr, color='darkorange', label='ROC curve (area = %0.2f)' % roc_auc)\n",
    "        plt.plot([0, 1], [0, 1], color='navy', linestyle='--')\n",
    "        plt.xlim([0.0, 1.0])\n",
    "        plt.ylim([0.0, 1.0])\n",
    "        plt.rcParams['font.size'] = 12\n",
    "        plt.title('ROC curve for treatment classifier')\n",
    "        plt.xlabel('False Positive Rate (1 - Specificity)')\n",
    "        plt.ylabel('True Positive Rate (Sensitivity)')\n",
    "        plt.legend(loc=\"lower right\")\n",
    "        plt.show()\n",
    "    \n",
    "    # define a function that accepts a threshold and prints sensitivity and specificity\n",
    "    def evaluate_threshold(threshold):\n",
    "        #Sensitivity: When the actual value is positive, how often is the prediction correct?\n",
    "        #Specificity: When the actual value is negative, how often is the prediction correct?print('Sensitivity for ' + str(threshold) + ' :', tpr[thresholds > threshold][-1])\n",
    "        print('Specificity for ' + str(threshold) + ' :', 1 - fpr[thresholds > threshold][-1])\n",
    "\n",
    "    # One way of setting threshold\n",
    "    predict_mine = np.where(y_pred_prob > 0.50, 1, 0)\n",
    "    confusion = metrics.confusion_matrix(y_test, predict_mine)\n",
    "    print(confusion)\n",
    "    \n",
    "    \n",
    "    \n",
    "    return accuracy"
   ]
  },
  {
   "cell_type": "markdown",
   "metadata": {
    "_cell_guid": "3e4552da-c5cc-45af-81ca-05a090922bb0",
    "_uuid": "4e5d57cfad5eee9dd3a34ed9da5fdccce8dc7c3a"
   },
   "source": [
    "### **Tuning with cross validation score**"
   ]
  },
  {
   "cell_type": "code",
   "execution_count": 15,
   "metadata": {
    "ExecuteTime": {
     "end_time": "2021-04-04T11:42:23.879418Z",
     "start_time": "2021-04-04T11:42:23.866380Z"
    },
    "_cell_guid": "ff07e090-5af7-4a06-b553-c86a7a75cd64",
    "_uuid": "8ac94690bafb3277fec2d35bd196c317a33c9555"
   },
   "outputs": [],
   "source": [
    "##########################################\n",
    "# Tuning with cross validation score\n",
    "##########################################\n",
    "def tuningCV(knn):\n",
    "    \n",
    "    # search for an optimal value of K for KNN\n",
    "    k_range = list(range(1, 31))\n",
    "    k_scores = []\n",
    "    for k in k_range:\n",
    "        knn = KNeighborsClassifier(n_neighbors=k)\n",
    "        scores = cross_val_score(knn, X, y, cv=10, scoring='accuracy')\n",
    "        k_scores.append(scores.mean())\n",
    "    print(k_scores)\n",
    "    # plot the value of K for KNN (x-axis) versus the cross-validated accuracy (y-axis)\n",
    "    plt.plot(k_range, k_scores)\n",
    "    plt.xlabel('Value of K for KNN')\n",
    "    plt.ylabel('Cross-Validated Accuracy')\n",
    "    plt.show()\n"
   ]
  },
  {
   "cell_type": "markdown",
   "metadata": {
    "_cell_guid": "55a2a701-b435-4143-bc7b-c56b4a24491f",
    "_uuid": "1cae2be4f65fc14d55eb1331110f69f016df2dbc"
   },
   "source": [
    "### **Tuning with GridSearchCV** ###"
   ]
  },
  {
   "cell_type": "code",
   "execution_count": 16,
   "metadata": {
    "ExecuteTime": {
     "end_time": "2021-04-04T11:42:24.924733Z",
     "start_time": "2021-04-04T11:42:24.911734Z"
    },
    "_cell_guid": "736e766c-b1c8-4d7e-b1b0-1bdab402ee4f",
    "_uuid": "3f64ad65f27cd4a92e5593ed6359245f34ba0e8e"
   },
   "outputs": [],
   "source": [
    "def tuningGridSerach(knn):\n",
    "    #More efficient parameter tuning using GridSearchCV\n",
    "    # define the parameter values that should be searched\n",
    "    k_range = list(range(1, 31))\n",
    "    print(k_range)\n",
    "    \n",
    "    # create a parameter grid: map the parameter names to the values that should be searched\n",
    "    param_grid = dict(n_neighbors=k_range)\n",
    "    print(param_grid)\n",
    "    \n",
    "    # instantiate the grid\n",
    "    grid = GridSearchCV(knn, param_grid, cv=10, scoring='accuracy')\n",
    "\n",
    "    # fit the grid with data\n",
    "    grid.fit(X, y)\n",
    "    \n",
    "    # view the complete results (list of named tuples)\n",
    "    grid.grid_scores_\n",
    "    \n",
    "    # examine the first tuple\n",
    "    print(grid.grid_scores_[0].parameters)\n",
    "    print(grid.grid_scores_[0].cv_validation_scores)\n",
    "    print(grid.grid_scores_[0].mean_validation_score)\n",
    "    \n",
    "    # create a list of the mean scores only\n",
    "    grid_mean_scores = [result.mean_validation_score for result in grid.grid_scores_]\n",
    "    print(grid_mean_scores)\n",
    "    \n",
    "    # plot the results\n",
    "    plt.plot(k_range, grid_mean_scores)\n",
    "    plt.xlabel('Value of K for KNN')\n",
    "    plt.ylabel('Cross-Validated Accuracy')\n",
    "    plt.show()\n",
    "    \n",
    "    # examine the best model\n",
    "    print('GridSearch best score', grid.best_score_)\n",
    "    print('GridSearch best params', grid.best_params_)\n",
    "    print('GridSearch best estimator', grid.best_estimator_)\n"
   ]
  },
  {
   "cell_type": "markdown",
   "metadata": {
    "_cell_guid": "9ff8088d-53b8-4724-ab5a-3c23e8728b61",
    "_uuid": "2ab0cb978d8869389d97fb4d29f4cab1c3a33ba7"
   },
   "source": [
    "### **Tuning with RandomizedSearchCV** ###"
   ]
  },
  {
   "cell_type": "code",
   "execution_count": 17,
   "metadata": {
    "ExecuteTime": {
     "end_time": "2021-04-04T11:42:25.909577Z",
     "start_time": "2021-04-04T11:42:25.899579Z"
    },
    "_cell_guid": "446bfe3e-b42f-4821-a20a-2cb07fd07c50",
    "_uuid": "b8d3212c33baad0e847e7a36272feb2ef31c4d5e"
   },
   "outputs": [],
   "source": [
    "def tuningRandomizedSearchCV(model, param_dist):\n",
    "    #Searching multiple parameters simultaneously\n",
    "    # n_iter controls the number of searches\n",
    "    rand = RandomizedSearchCV(model, param_dist, cv=10, scoring='accuracy', n_iter=10, random_state=5)\n",
    "    rand.fit(X, y)\n",
    "    rand.grid_scores_\n",
    "    \n",
    "    # examine the best model\n",
    "    print('Rand. Best Score: ', rand.best_score_)\n",
    "    print('Rand. Best Params: ', rand.best_params_)\n",
    "    \n",
    "    # run RandomizedSearchCV 20 times (with n_iter=10) and record the best score\n",
    "    best_scores = []\n",
    "    for _ in range(20):\n",
    "        rand = RandomizedSearchCV(model, param_dist, cv=10, scoring='accuracy', n_iter=10)\n",
    "        rand.fit(X, y)\n",
    "        best_scores.append(round(rand.best_score_, 3))\n",
    "    print(best_scores)"
   ]
  },
  {
   "cell_type": "markdown",
   "metadata": {
    "_cell_guid": "70d61d3d-4b78-43cb-bccf-d7588dc61762",
    "_uuid": "695a98ccaa5870275bc2fe91ef9527dbb6833368"
   },
   "source": [
    "### **Tuning with searching multiple parameters simultaneously** ###"
   ]
  },
  {
   "cell_type": "code",
   "execution_count": 18,
   "metadata": {
    "ExecuteTime": {
     "end_time": "2021-04-04T11:42:26.580479Z",
     "start_time": "2021-04-04T11:42:26.564447Z"
    },
    "_cell_guid": "114d4734-9647-4f09-b1bd-20c022421011",
    "_uuid": "0f4aad3e3f129aadfda0828345ce6418d46c5cf2"
   },
   "outputs": [],
   "source": [
    "def tuningMultParam(knn):\n",
    "    \n",
    "    #Searching multiple parameters simultaneously\n",
    "    # define the parameter values that should be searched\n",
    "    k_range = list(range(1, 31))\n",
    "    weight_options = ['uniform', 'distance']\n",
    "        \n",
    "    # create a parameter grid: map the parameter names to the values that should be searched\n",
    "    param_grid = dict(n_neighbors=k_range, weights=weight_options)\n",
    "    print(param_grid) \n",
    "    \n",
    "    # instantiate and fit the grid\n",
    "    grid = GridSearchCV(knn, param_grid, cv=10, scoring='accuracy')\n",
    "    grid.fit(X, y) \n",
    "    \n",
    "    # view the complete results\n",
    "    print(grid.grid_scores_)\n",
    "    \n",
    "    # examine the best model\n",
    "    print('Multiparam. Best Score: ', grid.best_score_)\n",
    "    print('Multiparam. Best Params: ', grid.best_params_)"
   ]
  },
  {
   "cell_type": "markdown",
   "metadata": {
    "_uuid": "2e05b3654a69f79cce46c2f5f007933de7dd91dc"
   },
   "source": [
    "<a id='Evaluating_models'></a>\n",
    "## **8. Evaluating models**<br><br>\n",
    "<a id='Logistic_regression'></a>\n",
    "### Logistic Regression"
   ]
  },
  {
   "cell_type": "code",
   "execution_count": 19,
   "metadata": {
    "ExecuteTime": {
     "end_time": "2021-04-04T11:42:27.210931Z",
     "start_time": "2021-04-04T11:42:27.192937Z"
    },
    "_cell_guid": "8613beea-11e3-426b-91f6-39df3626eaf9",
    "_uuid": "89f5e2c8ec51637568ac22982649205ca1c340e2"
   },
   "outputs": [],
   "source": [
    "def logisticRegression():\n",
    "    # train a logistic regression model on the training set\n",
    "    logreg = LogisticRegression()\n",
    "    logreg.fit(X_train, y_train)\n",
    "    \n",
    "    # make class predictions for the testing set\n",
    "    y_pred_class = logreg.predict(X_test)\n",
    "    \n",
    "    print('########### Logistic Regression ###############')\n",
    "    \n",
    "    accuracy_score = evalClassModel(logreg, y_test, y_pred_class, True)\n",
    "    \n",
    "    #Data for final graph\n",
    "    methodDict['Log. Regres.'] = accuracy_score * 100"
   ]
  },
  {
   "cell_type": "markdown",
   "metadata": {
    "_cell_guid": "de99d1dd-eb98-478c-9ed0-3cb518eac4b2",
    "_uuid": "1f71d045fa89ece846fe9e44559f057293e8bdf7"
   },
   "source": [
    "\n"
   ]
  },
  {
   "cell_type": "code",
   "execution_count": 20,
   "metadata": {
    "ExecuteTime": {
     "end_time": "2021-04-04T11:42:28.076004Z",
     "start_time": "2021-04-04T11:42:28.042002Z"
    },
    "_cell_guid": "2c090f3c-ecc9-433d-84a9-0d8f56cfd75d",
    "_uuid": "dd4c840a2b9a7ed7ad737730c4f780d11d603699"
   },
   "outputs": [
    {
     "ename": "NameError",
     "evalue": "name 'X_train' is not defined",
     "output_type": "error",
     "traceback": [
      "\u001b[1;31m---------------------------------------------------------------------------\u001b[0m",
      "\u001b[1;31mNameError\u001b[0m                                 Traceback (most recent call last)",
      "\u001b[1;32m<ipython-input-20-260b0faa3c55>\u001b[0m in \u001b[0;36m<module>\u001b[1;34m\u001b[0m\n\u001b[1;32m----> 1\u001b[1;33m \u001b[0mlogisticRegression\u001b[0m\u001b[1;33m(\u001b[0m\u001b[1;33m)\u001b[0m\u001b[1;33m\u001b[0m\u001b[1;33m\u001b[0m\u001b[0m\n\u001b[0m",
      "\u001b[1;32m<ipython-input-19-277dcd6d3c73>\u001b[0m in \u001b[0;36mlogisticRegression\u001b[1;34m()\u001b[0m\n\u001b[0;32m      2\u001b[0m     \u001b[1;31m# train a logistic regression model on the training set\u001b[0m\u001b[1;33m\u001b[0m\u001b[1;33m\u001b[0m\u001b[1;33m\u001b[0m\u001b[0m\n\u001b[0;32m      3\u001b[0m     \u001b[0mlogreg\u001b[0m \u001b[1;33m=\u001b[0m \u001b[0mLogisticRegression\u001b[0m\u001b[1;33m(\u001b[0m\u001b[1;33m)\u001b[0m\u001b[1;33m\u001b[0m\u001b[1;33m\u001b[0m\u001b[0m\n\u001b[1;32m----> 4\u001b[1;33m     \u001b[0mlogreg\u001b[0m\u001b[1;33m.\u001b[0m\u001b[0mfit\u001b[0m\u001b[1;33m(\u001b[0m\u001b[0mX_train\u001b[0m\u001b[1;33m,\u001b[0m \u001b[0my_train\u001b[0m\u001b[1;33m)\u001b[0m\u001b[1;33m\u001b[0m\u001b[1;33m\u001b[0m\u001b[0m\n\u001b[0m\u001b[0;32m      5\u001b[0m \u001b[1;33m\u001b[0m\u001b[0m\n\u001b[0;32m      6\u001b[0m     \u001b[1;31m# make class predictions for the testing set\u001b[0m\u001b[1;33m\u001b[0m\u001b[1;33m\u001b[0m\u001b[1;33m\u001b[0m\u001b[0m\n",
      "\u001b[1;31mNameError\u001b[0m: name 'X_train' is not defined"
     ]
    }
   ],
   "source": [
    "logisticRegression()"
   ]
  },
  {
   "cell_type": "markdown",
   "metadata": {
    "_cell_guid": "74295e39-9b93-4601-8305-d1301e5fbd72",
    "_uuid": "8d69bf0ffde7e26e29b7bced3544432bf02ed86f"
   },
   "source": [
    "<a id='KNeighborsClassifier'></a>\n",
    "### KNeighbors Classifier"
   ]
  },
  {
   "cell_type": "code",
   "execution_count": 21,
   "metadata": {
    "ExecuteTime": {
     "end_time": "2021-04-04T11:42:29.032575Z",
     "start_time": "2021-04-04T11:42:29.021619Z"
    },
    "_cell_guid": "c45537f3-72fa-47ff-a840-898e5bbed29d",
    "_uuid": "d5a089e0f01dce205366b7a99abbc3a6bb5568cc"
   },
   "outputs": [],
   "source": [
    "def Knn():\n",
    "    # Calculating the best parameters\n",
    "    knn = KNeighborsClassifier(n_neighbors=5)\n",
    "    \n",
    "    # From https://github.com/justmarkham/scikit-learn-videos/blob/master/08_grid_search.ipynb\n",
    "    #tuningCV(knn)\n",
    "    #tuningGridSerach(knn)\n",
    "    #tuningMultParam(knn)\n",
    "    \n",
    "    # define the parameter values that should be searched\n",
    "    k_range = list(range(1, 31))\n",
    "    weight_options = ['uniform', 'distance']\n",
    "    \n",
    "    # specify \"parameter distributions\" rather than a \"parameter grid\"\n",
    "    param_dist = dict(n_neighbors=k_range, weights=weight_options)\n",
    "    tuningRandomizedSearchCV(knn, param_dist)\n",
    "    \n",
    "    # train a KNeighborsClassifier model on the training set\n",
    "    knn = KNeighborsClassifier(n_neighbors=27, weights='uniform')\n",
    "    knn.fit(X_train, y_train)\n",
    "    \n",
    "    # make class predictions for the testing set\n",
    "    y_pred_class = knn.predict(X_test)\n",
    "    \n",
    "    print('########### KNeighborsClassifier ###############')\n",
    "    \n",
    "    accuracy_score = evalClassModel(knn, y_test, y_pred_class, True)\n",
    "\n",
    "    #Data for final graph\n",
    "    methodDict['KNN'] = accuracy_score * 100\n"
   ]
  },
  {
   "cell_type": "markdown",
   "metadata": {
    "_cell_guid": "061c6d26-0e65-4f21-8995-f910526f5e8e",
    "_uuid": "ea3e9e3f9d300913aba08ef1027e70025b7b0102"
   },
   "source": [
    "KNEIGHBORSCLASSIFIER"
   ]
  },
  {
   "cell_type": "code",
   "execution_count": 55,
   "metadata": {
    "ExecuteTime": {
     "end_time": "2021-04-03T16:10:46.293796Z",
     "start_time": "2021-04-03T16:10:46.200330Z"
    },
    "_cell_guid": "c37a2ccc-f433-44a9-87d5-04e57e14f256",
    "_uuid": "604f548f0674bd6e66941cc967dfc07ce4e0701e",
    "scrolled": false
   },
   "outputs": [
    {
     "ename": "NameError",
     "evalue": "name 'RandomizedSearchCV' is not defined",
     "output_type": "error",
     "traceback": [
      "\u001b[1;31m---------------------------------------------------------------------------\u001b[0m",
      "\u001b[1;31mNameError\u001b[0m                                 Traceback (most recent call last)",
      "\u001b[1;32m<ipython-input-55-43e1744c190d>\u001b[0m in \u001b[0;36m<module>\u001b[1;34m\u001b[0m\n\u001b[1;32m----> 1\u001b[1;33m \u001b[0mKnn\u001b[0m\u001b[1;33m(\u001b[0m\u001b[1;33m)\u001b[0m\u001b[1;33m\u001b[0m\u001b[1;33m\u001b[0m\u001b[0m\n\u001b[0m",
      "\u001b[1;32m<ipython-input-54-8002c0812d1c>\u001b[0m in \u001b[0;36mKnn\u001b[1;34m()\u001b[0m\n\u001b[0;32m     14\u001b[0m     \u001b[1;31m# specify \"parameter distributions\" rather than a \"parameter grid\"\u001b[0m\u001b[1;33m\u001b[0m\u001b[1;33m\u001b[0m\u001b[1;33m\u001b[0m\u001b[0m\n\u001b[0;32m     15\u001b[0m     \u001b[0mparam_dist\u001b[0m \u001b[1;33m=\u001b[0m \u001b[0mdict\u001b[0m\u001b[1;33m(\u001b[0m\u001b[0mn_neighbors\u001b[0m\u001b[1;33m=\u001b[0m\u001b[0mk_range\u001b[0m\u001b[1;33m,\u001b[0m \u001b[0mweights\u001b[0m\u001b[1;33m=\u001b[0m\u001b[0mweight_options\u001b[0m\u001b[1;33m)\u001b[0m\u001b[1;33m\u001b[0m\u001b[1;33m\u001b[0m\u001b[0m\n\u001b[1;32m---> 16\u001b[1;33m     \u001b[0mtuningRandomizedSearchCV\u001b[0m\u001b[1;33m(\u001b[0m\u001b[0mknn\u001b[0m\u001b[1;33m,\u001b[0m \u001b[0mparam_dist\u001b[0m\u001b[1;33m)\u001b[0m\u001b[1;33m\u001b[0m\u001b[1;33m\u001b[0m\u001b[0m\n\u001b[0m\u001b[0;32m     17\u001b[0m \u001b[1;33m\u001b[0m\u001b[0m\n\u001b[0;32m     18\u001b[0m     \u001b[1;31m# train a KNeighborsClassifier model on the training set\u001b[0m\u001b[1;33m\u001b[0m\u001b[1;33m\u001b[0m\u001b[1;33m\u001b[0m\u001b[0m\n",
      "\u001b[1;32m<ipython-input-50-a156d76d7f96>\u001b[0m in \u001b[0;36mtuningRandomizedSearchCV\u001b[1;34m(model, param_dist)\u001b[0m\n\u001b[0;32m      2\u001b[0m     \u001b[1;31m#Searching multiple parameters simultaneously\u001b[0m\u001b[1;33m\u001b[0m\u001b[1;33m\u001b[0m\u001b[1;33m\u001b[0m\u001b[0m\n\u001b[0;32m      3\u001b[0m     \u001b[1;31m# n_iter controls the number of searches\u001b[0m\u001b[1;33m\u001b[0m\u001b[1;33m\u001b[0m\u001b[1;33m\u001b[0m\u001b[0m\n\u001b[1;32m----> 4\u001b[1;33m     \u001b[0mrand\u001b[0m \u001b[1;33m=\u001b[0m \u001b[0mRandomizedSearchCV\u001b[0m\u001b[1;33m(\u001b[0m\u001b[0mmodel\u001b[0m\u001b[1;33m,\u001b[0m \u001b[0mparam_dist\u001b[0m\u001b[1;33m,\u001b[0m \u001b[0mcv\u001b[0m\u001b[1;33m=\u001b[0m\u001b[1;36m10\u001b[0m\u001b[1;33m,\u001b[0m \u001b[0mscoring\u001b[0m\u001b[1;33m=\u001b[0m\u001b[1;34m'accuracy'\u001b[0m\u001b[1;33m,\u001b[0m \u001b[0mn_iter\u001b[0m\u001b[1;33m=\u001b[0m\u001b[1;36m10\u001b[0m\u001b[1;33m,\u001b[0m \u001b[0mrandom_state\u001b[0m\u001b[1;33m=\u001b[0m\u001b[1;36m5\u001b[0m\u001b[1;33m)\u001b[0m\u001b[1;33m\u001b[0m\u001b[1;33m\u001b[0m\u001b[0m\n\u001b[0m\u001b[0;32m      5\u001b[0m     \u001b[0mrand\u001b[0m\u001b[1;33m.\u001b[0m\u001b[0mfit\u001b[0m\u001b[1;33m(\u001b[0m\u001b[0mX\u001b[0m\u001b[1;33m,\u001b[0m \u001b[0my\u001b[0m\u001b[1;33m)\u001b[0m\u001b[1;33m\u001b[0m\u001b[1;33m\u001b[0m\u001b[0m\n\u001b[0;32m      6\u001b[0m     \u001b[0mrand\u001b[0m\u001b[1;33m.\u001b[0m\u001b[0mgrid_scores_\u001b[0m\u001b[1;33m\u001b[0m\u001b[1;33m\u001b[0m\u001b[0m\n",
      "\u001b[1;31mNameError\u001b[0m: name 'RandomizedSearchCV' is not defined"
     ]
    }
   ],
   "source": [
    "Knn()"
   ]
  },
  {
   "cell_type": "markdown",
   "metadata": {
    "_cell_guid": "2138699d-4714-4e44-8121-d710a784b0f6",
    "_uuid": "6ca0e7311ac50b774f34803b1cb34fda2a7c106f"
   },
   "source": [
    "<a id='Decision_Tree_classifier'></a>\n",
    "### Decision Tree classifier"
   ]
  },
  {
   "cell_type": "code",
   "execution_count": 56,
   "metadata": {
    "ExecuteTime": {
     "end_time": "2021-04-03T16:10:57.783317Z",
     "start_time": "2021-04-03T16:10:57.772320Z"
    },
    "_cell_guid": "fcb8d170-9cde-4660-81f4-a2c78a08a94d",
    "_uuid": "d3f64d71ce02ef0948f73771f94b345b1c738716"
   },
   "outputs": [],
   "source": [
    "def treeClassifier():\n",
    "    # Calculating the best parameters\n",
    "    tree = DecisionTreeClassifier()\n",
    "    featuresSize = feature_cols.__len__()\n",
    "    param_dist = {\"max_depth\": [3, None],\n",
    "              \"max_features\": randint(1, featuresSize),\n",
    "              \"min_samples_split\": randint(2, 9),\n",
    "              \"min_samples_leaf\": randint(1, 9),\n",
    "              \"criterion\": [\"gini\", \"entropy\"]}\n",
    "    tuningRandomizedSearchCV(tree, param_dist)\n",
    "    \n",
    "    # train a decision tree model on the training set\n",
    "    tree = DecisionTreeClassifier(max_depth=3, min_samples_split=8, max_features=6, criterion='entropy', min_samples_leaf=7)\n",
    "    tree.fit(X_train, y_train)\n",
    "    \n",
    "    # make class predictions for the testing set\n",
    "    y_pred_class = tree.predict(X_test)\n",
    "    \n",
    "    print('########### Tree classifier ###############')\n",
    "    \n",
    "    accuracy_score = evalClassModel(tree, y_test, y_pred_class, True)\n",
    "\n",
    "    #Data for final graph\n",
    "    methodDict['Tree clas.'] = accuracy_score * 100"
   ]
  },
  {
   "cell_type": "code",
   "execution_count": 57,
   "metadata": {
    "ExecuteTime": {
     "end_time": "2021-04-03T16:10:58.299991Z",
     "start_time": "2021-04-03T16:10:58.265991Z"
    },
    "_cell_guid": "f0005b0c-9f54-441d-b71d-6dc1eaf79a48",
    "_uuid": "b6f92441922c51ed520f54e588d28e5f6ac54d7c"
   },
   "outputs": [
    {
     "ename": "NameError",
     "evalue": "name 'RandomizedSearchCV' is not defined",
     "output_type": "error",
     "traceback": [
      "\u001b[1;31m---------------------------------------------------------------------------\u001b[0m",
      "\u001b[1;31mNameError\u001b[0m                                 Traceback (most recent call last)",
      "\u001b[1;32m<ipython-input-57-c476e34af21c>\u001b[0m in \u001b[0;36m<module>\u001b[1;34m\u001b[0m\n\u001b[1;32m----> 1\u001b[1;33m \u001b[0mtreeClassifier\u001b[0m\u001b[1;33m(\u001b[0m\u001b[1;33m)\u001b[0m\u001b[1;33m\u001b[0m\u001b[1;33m\u001b[0m\u001b[0m\n\u001b[0m",
      "\u001b[1;32m<ipython-input-56-0109fe5b266f>\u001b[0m in \u001b[0;36mtreeClassifier\u001b[1;34m()\u001b[0m\n\u001b[0;32m      8\u001b[0m               \u001b[1;34m\"min_samples_leaf\"\u001b[0m\u001b[1;33m:\u001b[0m \u001b[0mrandint\u001b[0m\u001b[1;33m(\u001b[0m\u001b[1;36m1\u001b[0m\u001b[1;33m,\u001b[0m \u001b[1;36m9\u001b[0m\u001b[1;33m)\u001b[0m\u001b[1;33m,\u001b[0m\u001b[1;33m\u001b[0m\u001b[1;33m\u001b[0m\u001b[0m\n\u001b[0;32m      9\u001b[0m               \"criterion\": [\"gini\", \"entropy\"]}\n\u001b[1;32m---> 10\u001b[1;33m     \u001b[0mtuningRandomizedSearchCV\u001b[0m\u001b[1;33m(\u001b[0m\u001b[0mtree\u001b[0m\u001b[1;33m,\u001b[0m \u001b[0mparam_dist\u001b[0m\u001b[1;33m)\u001b[0m\u001b[1;33m\u001b[0m\u001b[1;33m\u001b[0m\u001b[0m\n\u001b[0m\u001b[0;32m     11\u001b[0m \u001b[1;33m\u001b[0m\u001b[0m\n\u001b[0;32m     12\u001b[0m     \u001b[1;31m# train a decision tree model on the training set\u001b[0m\u001b[1;33m\u001b[0m\u001b[1;33m\u001b[0m\u001b[1;33m\u001b[0m\u001b[0m\n",
      "\u001b[1;32m<ipython-input-50-a156d76d7f96>\u001b[0m in \u001b[0;36mtuningRandomizedSearchCV\u001b[1;34m(model, param_dist)\u001b[0m\n\u001b[0;32m      2\u001b[0m     \u001b[1;31m#Searching multiple parameters simultaneously\u001b[0m\u001b[1;33m\u001b[0m\u001b[1;33m\u001b[0m\u001b[1;33m\u001b[0m\u001b[0m\n\u001b[0;32m      3\u001b[0m     \u001b[1;31m# n_iter controls the number of searches\u001b[0m\u001b[1;33m\u001b[0m\u001b[1;33m\u001b[0m\u001b[1;33m\u001b[0m\u001b[0m\n\u001b[1;32m----> 4\u001b[1;33m     \u001b[0mrand\u001b[0m \u001b[1;33m=\u001b[0m \u001b[0mRandomizedSearchCV\u001b[0m\u001b[1;33m(\u001b[0m\u001b[0mmodel\u001b[0m\u001b[1;33m,\u001b[0m \u001b[0mparam_dist\u001b[0m\u001b[1;33m,\u001b[0m \u001b[0mcv\u001b[0m\u001b[1;33m=\u001b[0m\u001b[1;36m10\u001b[0m\u001b[1;33m,\u001b[0m \u001b[0mscoring\u001b[0m\u001b[1;33m=\u001b[0m\u001b[1;34m'accuracy'\u001b[0m\u001b[1;33m,\u001b[0m \u001b[0mn_iter\u001b[0m\u001b[1;33m=\u001b[0m\u001b[1;36m10\u001b[0m\u001b[1;33m,\u001b[0m \u001b[0mrandom_state\u001b[0m\u001b[1;33m=\u001b[0m\u001b[1;36m5\u001b[0m\u001b[1;33m)\u001b[0m\u001b[1;33m\u001b[0m\u001b[1;33m\u001b[0m\u001b[0m\n\u001b[0m\u001b[0;32m      5\u001b[0m     \u001b[0mrand\u001b[0m\u001b[1;33m.\u001b[0m\u001b[0mfit\u001b[0m\u001b[1;33m(\u001b[0m\u001b[0mX\u001b[0m\u001b[1;33m,\u001b[0m \u001b[0my\u001b[0m\u001b[1;33m)\u001b[0m\u001b[1;33m\u001b[0m\u001b[1;33m\u001b[0m\u001b[0m\n\u001b[0;32m      6\u001b[0m     \u001b[0mrand\u001b[0m\u001b[1;33m.\u001b[0m\u001b[0mgrid_scores_\u001b[0m\u001b[1;33m\u001b[0m\u001b[1;33m\u001b[0m\u001b[0m\n",
      "\u001b[1;31mNameError\u001b[0m: name 'RandomizedSearchCV' is not defined"
     ]
    }
   ],
   "source": [
    "treeClassifier()"
   ]
  },
  {
   "cell_type": "markdown",
   "metadata": {
    "_cell_guid": "406048fd-2312-4975-bd64-3db6cfe85aa5",
    "_uuid": "5c0bc7e355c38fa87b250b6a56e002611c0ede1d"
   },
   "source": [
    "<a id='Random_Forests'></a>\n",
    "### Random Forests"
   ]
  },
  {
   "cell_type": "code",
   "execution_count": 58,
   "metadata": {
    "ExecuteTime": {
     "end_time": "2021-04-03T16:11:01.813032Z",
     "start_time": "2021-04-03T16:11:01.797037Z"
    },
    "_cell_guid": "b5d831e8-3bcc-4e78-82bd-309a9a898954",
    "_uuid": "5419fdc8736774794575f2bd85a0f5341ad9d48d"
   },
   "outputs": [],
   "source": [
    "def randomForest():\n",
    "    # Calculating the best parameters\n",
    "    forest = RandomForestClassifier(n_estimators = 20)\n",
    "\n",
    "    featuresSize = feature_cols.__len__()\n",
    "    param_dist = {\"max_depth\": [3, None],\n",
    "              \"max_features\": randint(1, featuresSize),\n",
    "              \"min_samples_split\": randint(2, 9),\n",
    "              \"min_samples_leaf\": randint(1, 9),\n",
    "              \"criterion\": [\"gini\", \"entropy\"]}\n",
    "    tuningRandomizedSearchCV(forest, param_dist)\n",
    "    \n",
    "    # Building and fitting my_forest\n",
    "    forest = RandomForestClassifier(max_depth = None, min_samples_leaf=8, min_samples_split=2, n_estimators = 20, random_state = 1)\n",
    "    my_forest = forest.fit(X_train, y_train)\n",
    "    \n",
    "    # make class predictions for the testing set\n",
    "    y_pred_class = my_forest.predict(X_test)\n",
    "    \n",
    "    print('########### Random Forests ###############')\n",
    "    \n",
    "    accuracy_score = evalClassModel(my_forest, y_test, y_pred_class, True)\n",
    "\n",
    "    #Data for final graph\n",
    "    methodDict['R. Forest'] = accuracy_score * 100"
   ]
  },
  {
   "cell_type": "code",
   "execution_count": 59,
   "metadata": {
    "ExecuteTime": {
     "end_time": "2021-04-03T16:11:02.576221Z",
     "start_time": "2021-04-03T16:11:02.543556Z"
    },
    "_cell_guid": "d2b956e0-e921-4433-8cf1-3c4db0e26c12",
    "_uuid": "1c522cc7c4e6ba720b10620eb49f48274b24d79d"
   },
   "outputs": [
    {
     "ename": "NameError",
     "evalue": "name 'RandomizedSearchCV' is not defined",
     "output_type": "error",
     "traceback": [
      "\u001b[1;31m---------------------------------------------------------------------------\u001b[0m",
      "\u001b[1;31mNameError\u001b[0m                                 Traceback (most recent call last)",
      "\u001b[1;32m<ipython-input-59-d65d2e737f53>\u001b[0m in \u001b[0;36m<module>\u001b[1;34m\u001b[0m\n\u001b[1;32m----> 1\u001b[1;33m \u001b[0mrandomForest\u001b[0m\u001b[1;33m(\u001b[0m\u001b[1;33m)\u001b[0m\u001b[1;33m\u001b[0m\u001b[1;33m\u001b[0m\u001b[0m\n\u001b[0m",
      "\u001b[1;32m<ipython-input-58-3812792d76ad>\u001b[0m in \u001b[0;36mrandomForest\u001b[1;34m()\u001b[0m\n\u001b[0;32m      9\u001b[0m               \u001b[1;34m\"min_samples_leaf\"\u001b[0m\u001b[1;33m:\u001b[0m \u001b[0mrandint\u001b[0m\u001b[1;33m(\u001b[0m\u001b[1;36m1\u001b[0m\u001b[1;33m,\u001b[0m \u001b[1;36m9\u001b[0m\u001b[1;33m)\u001b[0m\u001b[1;33m,\u001b[0m\u001b[1;33m\u001b[0m\u001b[1;33m\u001b[0m\u001b[0m\n\u001b[0;32m     10\u001b[0m               \"criterion\": [\"gini\", \"entropy\"]}\n\u001b[1;32m---> 11\u001b[1;33m     \u001b[0mtuningRandomizedSearchCV\u001b[0m\u001b[1;33m(\u001b[0m\u001b[0mforest\u001b[0m\u001b[1;33m,\u001b[0m \u001b[0mparam_dist\u001b[0m\u001b[1;33m)\u001b[0m\u001b[1;33m\u001b[0m\u001b[1;33m\u001b[0m\u001b[0m\n\u001b[0m\u001b[0;32m     12\u001b[0m \u001b[1;33m\u001b[0m\u001b[0m\n\u001b[0;32m     13\u001b[0m     \u001b[1;31m# Building and fitting my_forest\u001b[0m\u001b[1;33m\u001b[0m\u001b[1;33m\u001b[0m\u001b[1;33m\u001b[0m\u001b[0m\n",
      "\u001b[1;32m<ipython-input-50-a156d76d7f96>\u001b[0m in \u001b[0;36mtuningRandomizedSearchCV\u001b[1;34m(model, param_dist)\u001b[0m\n\u001b[0;32m      2\u001b[0m     \u001b[1;31m#Searching multiple parameters simultaneously\u001b[0m\u001b[1;33m\u001b[0m\u001b[1;33m\u001b[0m\u001b[1;33m\u001b[0m\u001b[0m\n\u001b[0;32m      3\u001b[0m     \u001b[1;31m# n_iter controls the number of searches\u001b[0m\u001b[1;33m\u001b[0m\u001b[1;33m\u001b[0m\u001b[1;33m\u001b[0m\u001b[0m\n\u001b[1;32m----> 4\u001b[1;33m     \u001b[0mrand\u001b[0m \u001b[1;33m=\u001b[0m \u001b[0mRandomizedSearchCV\u001b[0m\u001b[1;33m(\u001b[0m\u001b[0mmodel\u001b[0m\u001b[1;33m,\u001b[0m \u001b[0mparam_dist\u001b[0m\u001b[1;33m,\u001b[0m \u001b[0mcv\u001b[0m\u001b[1;33m=\u001b[0m\u001b[1;36m10\u001b[0m\u001b[1;33m,\u001b[0m \u001b[0mscoring\u001b[0m\u001b[1;33m=\u001b[0m\u001b[1;34m'accuracy'\u001b[0m\u001b[1;33m,\u001b[0m \u001b[0mn_iter\u001b[0m\u001b[1;33m=\u001b[0m\u001b[1;36m10\u001b[0m\u001b[1;33m,\u001b[0m \u001b[0mrandom_state\u001b[0m\u001b[1;33m=\u001b[0m\u001b[1;36m5\u001b[0m\u001b[1;33m)\u001b[0m\u001b[1;33m\u001b[0m\u001b[1;33m\u001b[0m\u001b[0m\n\u001b[0m\u001b[0;32m      5\u001b[0m     \u001b[0mrand\u001b[0m\u001b[1;33m.\u001b[0m\u001b[0mfit\u001b[0m\u001b[1;33m(\u001b[0m\u001b[0mX\u001b[0m\u001b[1;33m,\u001b[0m \u001b[0my\u001b[0m\u001b[1;33m)\u001b[0m\u001b[1;33m\u001b[0m\u001b[1;33m\u001b[0m\u001b[0m\n\u001b[0;32m      6\u001b[0m     \u001b[0mrand\u001b[0m\u001b[1;33m.\u001b[0m\u001b[0mgrid_scores_\u001b[0m\u001b[1;33m\u001b[0m\u001b[1;33m\u001b[0m\u001b[0m\n",
      "\u001b[1;31mNameError\u001b[0m: name 'RandomizedSearchCV' is not defined"
     ]
    }
   ],
   "source": [
    "randomForest()"
   ]
  },
  {
   "cell_type": "markdown",
   "metadata": {
    "_cell_guid": "1c07c4f6-5897-4bf5-9f3a-2706430d2e2f",
    "_uuid": "278639308461647ea1206a6d93efad39d699a8de"
   },
   "source": [
    "<a id='Bagging'></a>\n",
    "### Bagging"
   ]
  },
  {
   "cell_type": "code",
   "execution_count": 60,
   "metadata": {
    "ExecuteTime": {
     "end_time": "2021-04-03T16:11:06.897419Z",
     "start_time": "2021-04-03T16:11:06.892417Z"
    },
    "_cell_guid": "1782b0bb-eb0a-4741-b4f4-b2c9900970b2",
    "_uuid": "50d47d51bb91989b421803dd5bb1b95022dd7c42"
   },
   "outputs": [],
   "source": [
    "def bagging():\n",
    "    # Building and fitting \n",
    "    bag = BaggingClassifier(DecisionTreeClassifier(), max_samples=1.0, max_features=1.0, bootstrap_features=False)\n",
    "    bag.fit(X_train, y_train)\n",
    "    \n",
    "    # make class predictions for the testing set\n",
    "    y_pred_class = bag.predict(X_test)\n",
    "    \n",
    "    print('########### Bagging ###############')\n",
    "    \n",
    "    accuracy_score = evalClassModel(bag, y_test, y_pred_class, True)\n",
    "\n",
    "    #Data for final graph\n",
    "    methodDict['Bagging'] = accuracy_score * 100"
   ]
  },
  {
   "cell_type": "code",
   "execution_count": 61,
   "metadata": {
    "ExecuteTime": {
     "end_time": "2021-04-03T16:11:08.253175Z",
     "start_time": "2021-04-03T16:11:07.412224Z"
    },
    "_cell_guid": "de06cee0-9024-4a22-80e3-f6cd9c8aee0a",
    "_uuid": "4fcc753e51ab46cf492ed7202d23bfcfac1c608a"
   },
   "outputs": [
    {
     "name": "stdout",
     "output_type": "stream",
     "text": [
      "########### Bagging ###############\n",
      "Accuracy: 0.798941798941799\n",
      "Null accuracy:\n",
      " 0    191\n",
      "1    187\n",
      "Name: treatment, dtype: int64\n",
      "Percentage of ones: 0.4947089947089947\n",
      "Percentage of zeros: 0.5052910052910053\n",
      "True: [0 0 0 0 0 0 0 0 1 1 0 1 1 0 1 1 0 1 0 0 0 1 1 0 0]\n",
      "Pred: [1 0 0 0 0 1 0 1 1 1 0 1 1 1 1 1 0 1 0 0 0 0 1 0 0]\n"
     ]
    },
    {
     "data": {
      "image/png": "[encoded data removed]",
      "text/plain": [
       "<Figure size 432x288 with 2 Axes>"
      ]
     },
     "metadata": {},
     "output_type": "display_data"
    },
    {
     "name": "stdout",
     "output_type": "stream",
     "text": [
      "Classification Accuracy: 0.798941798941799\n",
      "Classification Error: 0.20105820105820105\n",
      "False Positive Rate: 0.225130890052356\n",
      "Precision: 0.7817258883248731\n",
      "AUC Score: 0.7991992608561749\n",
      "Cross-validated AUC: 0.8560001808369705\n",
      "First 10 predicted responses:\n",
      " [1 0 0 0 0 1 0 1 1 1]\n",
      "First 10 predicted probabilities of class members:\n",
      " [[0.46666667 0.53333333]\n",
      " [1.         0.        ]\n",
      " [1.         0.        ]\n",
      " [0.7        0.3       ]\n",
      " [0.8        0.2       ]\n",
      " [0.2        0.8       ]\n",
      " [0.7        0.3       ]\n",
      " [0.4        0.6       ]\n",
      " [0.         1.        ]\n",
      " [0.4        0.6       ]]\n",
      "First 10 predicted probabilities:\n",
      " [[0.53333333]\n",
      " [0.        ]\n",
      " [0.        ]\n",
      " [0.3       ]\n",
      " [0.2       ]\n",
      " [0.8       ]\n",
      " [0.3       ]\n",
      " [0.6       ]\n",
      " [1.        ]\n",
      " [0.6       ]]\n"
     ]
    },
    {
     "name": "stderr",
     "output_type": "stream",
     "text": [
      "c:\\users\\miair\\appdata\\local\\programs\\python\\python39\\lib\\site-packages\\sklearn\\utils\\validation.py:70: FutureWarning: Pass threshold=0.3 as keyword args. From version 1.0 (renaming of 0.25) passing these as positional arguments will result in an error\n",
      "  warnings.warn(f\"Pass {args_msg} as keyword args. From version \"\n"
     ]
    },
    {
     "data": {
      "image/png": "[encoded data removed]",
      "text/plain": [
       "<Figure size 432x288 with 1 Axes>"
      ]
     },
     "metadata": {},
     "output_type": "display_data"
    },
    {
     "data": {
      "image/png": "[encoded data removed]",
      "text/plain": [
       "<Figure size 432x288 with 1 Axes>"
      ]
     },
     "metadata": {},
     "output_type": "display_data"
    },
    {
     "name": "stdout",
     "output_type": "stream",
     "text": [
      "[[148  43]\n",
      " [ 33 154]]\n"
     ]
    }
   ],
   "source": [
    "bagging()"
   ]
  },
  {
   "cell_type": "markdown",
   "metadata": {
    "_cell_guid": "8611c537-e9c9-4412-b513-8b0cf441ed05",
    "_uuid": "f99aa0dab6830aa2857d6003eef19ca2fbd754aa"
   },
   "source": [
    "<a id='Boosting'></a>\n",
    "### Boosting"
   ]
  },
  {
   "cell_type": "code",
   "execution_count": 36,
   "metadata": {
    "ExecuteTime": {
     "end_time": "2021-04-04T11:59:39.937081Z",
     "start_time": "2021-04-04T11:59:30.209632Z"
    },
    "_cell_guid": "b23c5f32-f61d-4391-a3b8-8a989bc8ce54",
    "_uuid": "6a7d03cd950cf99d5f6ea5d7bad0dceed2508a49"
   },
   "outputs": [
    {
     "name": "stdout",
     "output_type": "stream",
     "text": [
      "########### Boosting ###############\n",
      "Accuracy: 0.8174603174603174\n",
      "Null accuracy:\n",
      " 0    191\n",
      "1    187\n",
      "Name: treatment, dtype: int64\n",
      "Percentage of ones: 0.4947089947089947\n",
      "Percentage of zeros: 0.5052910052910053\n",
      "True: [0 0 0 0 0 0 0 0 1 1 0 1 1 0 1 1 0 1 0 0 0 1 1 0 0]\n",
      "Pred: [1 0 0 0 0 1 0 1 1 1 0 1 1 0 1 1 1 1 0 0 0 0 1 0 0]\n"
     ]
    },
    {
     "data": {
      "image/png": "[encoded data removed]",
      "text/plain": [
       "<Figure size 432x288 with 2 Axes>"
      ]
     },
     "metadata": {
      "needs_background": "light"
     },
     "output_type": "display_data"
    },
    {
     "name": "stdout",
     "output_type": "stream",
     "text": [
      "Classification Accuracy: 0.8174603174603174\n",
      "Classification Error: 0.18253968253968256\n",
      "False Positive Rate: 0.28272251308900526\n",
      "Precision: 0.7610619469026548\n",
      "AUC Score: 0.8185317915838397\n",
      "Cross-validated AUC: 0.8746279095195426\n",
      "First 10 predicted responses:\n",
      " [1 0 0 0 0 1 0 1 1 1]\n",
      "First 10 predicted probabilities of class members:\n",
      " [[0.49924555 0.50075445]\n",
      " [0.50285507 0.49714493]\n",
      " [0.50291786 0.49708214]\n",
      " [0.50127788 0.49872212]\n",
      " [0.50013552 0.49986448]\n",
      " [0.49796157 0.50203843]\n",
      " [0.50046371 0.49953629]\n",
      " [0.49939483 0.50060517]\n",
      " [0.49921757 0.50078243]\n",
      " [0.49897133 0.50102867]]\n",
      "First 10 predicted probabilities:\n",
      " [[0.50075445]\n",
      " [0.49714493]\n",
      " [0.49708214]\n",
      " [0.49872212]\n",
      " [0.49986448]\n",
      " [0.50203843]\n",
      " [0.49953629]\n",
      " [0.50060517]\n",
      " [0.50078243]\n",
      " [0.50102867]]\n"
     ]
    },
    {
     "name": "stderr",
     "output_type": "stream",
     "text": [
      "c:\\users\\miair\\appdata\\local\\programs\\python\\python39\\lib\\site-packages\\sklearn\\utils\\validation.py:70: FutureWarning: Pass threshold=0.3 as keyword args. From version 1.0 (renaming of 0.25) passing these as positional arguments will result in an error\n",
      "  warnings.warn(f\"Pass {args_msg} as keyword args. From version \"\n"
     ]
    },
    {
     "data": {
      "image/png": "[encoded data removed]",
      "text/plain": [
       "<Figure size 432x288 with 1 Axes>"
      ]
     },
     "metadata": {
      "needs_background": "light"
     },
     "output_type": "display_data"
    },
    {
     "data": {
      "image/png": "[encoded data removed]",
      "text/plain": [
       "<Figure size 432x288 with 1 Axes>"
      ]
     },
     "metadata": {
      "needs_background": "light"
     },
     "output_type": "display_data"
    },
    {
     "name": "stdout",
     "output_type": "stream",
     "text": [
      "[[137  54]\n",
      " [ 15 172]]\n"
     ]
    }
   ],
   "source": [
    "def boosting():\n",
    "    # Building and fitting \n",
    "    clf = DecisionTreeClassifier(criterion='entropy', max_depth=1)\n",
    "    boost = AdaBoostClassifier(base_estimator=clf, n_estimators=500)\n",
    "    boost.fit(X_train, y_train)\n",
    "    \n",
    "    # make class predictions for the testing set\n",
    "    y_pred_class = boost.predict(X_test)\n",
    "    \n",
    "    print('########### Boosting ###############')\n",
    "    \n",
    "    accuracy_score = evalClassModel(boost, y_test, y_pred_class, True)\n",
    "\n",
    "    #Data for final graph\n",
    "    methodDict['Boosting'] = accuracy_score * 100"
   ]
  },
  {
   "cell_type": "code",
   "execution_count": 41,
   "metadata": {
    "ExecuteTime": {
     "end_time": "2021-04-04T12:01:53.905516Z",
     "start_time": "2021-04-04T12:01:53.699518Z"
    }
   },
   "outputs": [
    {
     "data": {
      "text/plain": [
       "['boost.pkl']"
      ]
     },
     "execution_count": 41,
     "metadata": {},
     "output_type": "execute_result"
    }
   ],
   "source": [
    "import joblib\n",
    "import os\n",
    "joblib.dump(boost,'boost.pkl')\n",
    "# def save_model(model,name):\n",
    "#     os.makedirs(\"model\", exist_ok=True)\n",
    "#     for i,j in zip(model,name):\n",
    "#         path=os.path.join(\"model\",j)\n",
    "#         joblib.dump(i,path)\n",
    "# save_model(boost,'model/boost.pkl')"
   ]
  },
  {
   "cell_type": "code",
   "execution_count": 34,
   "metadata": {
    "ExecuteTime": {
     "end_time": "2021-04-04T11:58:58.670369Z",
     "start_time": "2021-04-04T11:58:48.806524Z"
    },
    "_cell_guid": "4415545b-a6ef-40cd-8583-ecb036b82db3",
    "_uuid": "7c2ee5da9f1d4708b6a73071c538760964188d97"
   },
   "outputs": [
    {
     "name": "stdout",
     "output_type": "stream",
     "text": [
      "########### Boosting ###############\n",
      "Accuracy: 0.8174603174603174\n",
      "Null accuracy:\n",
      " 0    191\n",
      "1    187\n",
      "Name: treatment, dtype: int64\n",
      "Percentage of ones: 0.4947089947089947\n",
      "Percentage of zeros: 0.5052910052910053\n",
      "True: [0 0 0 0 0 0 0 0 1 1 0 1 1 0 1 1 0 1 0 0 0 1 1 0 0]\n",
      "Pred: [1 0 0 0 0 1 0 1 1 1 0 1 1 0 1 1 1 1 0 0 0 0 1 0 0]\n"
     ]
    },
    {
     "data": {
      "image/png": "[encoded data removed]",
      "text/plain": [
       "<Figure size 432x288 with 2 Axes>"
      ]
     },
     "metadata": {
      "needs_background": "light"
     },
     "output_type": "display_data"
    },
    {
     "name": "stdout",
     "output_type": "stream",
     "text": [
      "Classification Accuracy: 0.8174603174603174\n",
      "Classification Error: 0.18253968253968256\n",
      "False Positive Rate: 0.28272251308900526\n",
      "Precision: 0.7610619469026548\n",
      "AUC Score: 0.8185317915838397\n",
      "Cross-validated AUC: 0.8746279095195426\n",
      "First 10 predicted responses:\n",
      " [1 0 0 0 0 1 0 1 1 1]\n",
      "First 10 predicted probabilities of class members:\n",
      " [[0.49924555 0.50075445]\n",
      " [0.50285507 0.49714493]\n",
      " [0.50291786 0.49708214]\n",
      " [0.50127788 0.49872212]\n",
      " [0.50013552 0.49986448]\n",
      " [0.49796157 0.50203843]\n",
      " [0.50046371 0.49953629]\n",
      " [0.49939483 0.50060517]\n",
      " [0.49921757 0.50078243]\n",
      " [0.49897133 0.50102867]]\n",
      "First 10 predicted probabilities:\n",
      " [[0.50075445]\n",
      " [0.49714493]\n",
      " [0.49708214]\n",
      " [0.49872212]\n",
      " [0.49986448]\n",
      " [0.50203843]\n",
      " [0.49953629]\n",
      " [0.50060517]\n",
      " [0.50078243]\n",
      " [0.50102867]]\n"
     ]
    },
    {
     "name": "stderr",
     "output_type": "stream",
     "text": [
      "c:\\users\\miair\\appdata\\local\\programs\\python\\python39\\lib\\site-packages\\sklearn\\utils\\validation.py:70: FutureWarning: Pass threshold=0.3 as keyword args. From version 1.0 (renaming of 0.25) passing these as positional arguments will result in an error\n",
      "  warnings.warn(f\"Pass {args_msg} as keyword args. From version \"\n"
     ]
    },
    {
     "data": {
      "image/png": "[encoded data removed]",
      "text/plain": [
       "<Figure size 432x288 with 1 Axes>"
      ]
     },
     "metadata": {
      "needs_background": "light"
     },
     "output_type": "display_data"
    },
    {
     "data": {
      "image/png": "[encoded data removed]",
      "text/plain": [
       "<Figure size 432x288 with 1 Axes>"
      ]
     },
     "metadata": {
      "needs_background": "light"
     },
     "output_type": "display_data"
    },
    {
     "name": "stdout",
     "output_type": "stream",
     "text": [
      "[[137  54]\n",
      " [ 15 172]]\n"
     ]
    }
   ],
   "source": [
    "boosting()"
   ]
  },
  {
   "cell_type": "markdown",
   "metadata": {
    "_cell_guid": "615c515b-b3f3-4178-a5da-6ce2582b8d23",
    "_uuid": "7b2789cfb8a1b1afc4426883f2664016db3aaf61"
   },
   "source": [
    "<a id='Stacking'></a>\n",
    "### Stacking"
   ]
  },
  {
   "cell_type": "code",
   "execution_count": 64,
   "metadata": {
    "ExecuteTime": {
     "end_time": "2021-04-03T16:11:23.633678Z",
     "start_time": "2021-04-03T16:11:23.620645Z"
    },
    "_cell_guid": "a763ed38-22a7-4b50-bee4-db11b9bf6575",
    "_uuid": "cf645152f925cd1d5c0c79f3b46e7006ff6bbc92"
   },
   "outputs": [],
   "source": [
    "def stacking():\n",
    "    # Building and fitting \n",
    "    clf1 = KNeighborsClassifier(n_neighbors=1)\n",
    "    clf2 = RandomForestClassifier(random_state=1)\n",
    "    clf3 = GaussianNB()\n",
    "    lr = LogisticRegression()\n",
    "    stack = StackingClassifier(classifiers=[clf1, clf2, clf3], meta_classifier=lr)\n",
    "    stack.fit(X_train, y_train)\n",
    "    \n",
    "    # make class predictions for the testing set\n",
    "    y_pred_class = stack.predict(X_test)\n",
    "    \n",
    "    print('########### Stacking ###############')\n",
    "    \n",
    "    accuracy_score = evalClassModel(stack, y_test, y_pred_class, True)\n",
    "\n",
    "    #Data for final graph\n",
    "    methodDict['Stacking'] = accuracy_score * 100\n",
    "    \n"
   ]
  },
  {
   "cell_type": "code",
   "execution_count": 65,
   "metadata": {
    "ExecuteTime": {
     "end_time": "2021-04-03T16:11:23.665647Z",
     "start_time": "2021-04-03T16:11:23.636642Z"
    },
    "_cell_guid": "37b8048f-a189-48f4-b855-4099debae483",
    "_uuid": "49178159638a6c10b86342dccc110656a70c9670"
   },
   "outputs": [
    {
     "ename": "NameError",
     "evalue": "name 'StackingClassifier' is not defined",
     "output_type": "error",
     "traceback": [
      "\u001b[1;31m---------------------------------------------------------------------------\u001b[0m",
      "\u001b[1;31mNameError\u001b[0m                                 Traceback (most recent call last)",
      "\u001b[1;32m<ipython-input-65-aa6aae53d7c1>\u001b[0m in \u001b[0;36m<module>\u001b[1;34m\u001b[0m\n\u001b[1;32m----> 1\u001b[1;33m \u001b[0mstacking\u001b[0m\u001b[1;33m(\u001b[0m\u001b[1;33m)\u001b[0m\u001b[1;33m\u001b[0m\u001b[1;33m\u001b[0m\u001b[0m\n\u001b[0m",
      "\u001b[1;32m<ipython-input-64-2f89e1d9486a>\u001b[0m in \u001b[0;36mstacking\u001b[1;34m()\u001b[0m\n\u001b[0;32m      5\u001b[0m     \u001b[0mclf3\u001b[0m \u001b[1;33m=\u001b[0m \u001b[0mGaussianNB\u001b[0m\u001b[1;33m(\u001b[0m\u001b[1;33m)\u001b[0m\u001b[1;33m\u001b[0m\u001b[1;33m\u001b[0m\u001b[0m\n\u001b[0;32m      6\u001b[0m     \u001b[0mlr\u001b[0m \u001b[1;33m=\u001b[0m \u001b[0mLogisticRegression\u001b[0m\u001b[1;33m(\u001b[0m\u001b[1;33m)\u001b[0m\u001b[1;33m\u001b[0m\u001b[1;33m\u001b[0m\u001b[0m\n\u001b[1;32m----> 7\u001b[1;33m     \u001b[0mstack\u001b[0m \u001b[1;33m=\u001b[0m \u001b[0mStackingClassifier\u001b[0m\u001b[1;33m(\u001b[0m\u001b[0mclassifiers\u001b[0m\u001b[1;33m=\u001b[0m\u001b[1;33m[\u001b[0m\u001b[0mclf1\u001b[0m\u001b[1;33m,\u001b[0m \u001b[0mclf2\u001b[0m\u001b[1;33m,\u001b[0m \u001b[0mclf3\u001b[0m\u001b[1;33m]\u001b[0m\u001b[1;33m,\u001b[0m \u001b[0mmeta_classifier\u001b[0m\u001b[1;33m=\u001b[0m\u001b[0mlr\u001b[0m\u001b[1;33m)\u001b[0m\u001b[1;33m\u001b[0m\u001b[1;33m\u001b[0m\u001b[0m\n\u001b[0m\u001b[0;32m      8\u001b[0m     \u001b[0mstack\u001b[0m\u001b[1;33m.\u001b[0m\u001b[0mfit\u001b[0m\u001b[1;33m(\u001b[0m\u001b[0mX_train\u001b[0m\u001b[1;33m,\u001b[0m \u001b[0my_train\u001b[0m\u001b[1;33m)\u001b[0m\u001b[1;33m\u001b[0m\u001b[1;33m\u001b[0m\u001b[0m\n\u001b[0;32m      9\u001b[0m \u001b[1;33m\u001b[0m\u001b[0m\n",
      "\u001b[1;31mNameError\u001b[0m: name 'StackingClassifier' is not defined"
     ]
    }
   ],
   "source": [
    "stacking()"
   ]
  },
  {
   "cell_type": "code",
   "execution_count": 67,
   "metadata": {
    "ExecuteTime": {
     "end_time": "2021-04-03T16:16:31.035517Z",
     "start_time": "2021-04-03T16:14:46.413103Z"
    }
   },
   "outputs": [
    {
     "name": "stdout",
     "output_type": "stream",
     "text": [
      "’ҐЄгй п Є®¤®ў п бва ­Ёж : 1251\n"
     ]
    },
    {
     "name": "stderr",
     "output_type": "stream",
     "text": [
      "ERROR: Could not install packages due to an OSError: [WinError 5] Отказано в доступе: 'C:\\\\Users\\\\MiAir\\\\AppData\\\\Local\\\\Programs\\\\Python\\\\Python39\\\\Lib\\\\site-packages\\\\~umpy\\\\.libs\\\\libopenblas.JPIJNSWNNAN3CE6LLI5FWSPHUT2VXMTH.gfortran-win_amd64.dll'\n",
      "Consider using the `--user` option or check the permissions.\n",
      "\n"
     ]
    },
    {
     "name": "stdout",
     "output_type": "stream",
     "text": [
      "Collecting tensorflow\n",
      "  Downloading tensorflow-2.5.0rc0-cp39-cp39-win_amd64.whl (422.5 MB)\n",
      "Collecting tensorboard~=2.4\n",
      "  Downloading tensorboard-2.4.1-py3-none-any.whl (10.6 MB)\n",
      "Collecting gast==0.4.0\n",
      "  Downloading gast-0.4.0-py3-none-any.whl (9.8 kB)\n",
      "Collecting wrapt~=1.12.1\n",
      "  Using cached wrapt-1.12.1.tar.gz (27 kB)\n",
      "Collecting absl-py~=0.10\n",
      "  Downloading absl_py-0.12.0-py3-none-any.whl (129 kB)\n",
      "Collecting numpy~=1.19.2\n",
      "  Downloading numpy-1.19.5-cp39-cp39-win_amd64.whl (13.3 MB)\n",
      "Collecting grpcio~=1.34.0\n",
      "  Downloading grpcio-1.34.1-cp39-cp39-win_amd64.whl (2.9 MB)\n",
      "Collecting protobuf>=3.9.2\n",
      "  Downloading protobuf-3.15.7-py2.py3-none-any.whl (173 kB)\n",
      "Requirement already satisfied: wheel~=0.35 in c:\\users\\miair\\appdata\\local\\programs\\python\\python39\\lib\\site-packages (from tensorflow) (0.36.2)\n",
      "Collecting astunparse~=1.6.3\n",
      "  Using cached astunparse-1.6.3-py2.py3-none-any.whl (12 kB)\n",
      "Requirement already satisfied: six~=1.15.0 in c:\\users\\miair\\appdata\\local\\programs\\python\\python39\\lib\\site-packages (from tensorflow) (1.15.0)\n",
      "Collecting typing-extensions~=3.7.4\n",
      "  Using cached typing_extensions-3.7.4.3-py3-none-any.whl (22 kB)\n",
      "Collecting flatbuffers~=1.12.0\n",
      "  Downloading flatbuffers-1.12-py2.py3-none-any.whl (15 kB)\n",
      "Collecting keras-preprocessing~=1.1.2\n",
      "  Using cached Keras_Preprocessing-1.1.2-py2.py3-none-any.whl (42 kB)\n",
      "Collecting termcolor~=1.1.0\n",
      "  Using cached termcolor-1.1.0.tar.gz (3.9 kB)\n",
      "Collecting opt-einsum~=3.3.0\n",
      "  Using cached opt_einsum-3.3.0-py3-none-any.whl (65 kB)\n",
      "Collecting google-pasta~=0.2\n",
      "  Using cached google_pasta-0.2.0-py3-none-any.whl (57 kB)\n",
      "Collecting tf-estimator-nightly==2.5.0.dev2021032501\n",
      "  Downloading tf_estimator_nightly-2.5.0.dev2021032501-py2.py3-none-any.whl (462 kB)\n",
      "Collecting keras-nightly~=2.5.0.dev\n",
      "  Downloading keras_nightly-2.5.0.dev2021032900-py2.py3-none-any.whl (1.2 MB)\n",
      "Collecting h5py~=3.1.0\n",
      "  Downloading h5py-3.1.0-cp39-cp39-win_amd64.whl (2.7 MB)\n",
      "Requirement already satisfied: setuptools>=41.0.0 in c:\\users\\miair\\appdata\\local\\programs\\python\\python39\\lib\\site-packages (from tensorboard~=2.4->tensorflow) (49.2.1)\n",
      "Collecting markdown>=2.6.8\n",
      "  Downloading Markdown-3.3.4-py3-none-any.whl (97 kB)\n",
      "Requirement already satisfied: requests<3,>=2.21.0 in c:\\users\\miair\\appdata\\local\\programs\\python\\python39\\lib\\site-packages (from tensorboard~=2.4->tensorflow) (2.23.0)\n",
      "Collecting google-auth-oauthlib<0.5,>=0.4.1\n",
      "  Downloading google_auth_oauthlib-0.4.4-py2.py3-none-any.whl (18 kB)\n",
      "Requirement already satisfied: werkzeug>=0.11.15 in c:\\users\\miair\\appdata\\local\\programs\\python\\python39\\lib\\site-packages (from tensorboard~=2.4->tensorflow) (1.0.1)\n",
      "Collecting google-auth<2,>=1.6.3\n",
      "  Downloading google_auth-1.28.0-py2.py3-none-any.whl (136 kB)\n",
      "Collecting tensorboard-plugin-wit>=1.6.0\n",
      "  Downloading tensorboard_plugin_wit-1.8.0-py3-none-any.whl (781 kB)\n",
      "Requirement already satisfied: rsa<5,>=3.1.4 in c:\\users\\miair\\appdata\\local\\programs\\python\\python39\\lib\\site-packages (from google-auth<2,>=1.6.3->tensorboard~=2.4->tensorflow) (4.5)\n",
      "Collecting cachetools<5.0,>=2.0.0\n",
      "  Downloading cachetools-4.2.1-py3-none-any.whl (12 kB)\n",
      "Collecting pyasn1-modules>=0.2.1\n",
      "  Using cached pyasn1_modules-0.2.8-py2.py3-none-any.whl (155 kB)\n",
      "Collecting requests-oauthlib>=0.7.0\n",
      "  Using cached requests_oauthlib-1.3.0-py2.py3-none-any.whl (23 kB)\n",
      "Requirement already satisfied: pyasn1<0.5.0,>=0.4.6 in c:\\users\\miair\\appdata\\local\\programs\\python\\python39\\lib\\site-packages (from pyasn1-modules>=0.2.1->google-auth<2,>=1.6.3->tensorboard~=2.4->tensorflow) (0.4.8)\n",
      "Requirement already satisfied: idna<3,>=2.5 in c:\\users\\miair\\appdata\\local\\programs\\python\\python39\\lib\\site-packages (from requests<3,>=2.21.0->tensorboard~=2.4->tensorflow) (2.10)\n",
      "Requirement already satisfied: chardet<4,>=3.0.2 in c:\\users\\miair\\appdata\\local\\programs\\python\\python39\\lib\\site-packages (from requests<3,>=2.21.0->tensorboard~=2.4->tensorflow) (3.0.4)\n",
      "Requirement already satisfied: certifi>=2017.4.17 in c:\\users\\miair\\appdata\\local\\programs\\python\\python39\\lib\\site-packages (from requests<3,>=2.21.0->tensorboard~=2.4->tensorflow) (2020.12.5)\n",
      "Requirement already satisfied: urllib3!=1.25.0,!=1.25.1,<1.26,>=1.21.1 in c:\\users\\miair\\appdata\\local\\programs\\python\\python39\\lib\\site-packages (from requests<3,>=2.21.0->tensorboard~=2.4->tensorflow) (1.25.11)\n",
      "Collecting oauthlib>=3.0.0\n",
      "  Using cached oauthlib-3.1.0-py2.py3-none-any.whl (147 kB)\n",
      "Building wheels for collected packages: termcolor, wrapt\n",
      "  Building wheel for termcolor (setup.py): started\n",
      "  Building wheel for termcolor (setup.py): finished with status 'done'\n",
      "  Created wheel for termcolor: filename=termcolor-1.1.0-py3-none-any.whl size=4829 sha256=3c622a870503708166342b79256124e4e7f9cce0295cd849720235aed51c3cb7\n",
      "  Stored in directory: c:\\users\\miair\\appdata\\local\\pip\\cache\\wheels\\b6\\0d\\90\\0d1bbd99855f99cb2f6c2e5ff96f8023fad8ec367695f7d72d\n",
      "  Building wheel for wrapt (setup.py): started\n",
      "  Building wheel for wrapt (setup.py): finished with status 'done'\n",
      "  Created wheel for wrapt: filename=wrapt-1.12.1-py3-none-any.whl size=19553 sha256=10eba818ebec2c2927bd6199ccfdfc197164739e693fa876598790ddd6468727\n",
      "  Stored in directory: c:\\users\\miair\\appdata\\local\\pip\\cache\\wheels\\98\\23\\68\\efe259aaca055e93b08e74fbe512819c69a2155c11ba3c0f10\n",
      "Successfully built termcolor wrapt\n",
      "Installing collected packages: pyasn1-modules, oauthlib, cachetools, requests-oauthlib, google-auth, tensorboard-plugin-wit, protobuf, numpy, markdown, grpcio, google-auth-oauthlib, absl-py, wrapt, typing-extensions, tf-estimator-nightly, termcolor, tensorboard, opt-einsum, keras-preprocessing, keras-nightly, h5py, google-pasta, gast, flatbuffers, astunparse, tensorflow\n",
      "  Attempting uninstall: numpy\n",
      "    Found existing installation: numpy 1.20.1\n",
      "    Uninstalling numpy-1.20.1:\n",
      "      Successfully uninstalled numpy-1.20.1\n"
     ]
    }
   ],
   "source": [
    "!pip install  tensorflow"
   ]
  },
  {
   "cell_type": "markdown",
   "metadata": {
    "_uuid": "87e8181f247c4dd00dd8b2caf65ebe5b76367719"
   },
   "source": [
    "<a id='Predicting_with_Neural_Network'></a>\n",
    "## **9. Predicting with Neural Network**\n"
   ]
  },
  {
   "cell_type": "markdown",
   "metadata": {
    "_uuid": "ee05c058a7e73956696bead61f457ee04f39a004"
   },
   "source": [
    "### Create input functions\n",
    "You must create input functions to supply data for training, evaluating, and prediction."
   ]
  },
  {
   "cell_type": "code",
   "execution_count": 24,
   "metadata": {
    "ExecuteTime": {
     "end_time": "2021-04-04T11:43:49.738141Z",
     "start_time": "2021-04-04T11:43:49.726080Z"
    },
    "_uuid": "3c532804f31ae661e5cf820406e4eee58679dcc6"
   },
   "outputs": [],
   "source": [
    "import tensorflow as tf\n",
    "import argparse\n",
    "\n",
    "\n",
    "batch_size = 100\n",
    "train_steps = 1000\n",
    "\n",
    "X_train, X_test, y_train, y_test = train_test_split(X, y, test_size=0.30, random_state=0)\n",
    "\n",
    "def train_input_fn(features, labels, batch_size):\n",
    "    \"\"\"An input function for training\"\"\"\n",
    "    # Convert the inputs to a Dataset.\n",
    "    dataset = tf.data.Dataset.from_tensor_slices((dict(features), labels))\n",
    "\n",
    "    # Shuffle, repeat, and batch the examples.\n",
    "    return dataset.shuffle(1000).repeat().batch(batch_size)\n",
    "\n",
    "def eval_input_fn(features, labels, batch_size):\n",
    "    \"\"\"An input function for evaluation or prediction\"\"\"\n",
    "    features=dict(features)\n",
    "    if labels is None:\n",
    "        # No labels, use only features.\n",
    "        inputs = features\n",
    "    else:\n",
    "        inputs = (features, labels)\n",
    "\n",
    "    # Convert the inputs to a Dataset.\n",
    "    dataset = tf.data.Dataset.from_tensor_slices(inputs)\n",
    "\n",
    "    # Batch the examples\n",
    "    assert batch_size is not None, \"batch_size must not be None\"\n",
    "    dataset = dataset.batch(batch_size)\n",
    "\n",
    "    # Return the dataset.\n",
    "    return dataset\n",
    "\n"
   ]
  },
  {
   "cell_type": "markdown",
   "metadata": {
    "_uuid": "7540da5ccf242c31fae61193422a50c4132fb7cd"
   },
   "source": [
    "### Define the feature columns\n",
    "A feature column is an object describing how the model should use raw input data from the features dictionary. When you build an Estimator model, you pass it a list of feature columns that describes each of the features you want the model to use."
   ]
  },
  {
   "cell_type": "code",
   "execution_count": 25,
   "metadata": {
    "ExecuteTime": {
     "end_time": "2021-04-04T11:43:52.276819Z",
     "start_time": "2021-04-04T11:43:52.269825Z"
    },
    "_uuid": "4b51ea10c5fc254910a46910db0fb76b27150b24"
   },
   "outputs": [],
   "source": [
    "# Define Tensorflow feature columns\n",
    "age = tf.feature_column.numeric_column(\"Age\")\n",
    "gender = tf.feature_column.numeric_column(\"Gender\")\n",
    "family_history = tf.feature_column.numeric_column(\"family_history\")\n",
    "benefits = tf.feature_column.numeric_column(\"benefits\")\n",
    "care_options = tf.feature_column.numeric_column(\"care_options\")\n",
    "anonymity = tf.feature_column.numeric_column(\"anonymity\")\n",
    "leave = tf.feature_column.numeric_column(\"leave\")\n",
    "work_interfere = tf.feature_column.numeric_column(\"work_interfere\")\n",
    "feature_columns = [age, gender, family_history, benefits, care_options, anonymity, leave, work_interfere]\n"
   ]
  },
  {
   "cell_type": "markdown",
   "metadata": {
    "_uuid": "0ec5458a421476ca5b77b77d67e5d7dbd406090f"
   },
   "source": [
    "### Instantiate an Estimator\n",
    "Our problem is a classic classification problem. We want to predict whether a patient has to be treated or not. We'll use tf.estimator.DNNClassifier for deep models that perform multi-class classification."
   ]
  },
  {
   "cell_type": "code",
   "execution_count": 26,
   "metadata": {
    "ExecuteTime": {
     "end_time": "2021-04-04T11:43:53.296560Z",
     "start_time": "2021-04-04T11:43:53.070597Z"
    },
    "_uuid": "605d76f9ecf1e3a87332633a0b84c68b04024494"
   },
   "outputs": [
    {
     "name": "stdout",
     "output_type": "stream",
     "text": [
      "INFO:tensorflow:Using default config.\n",
      "WARNING:tensorflow:Using temporary folder as model directory: C:\\Users\\MiAir\\AppData\\Local\\Temp\\tmp_y6yidju\n",
      "INFO:tensorflow:Using config: {'_model_dir': 'C:\\\\Users\\\\MiAir\\\\AppData\\\\Local\\\\Temp\\\\tmp_y6yidju', '_tf_random_seed': None, '_save_summary_steps': 100, '_save_checkpoints_steps': None, '_save_checkpoints_secs': 600, '_session_config': allow_soft_placement: true\n",
      "graph_options {\n",
      "  rewrite_options {\n",
      "    meta_optimizer_iterations: ONE\n",
      "  }\n",
      "}\n",
      ", '_keep_checkpoint_max': 5, '_keep_checkpoint_every_n_hours': 10000, '_log_step_count_steps': 100, '_train_distribute': None, '_device_fn': None, '_protocol': None, '_eval_distribute': None, '_experimental_distribute': None, '_experimental_max_worker_delay_secs': None, '_session_creation_timeout_secs': 7200, '_checkpoint_save_graph_def': True, '_service': None, '_cluster_spec': ClusterSpec({}), '_task_type': 'worker', '_task_id': 0, '_global_id_in_cluster': 0, '_master': '', '_evaluation_master': '', '_is_chief': True, '_num_ps_replicas': 0, '_num_worker_replicas': 1}\n"
     ]
    }
   ],
   "source": [
    "# Build a DNN with 2 hidden layers and 10 nodes in each hidden layer.\n",
    "model = tf.estimator.DNNClassifier(feature_columns=feature_columns,\n",
    "                                    hidden_units=[10, 10],\n",
    "                                    optimizer=tf.optimizers.Adagrad(\n",
    "                                      learning_rate=0.1,\n",
    "                                    ))"
   ]
  },
  {
   "cell_type": "markdown",
   "metadata": {
    "_uuid": "294ab3369fd6ddee67b62b402ebe707001010466"
   },
   "source": [
    "### Train, Evaluate, and Predict\n",
    "Now that we have an Estimator object, we can call methods to do the following:\n",
    "\n",
    "* Train the model.\n",
    "* Evaluate the trained model.\n",
    "* Use the trained model to make predictions.\n"
   ]
  },
  {
   "cell_type": "markdown",
   "metadata": {
    "_uuid": "4fcb1a081143098bce426cc496167f024c432350"
   },
   "source": [
    "#### Train the model\n",
    "The steps argument tells the method to stop training after a number of training steps."
   ]
  },
  {
   "cell_type": "code",
   "execution_count": 27,
   "metadata": {
    "ExecuteTime": {
     "end_time": "2021-04-04T11:44:03.685882Z",
     "start_time": "2021-04-04T11:43:56.005998Z"
    },
    "_uuid": "805f28d819c59eee02123b11eff66d812d392188"
   },
   "outputs": [
    {
     "name": "stdout",
     "output_type": "stream",
     "text": [
      "WARNING:tensorflow:From c:\\users\\miair\\appdata\\local\\programs\\python\\python39\\lib\\site-packages\\tensorflow\\python\\training\\training_util.py:235: Variable.initialized_value (from tensorflow.python.ops.variables) is deprecated and will be removed in a future version.\n",
      "Instructions for updating:\n",
      "Use Variable.read_value. Variables in 2.X are initialized automatically both in eager and graph (inside tf.defun) contexts.\n",
      "INFO:tensorflow:Calling model_fn.\n",
      "WARNING:tensorflow:From c:\\users\\miair\\appdata\\local\\programs\\python\\python39\\lib\\site-packages\\tensorflow\\python\\keras\\optimizer_v2\\adagrad.py:87: calling Constant.__init__ (from tensorflow.python.ops.init_ops) with dtype is deprecated and will be removed in a future version.\n",
      "Instructions for updating:\n",
      "Call initializer instance with the dtype argument instead of passing it to the constructor\n",
      "INFO:tensorflow:Done calling model_fn.\n",
      "INFO:tensorflow:Create CheckpointSaverHook.\n",
      "INFO:tensorflow:Graph was finalized.\n",
      "INFO:tensorflow:Running local_init_op.\n",
      "INFO:tensorflow:Done running local_init_op.\n",
      "INFO:tensorflow:Calling checkpoint listeners before saving checkpoint 0...\n",
      "INFO:tensorflow:Saving checkpoints for 0 into C:\\Users\\MiAir\\AppData\\Local\\Temp\\tmp_y6yidju\\model.ckpt.\n",
      "INFO:tensorflow:Calling checkpoint listeners after saving checkpoint 0...\n",
      "INFO:tensorflow:loss = 1.1377991, step = 0\n",
      "INFO:tensorflow:global_step/sec: 412.966\n",
      "INFO:tensorflow:loss = 0.40535408, step = 100 (0.246 sec)\n",
      "INFO:tensorflow:global_step/sec: 581.467\n",
      "INFO:tensorflow:loss = 0.3918451, step = 200 (0.170 sec)\n",
      "INFO:tensorflow:global_step/sec: 585.755\n",
      "INFO:tensorflow:loss = 0.42984542, step = 300 (0.171 sec)\n",
      "INFO:tensorflow:global_step/sec: 585.788\n",
      "INFO:tensorflow:loss = 0.4269021, step = 400 (0.171 sec)\n",
      "INFO:tensorflow:global_step/sec: 567.906\n",
      "INFO:tensorflow:loss = 0.4194449, step = 500 (0.176 sec)\n",
      "INFO:tensorflow:global_step/sec: 546.557\n",
      "INFO:tensorflow:loss = 0.44109476, step = 600 (0.183 sec)\n",
      "INFO:tensorflow:global_step/sec: 589.933\n",
      "INFO:tensorflow:loss = 0.3509314, step = 700 (0.169 sec)\n",
      "INFO:tensorflow:global_step/sec: 578.51\n",
      "INFO:tensorflow:loss = 0.33750504, step = 800 (0.176 sec)\n",
      "INFO:tensorflow:global_step/sec: 568.072\n",
      "INFO:tensorflow:loss = 0.3897957, step = 900 (0.174 sec)\n",
      "INFO:tensorflow:Calling checkpoint listeners before saving checkpoint 1000...\n",
      "INFO:tensorflow:Saving checkpoints for 1000 into C:\\Users\\MiAir\\AppData\\Local\\Temp\\tmp_y6yidju\\model.ckpt.\n",
      "INFO:tensorflow:Calling checkpoint listeners after saving checkpoint 1000...\n",
      "INFO:tensorflow:Loss for final step: 0.4588319.\n"
     ]
    },
    {
     "data": {
      "text/plain": [
       "<tensorflow_estimator.python.estimator.canned.dnn.DNNClassifierV2 at 0x20f4a8f1f40>"
      ]
     },
     "execution_count": 27,
     "metadata": {},
     "output_type": "execute_result"
    }
   ],
   "source": [
    "model.train(input_fn=lambda:train_input_fn(X_train, y_train, batch_size), steps=train_steps)"
   ]
  },
  {
   "cell_type": "code",
   "execution_count": 101,
   "metadata": {
    "ExecuteTime": {
     "end_time": "2021-04-03T19:11:56.609531Z",
     "start_time": "2021-04-03T19:11:51.271719Z"
    }
   },
   "outputs": [
    {
     "name": "stdout",
     "output_type": "stream",
     "text": [
      "INFO:tensorflow:Calling model_fn.\n",
      "INFO:tensorflow:Done calling model_fn.\n",
      "INFO:tensorflow:Signatures INCLUDED in export for Classify: ['serving_default', 'classification']\n",
      "INFO:tensorflow:Signatures INCLUDED in export for Regress: ['regression']\n",
      "INFO:tensorflow:Signatures INCLUDED in export for Predict: ['predict']\n",
      "INFO:tensorflow:Signatures INCLUDED in export for Train: None\n",
      "INFO:tensorflow:Signatures INCLUDED in export for Eval: None\n",
      "INFO:tensorflow:Restoring parameters from C:\\Users\\MiAir\\AppData\\Local\\Temp\\tmpd15gs1gj\\model.ckpt-1000\n",
      "INFO:tensorflow:Assets added to graph.\n",
      "INFO:tensorflow:No assets to write.\n",
      "INFO:tensorflow:SavedModel written to: G:\\temp-1617477111\\saved_model.pb\n"
     ]
    }
   ],
   "source": [
    "import shutil\n",
    "inputFn = tf.estimator.export.build_parsing_serving_input_receiver_fn(\n",
    "tf.feature_column.make_parse_example_spec(feature_columns))\n",
    "OUTDIR = 'model'\n",
    "shutil.rmtree(OUTDIR, ignore_errors = True) # start fresh each timemodelBasePath = os.path.join(OUTDIR, \"model\")\n",
    "modelPath = model.export_saved_model('G:\\\\', inputFn)"
   ]
  },
  {
   "cell_type": "code",
   "execution_count": 103,
   "metadata": {
    "ExecuteTime": {
     "end_time": "2021-04-03T19:13:10.833432Z",
     "start_time": "2021-04-03T19:13:08.558047Z"
    }
   },
   "outputs": [],
   "source": [
    "savedModelPath = modelPath\n",
    "importedModel = tf.saved_model.load(savedModelPath)"
   ]
  },
  {
   "cell_type": "code",
   "execution_count": 32,
   "metadata": {
    "ExecuteTime": {
     "end_time": "2021-04-04T11:55:58.027164Z",
     "start_time": "2021-04-04T11:55:57.990207Z"
    }
   },
   "outputs": [
    {
     "ename": "NameError",
     "evalue": "name 'export_dir' is not defined",
     "output_type": "error",
     "traceback": [
      "\u001b[1;31m---------------------------------------------------------------------------\u001b[0m",
      "\u001b[1;31mNameError\u001b[0m                                 Traceback (most recent call last)",
      "\u001b[1;32m<ipython-input-32-5051d2809ec0>\u001b[0m in \u001b[0;36m<module>\u001b[1;34m\u001b[0m\n\u001b[0;32m     12\u001b[0m     \u001b[0mfeatures\u001b[0m \u001b[1;33m=\u001b[0m \u001b[0mtf\u001b[0m\u001b[1;33m.\u001b[0m\u001b[0mparse_example\u001b[0m\u001b[1;33m(\u001b[0m\u001b[0mserialized_tf_example\u001b[0m\u001b[1;33m,\u001b[0m \u001b[0myour_feature_spec\u001b[0m\u001b[1;33m)\u001b[0m\u001b[1;33m\u001b[0m\u001b[1;33m\u001b[0m\u001b[0m\n\u001b[0;32m     13\u001b[0m     \u001b[1;32mreturn\u001b[0m \u001b[0mtf\u001b[0m\u001b[1;33m.\u001b[0m\u001b[0mestimator\u001b[0m\u001b[1;33m.\u001b[0m\u001b[0mexport\u001b[0m\u001b[1;33m.\u001b[0m\u001b[0mServingInputReceiver\u001b[0m\u001b[1;33m(\u001b[0m\u001b[0mfeatures\u001b[0m\u001b[1;33m,\u001b[0m \u001b[0mreceiver_tensors\u001b[0m\u001b[1;33m)\u001b[0m\u001b[1;33m\u001b[0m\u001b[1;33m\u001b[0m\u001b[0m\n\u001b[1;32m---> 14\u001b[1;33m \u001b[0mmodel\u001b[0m\u001b[1;33m.\u001b[0m\u001b[0mexport_saved_model\u001b[0m\u001b[1;33m(\u001b[0m\u001b[0mexport_dir\u001b[0m\u001b[1;33m,\u001b[0m \u001b[0m_serving_input_receiver_fn\u001b[0m\u001b[1;33m)\u001b[0m\u001b[1;33m\u001b[0m\u001b[1;33m\u001b[0m\u001b[0m\n\u001b[0m",
      "\u001b[1;31mNameError\u001b[0m: name 'export_dir' is not defined"
     ]
    }
   ],
   "source": [
    "your_feature_spec = {\n",
    "    \"some_feature\": tf.io.FixedLenFeature([], dtype=tf.string, default_value=\"\"),\n",
    "    \"some_feature\": tf.io.VarLenFeature(dtype=tf.string),\n",
    "}\n",
    "\n",
    "def _serving_input_receiver_fn():\n",
    "    serialized_tf_example = tf.placeholder(dtype=tf.string, shape=None, \n",
    "                                           name='input_example_tensor')\n",
    "    # key (e.g. 'examples') should be same with the inputKey when you \n",
    "    # buid the request for prediction\n",
    "    receiver_tensors = {'examples': serialized_tf_example}\n",
    "    features = tf.parse_example(serialized_tf_example, your_feature_spec)\n",
    "    return tf.estimator.export.ServingInputReceiver(features, receiver_tensors)\n",
    "model.export_saved_model(export_dir, _serving_input_receiver_fn)"
   ]
  },
  {
   "cell_type": "markdown",
   "metadata": {
    "_uuid": "a4e82a5b76e6d0a89d21187413ed1574788fbe5a"
   },
   "source": [
    "### Evaluate the trained model\n",
    "Now that the model has been trained, we can get some statistics on its performance. The following code block evaluates the accuracy of the trained model on the test data."
   ]
  },
  {
   "cell_type": "code",
   "execution_count": 28,
   "metadata": {
    "ExecuteTime": {
     "end_time": "2021-04-04T11:52:53.142530Z",
     "start_time": "2021-04-04T11:52:49.408409Z"
    },
    "_uuid": "2b99faa167137ef3e90c7ebb9cd093837e8d4ef5"
   },
   "outputs": [
    {
     "name": "stdout",
     "output_type": "stream",
     "text": [
      "INFO:tensorflow:Calling model_fn.\n",
      "INFO:tensorflow:Done calling model_fn.\n",
      "INFO:tensorflow:Starting evaluation at 2021-04-04T14:52:50\n",
      "INFO:tensorflow:Graph was finalized.\n",
      "INFO:tensorflow:Restoring parameters from C:\\Users\\MiAir\\AppData\\Local\\Temp\\tmp_y6yidju\\model.ckpt-1000\n",
      "INFO:tensorflow:Running local_init_op.\n",
      "INFO:tensorflow:Done running local_init_op.\n",
      "INFO:tensorflow:Inference Time : 0.70672s\n",
      "INFO:tensorflow:Finished evaluation at 2021-04-04-14:52:51\n",
      "INFO:tensorflow:Saving dict for global step 1000: accuracy = 0.7989418, accuracy_baseline = 0.505291, auc = 0.87774724, auc_precision_recall = 0.8383615, average_loss = 0.43882227, global_step = 1000, label/mean = 0.49470899, loss = 0.43936658, precision = 0.75113124, prediction/mean = 0.479431, recall = 0.88770056\n",
      "INFO:tensorflow:Saving 'checkpoint_path' summary for global step 1000: C:\\Users\\MiAir\\AppData\\Local\\Temp\\tmp_y6yidju\\model.ckpt-1000\n",
      "\n",
      "Test set accuracy: 0.80\n",
      "\n"
     ]
    }
   ],
   "source": [
    "# Evaluate the model.\n",
    "eval_result = model.evaluate(\n",
    "    input_fn=lambda:eval_input_fn(X_test, y_test, batch_size))\n",
    "\n",
    "print('\\nTest set accuracy: {accuracy:0.2f}\\n'.format(**eval_result))\n",
    "\n",
    "#Data for final graph\n",
    "accuracy = eval_result['accuracy'] * 100\n",
    "methodDict['NN DNNClasif.'] = accuracy"
   ]
  },
  {
   "cell_type": "code",
   "execution_count": 105,
   "metadata": {
    "ExecuteTime": {
     "end_time": "2021-04-03T19:13:42.216758Z",
     "start_time": "2021-04-03T19:13:42.186759Z"
    }
   },
   "outputs": [
    {
     "ename": "AttributeError",
     "evalue": "'AutoTrackable' object has no attribute 'evaluate'",
     "output_type": "error",
     "traceback": [
      "\u001b[1;31m---------------------------------------------------------------------------\u001b[0m",
      "\u001b[1;31mAttributeError\u001b[0m                            Traceback (most recent call last)",
      "\u001b[1;32m<ipython-input-105-4c6be4540cae>\u001b[0m in \u001b[0;36m<module>\u001b[1;34m\u001b[0m\n\u001b[0;32m      1\u001b[0m \u001b[1;31m# Evaluate the model.\u001b[0m\u001b[1;33m\u001b[0m\u001b[1;33m\u001b[0m\u001b[1;33m\u001b[0m\u001b[0m\n\u001b[1;32m----> 2\u001b[1;33m eval_result = importedModel.evaluate(\n\u001b[0m\u001b[0;32m      3\u001b[0m     input_fn=lambda:eval_input_fn(X_test, y_test, batch_size))\n\u001b[0;32m      4\u001b[0m \u001b[1;33m\u001b[0m\u001b[0m\n\u001b[0;32m      5\u001b[0m \u001b[0mprint\u001b[0m\u001b[1;33m(\u001b[0m\u001b[1;34m'\\nTest set accuracy: {accuracy:0.2f}\\n'\u001b[0m\u001b[1;33m.\u001b[0m\u001b[0mformat\u001b[0m\u001b[1;33m(\u001b[0m\u001b[1;33m**\u001b[0m\u001b[0meval_result\u001b[0m\u001b[1;33m)\u001b[0m\u001b[1;33m)\u001b[0m\u001b[1;33m\u001b[0m\u001b[1;33m\u001b[0m\u001b[0m\n",
      "\u001b[1;31mAttributeError\u001b[0m: 'AutoTrackable' object has no attribute 'evaluate'"
     ]
    }
   ],
   "source": [
    " \n",
    "# Evaluate the model.\n",
    "eval_result = importedModel.evaluate(\n",
    "    input_fn=lambda:eval_input_fn(X_test, y_test, batch_size))\n",
    "\n",
    "print('\\nTest set accuracy: {accuracy:0.2f}\\n'.format(**eval_result))\n",
    "\n",
    "#Data for final graph\n",
    "accuracy = eval_result['accuracy'] * 100\n",
    "methodDict['NN DNNClasif.'] = accuracy"
   ]
  },
  {
   "cell_type": "code",
   "execution_count": 106,
   "metadata": {
    "ExecuteTime": {
     "end_time": "2021-04-03T19:13:53.882335Z",
     "start_time": "2021-04-03T19:13:53.866334Z"
    }
   },
   "outputs": [
    {
     "data": {
      "text/plain": [
       "['__class__',\n",
       " '__delattr__',\n",
       " '__dict__',\n",
       " '__dir__',\n",
       " '__doc__',\n",
       " '__eq__',\n",
       " '__format__',\n",
       " '__ge__',\n",
       " '__getattribute__',\n",
       " '__gt__',\n",
       " '__hash__',\n",
       " '__init__',\n",
       " '__init_subclass__',\n",
       " '__le__',\n",
       " '__lt__',\n",
       " '__module__',\n",
       " '__ne__',\n",
       " '__new__',\n",
       " '__reduce__',\n",
       " '__reduce_ex__',\n",
       " '__repr__',\n",
       " '__setattr__',\n",
       " '__sizeof__',\n",
       " '__str__',\n",
       " '__subclasshook__',\n",
       " '__weakref__',\n",
       " '_add_variable_with_custom_getter',\n",
       " '_checkpoint_dependencies',\n",
       " '_deferred_dependencies',\n",
       " '_delete_tracking',\n",
       " '_gather_saveables_for_checkpoint',\n",
       " '_handle_deferred_dependencies',\n",
       " '_list_extra_dependencies_for_serialization',\n",
       " '_list_functions_for_serialization',\n",
       " '_lookup_dependency',\n",
       " '_map_resources',\n",
       " '_maybe_initialize_trackable',\n",
       " '_name_based_attribute_restore',\n",
       " '_name_based_restores',\n",
       " '_no_dependency',\n",
       " '_object_identifier',\n",
       " '_preload_simple_restoration',\n",
       " '_restore_from_checkpoint_position',\n",
       " '_self_name_based_restores',\n",
       " '_self_saveable_object_factories',\n",
       " '_self_setattr_tracking',\n",
       " '_self_unconditional_checkpoint_dependencies',\n",
       " '_self_unconditional_deferred_dependencies',\n",
       " '_self_unconditional_dependency_names',\n",
       " '_self_update_uid',\n",
       " '_setattr_tracking',\n",
       " '_single_restoration_from_checkpoint_position',\n",
       " '_tf_api_names',\n",
       " '_tf_api_names_v1',\n",
       " '_track_trackable',\n",
       " '_tracking_metadata',\n",
       " '_unconditional_checkpoint_dependencies',\n",
       " '_unconditional_dependency_names',\n",
       " '_update_uid',\n",
       " 'asset_paths',\n",
       " 'graph',\n",
       " 'graph_debug_info',\n",
       " 'initializer',\n",
       " 'prune',\n",
       " 'restore',\n",
       " 'signatures',\n",
       " 'tensorflow_git_version',\n",
       " 'tensorflow_version',\n",
       " 'variables']"
      ]
     },
     "execution_count": 106,
     "metadata": {},
     "output_type": "execute_result"
    }
   ],
   "source": [
    "dir(importedModel)"
   ]
  },
  {
   "cell_type": "code",
   "execution_count": 82,
   "metadata": {
    "ExecuteTime": {
     "end_time": "2021-04-03T16:53:03.781918Z",
     "start_time": "2021-04-03T16:53:03.551800Z"
    }
   },
   "outputs": [
    {
     "ename": "AttributeError",
     "evalue": "'DNNClassifierV2' object has no attribute 'save'",
     "output_type": "error",
     "traceback": [
      "\u001b[1;31m---------------------------------------------------------------------------\u001b[0m",
      "\u001b[1;31mAttributeError\u001b[0m                            Traceback (most recent call last)",
      "\u001b[1;32m<ipython-input-82-2d06f3f067b5>\u001b[0m in \u001b[0;36m<module>\u001b[1;34m\u001b[0m\n\u001b[1;32m----> 1\u001b[1;33m \u001b[0mmodel\u001b[0m\u001b[1;33m.\u001b[0m\u001b[0msave\u001b[0m\u001b[1;33m(\u001b[0m\u001b[1;34m'model/'\u001b[0m\u001b[1;33m)\u001b[0m\u001b[1;33m\u001b[0m\u001b[1;33m\u001b[0m\u001b[0m\n\u001b[0m",
      "\u001b[1;31mAttributeError\u001b[0m: 'DNNClassifierV2' object has no attribute 'save'"
     ]
    }
   ],
   "source": [
    "model.save('model/')"
   ]
  },
  {
   "cell_type": "markdown",
   "metadata": {
    "_uuid": "de375081922a83052d997ce836c31884ce44efd7"
   },
   "source": [
    "### Making predictions (inferring) from the trained model\n",
    "We now have a trained model that produces good evaluation results. We can now use the trained model to predict whether a patient needs treatment or not."
   ]
  },
  {
   "cell_type": "code",
   "execution_count": 78,
   "metadata": {
    "ExecuteTime": {
     "end_time": "2021-04-03T16:47:21.712679Z",
     "start_time": "2021-04-03T16:47:21.041286Z"
    },
    "_uuid": "a72f2f39e610a12fea7f542fa4cccec9ca17544a"
   },
   "outputs": [
    {
     "name": "stdout",
     "output_type": "stream",
     "text": [
      "INFO:tensorflow:Calling model_fn.\n",
      "INFO:tensorflow:Done calling model_fn.\n",
      "INFO:tensorflow:Graph was finalized.\n",
      "INFO:tensorflow:Restoring parameters from C:\\Users\\MiAir\\AppData\\Local\\Temp\\tmpgqmxsn1w\\model.ckpt-1000\n",
      "INFO:tensorflow:Running local_init_op.\n",
      "INFO:tensorflow:Done running local_init_op.\n"
     ]
    }
   ],
   "source": [
    "predictions = list(model.predict(input_fn=lambda:eval_input_fn(X_train, y_train, batch_size=batch_size)))"
   ]
  },
  {
   "cell_type": "code",
   "execution_count": 79,
   "metadata": {
    "ExecuteTime": {
     "end_time": "2021-04-03T16:47:26.827866Z",
     "start_time": "2021-04-03T16:47:26.780862Z"
    },
    "_uuid": "e078018202e2a75c3cace605d815be5435798682",
    "scrolled": false
   },
   "outputs": [
    {
     "data": {
      "text/html": [
       "<div>\n",
       "<style scoped>\n",
       "    .dataframe tbody tr th:only-of-type {\n",
       "        vertical-align: middle;\n",
       "    }\n",
       "\n",
       "    .dataframe tbody tr th {\n",
       "        vertical-align: top;\n",
       "    }\n",
       "\n",
       "    .dataframe thead th {\n",
       "        text-align: right;\n",
       "    }\n",
       "</style>\n",
       "<table border=\"1\" class=\"dataframe\">\n",
       "  <thead>\n",
       "    <tr style=\"text-align: right;\">\n",
       "      <th></th>\n",
       "      <th>index</th>\n",
       "      <th>prediction</th>\n",
       "      <th>expected</th>\n",
       "    </tr>\n",
       "  </thead>\n",
       "  <tbody>\n",
       "    <tr>\n",
       "      <th>0</th>\n",
       "      <td>929</td>\n",
       "      <td>0</td>\n",
       "      <td>0</td>\n",
       "    </tr>\n",
       "    <tr>\n",
       "      <th>1</th>\n",
       "      <td>901</td>\n",
       "      <td>1</td>\n",
       "      <td>1</td>\n",
       "    </tr>\n",
       "    <tr>\n",
       "      <th>2</th>\n",
       "      <td>579</td>\n",
       "      <td>1</td>\n",
       "      <td>1</td>\n",
       "    </tr>\n",
       "    <tr>\n",
       "      <th>3</th>\n",
       "      <td>367</td>\n",
       "      <td>1</td>\n",
       "      <td>1</td>\n",
       "    </tr>\n",
       "    <tr>\n",
       "      <th>4</th>\n",
       "      <td>615</td>\n",
       "      <td>1</td>\n",
       "      <td>1</td>\n",
       "    </tr>\n",
       "  </tbody>\n",
       "</table>\n",
       "</div>"
      ],
      "text/plain": [
       "   index  prediction  expected\n",
       "0    929           0         0\n",
       "1    901           1         1\n",
       "2    579           1         1\n",
       "3    367           1         1\n",
       "4    615           1         1"
      ]
     },
     "execution_count": 79,
     "metadata": {},
     "output_type": "execute_result"
    }
   ],
   "source": [
    "# Generate predictions from the model\n",
    "template = ('\\nIndex: \"{}\", Prediction is \"{}\" ({:.1f}%), expected \"{}\"')\n",
    "\n",
    "# Dictionary for predictions\n",
    "col1 = []\n",
    "col2 = []\n",
    "col3 = []\n",
    "\n",
    "\n",
    "for idx, input, p in zip(X_train.index, y_train, predictions):\n",
    "    v  = p[\"class_ids\"][0] \n",
    "    class_id = p['class_ids'][0]\n",
    "    probability = p['probabilities'][class_id] # Probability\n",
    "    \n",
    "    # Adding to dataframe\n",
    "    col1.append(idx) # Index\n",
    "    col2.append(v) # Prediction\n",
    "    col3.append(input) # Expecter\n",
    "    \n",
    "   \n",
    "    #print(template.format(idx, v, 100 * probability, input))\n",
    "\n",
    "\n",
    "results = pd.DataFrame({'index':col1, 'prediction':col2, 'expected':col3})\n",
    "results.head()"
   ]
  },
  {
   "cell_type": "markdown",
   "metadata": {
    "_cell_guid": "83d68dc1-1929-4069-8b9f-2b1b0768840d",
    "_uuid": "289d8b5896d20f5859307e07c509c92151b4e942"
   },
   "source": [
    "<a id='Success_method_plot'></a>\n",
    "## **10. Success method plot**"
   ]
  },
  {
   "cell_type": "code",
   "execution_count": 80,
   "metadata": {
    "ExecuteTime": {
     "end_time": "2021-04-03T16:47:35.341002Z",
     "start_time": "2021-04-03T16:47:35.318000Z"
    },
    "_cell_guid": "ff9279ed-3a53-47ef-8d69-b9c013c73ba0",
    "_uuid": "67df920b185fcf2a8941369bb91c8975d0c8ce10"
   },
   "outputs": [],
   "source": [
    "def plotSuccess():\n",
    "    s = pd.Series(methodDict)\n",
    "    s = s.sort_values(ascending=False)\n",
    "    plt.figure(figsize=(12,8))\n",
    "    #Colors\n",
    "    ax = s.plot(kind='bar') \n",
    "    for p in ax.patches:\n",
    "        ax.annotate(str(round(p.get_height(),2)), (p.get_x() * 1.005, p.get_height() * 1.005))\n",
    "    plt.ylim([70.0, 90.0])\n",
    "    plt.xlabel('Method')\n",
    "    plt.ylabel('Percentage')\n",
    "    plt.title('Success of methods')\n",
    "     \n",
    "    plt.show()"
   ]
  },
  {
   "cell_type": "code",
   "execution_count": 81,
   "metadata": {
    "ExecuteTime": {
     "end_time": "2021-04-03T16:47:37.035663Z",
     "start_time": "2021-04-03T16:47:36.324591Z"
    },
    "_cell_guid": "3672320b-e060-45e4-b481-029ad98feb58",
    "_uuid": "26d24346015d93adf6c4fa9d384f480b7b391584",
    "scrolled": false
   },
   "outputs": [
    {
     "data": {
      "image/png": "[encoded data removed]",
      "text/plain": [
       "<Figure size 864x576 with 1 Axes>"
      ]
     },
     "metadata": {},
     "output_type": "display_data"
    }
   ],
   "source": [
    "plotSuccess()"
   ]
  },
  {
   "cell_type": "markdown",
   "metadata": {
    "_cell_guid": "05e05c13-6e1f-4900-b147-844cf49cdb41",
    "_uuid": "97b824045c3668ad8eab81bdfe35d07ab0d18c76"
   },
   "source": [
    "<a id='Creating_predictions_on_test_set'></a>\n",
    "## **11. Creating predictions on test set**"
   ]
  },
  {
   "cell_type": "code",
   "execution_count": null,
   "metadata": {
    "ExecuteTime": {
     "end_time": "2021-03-27T11:37:01.894392Z",
     "start_time": "2021-03-27T11:36:50.757Z"
    },
    "_cell_guid": "cd416a0e-a234-45c1-a502-e46d7b381dcd",
    "_uuid": "ddf3291a57a8ed1ebd10c81779abc44ff9f5ce72"
   },
   "outputs": [],
   "source": [
    "# Generate predictions with the best method\n",
    "clf = AdaBoostClassifier()\n",
    "clf.fit(X, y)\n",
    "dfTestPredictions = clf.predict(X_test)\n",
    "\n",
    "# Write predictions to csv file\n",
    "# We don't have any significative field so we save the index\n",
    "results = pd.DataFrame({'Index': X_test.index, 'Treatment': dfTestPredictions})\n",
    "# Save to file\n",
    "# This file will be visible after publishing in the output section\n",
    "results.to_csv('results.csv', index=False)\n",
    "results.head()"
   ]
  },
  {
   "cell_type": "markdown",
   "metadata": {
    "_uuid": "35d306ec4cb719e14f1b2600dff7a3ffa89f1b47"
   },
   "source": [
    "<a id='Submision'></a>\n",
    "## ** 12. Submision**"
   ]
  },
  {
   "cell_type": "markdown",
   "metadata": {
    "_uuid": "8fdd6b0a10dd1efb08cfac45026ad83d3fd770eb"
   },
   "source": [
    "### Prepare Submission File\n",
    "We make submissions in CSV files. Your submissions usually have two columns: an ID column and a prediction column. The ID field comes from the test data (keeping whatever name the ID field had in that data, which for our data is the index). The prediction column will use the name of the target field.\n",
    "\n",
    "We will create a DataFrame with this data, and then use the dataframe's to_csv method to write our submission file. Explicitly include the argument index=False to prevent pandas from adding another column in our csv file."
   ]
  },
  {
   "cell_type": "code",
   "execution_count": null,
   "metadata": {
    "ExecuteTime": {
     "end_time": "2021-03-27T11:37:01.897392Z",
     "start_time": "2021-03-27T11:36:51.466Z"
    },
    "_uuid": "224fe370c6c43359faa76d067a3ef39ed3b13402"
   },
   "outputs": [],
   "source": [
    "# Write predictions to csv file\n",
    "# We don't have any significative field so we save the index\n",
    "results = pd.DataFrame({'Index': X_test.index, 'Treatment': dfTestPredictions})\n",
    "# Save to file\n",
    "# This file will be visible after publishing in the output section\n",
    "results.to_csv('submission.csv', index=False)\n"
   ]
  },
  {
   "cell_type": "markdown",
   "metadata": {
    "_uuid": "e56961d7c4f00c35537023aad9c6cbf09cd8286a"
   },
   "source": [
    "### Make Submission\n",
    "Hit the blue Publish button at the top of your notebook screen. It will take some time for your kernel to run. When it has finished your navigation bar at the top of the screen will have a tab for Output. This only shows up if you have written an output file (like we did in the Prepare Submission File step)."
   ]
  },
  {
   "cell_type": "markdown",
   "metadata": {
    "_uuid": "14436d0791aad480e08b4d5dce1ca51c1a25bd3b"
   },
   "source": []
  },
  {
   "cell_type": "markdown",
   "metadata": {
    "_cell_guid": "2c05dd56-2528-40b1-9cd0-368300adc2c3",
    "_uuid": "d5972622da305ae627019fc0476a769a22a9f3fc",
    "collapsed": true
   },
   "source": [
    "<a id='Conclusions'></a>\n",
    "## **13. Conclusions**\n",
    "\n",
    "As a beginner I don't know whether the results are the best. I think over 80% of success in the majority of methods is a good rate, given the point is to know whether a patient needs treatment or not.\n",
    "\n",
    "There's only left to have a way to persist the model for future use without having to retrain. This job will be done in another kernel.\n",
    "\n",
    "\n",
    "Thanks for reading and if you'd like my job or want to give some advice, feel free.\n",
    "\n"
   ]
  },
  {
   "cell_type": "code",
   "execution_count": null,
   "metadata": {},
   "outputs": [],
   "source": []
  },
  {
   "cell_type": "code",
   "execution_count": null,
   "metadata": {},
   "outputs": [],
   "source": []
  },
  {
   "cell_type": "code",
   "execution_count": null,
   "metadata": {},
   "outputs": [],
   "source": []
  }
 ],
 "metadata": {
  "hide_input": false,
  "kernelspec": {
   "display_name": "Python 3",
   "language": "python",
   "name": "python3"
  },
  "language_info": {
   "codemirror_mode": {
    "name": "ipython",
    "version": 3
   },
   "file_extension": ".py",
   "mimetype": "text/x-python",
   "name": "python",
   "nbconvert_exporter": "python",
   "pygments_lexer": "ipython3",
   "version": "3.9.1"
  },
  "toc": {
   "base_numbering": 1,
   "nav_menu": {},
   "number_sections": true,
   "sideBar": true,
   "skip_h1_title": false,
   "title_cell": "Table of Contents",
   "title_sidebar": "Contents",
   "toc_cell": false,
   "toc_position": {},
   "toc_section_display": true,
   "toc_window_display": true
  },
  "varInspector": {
   "cols": {
    "lenName": 16,
    "lenType": 16,
    "lenVar": 40
   },
   "kernels_config": {
    "python": {
     "delete_cmd_postfix": "",
     "delete_cmd_prefix": "del ",
     "library": "var_list.py",
     "varRefreshCmd": "print(var_dic_list())"
    },
    "r": {
     "delete_cmd_postfix": ") ",
     "delete_cmd_prefix": "rm(",
     "library": "var_list.r",
     "varRefreshCmd": "cat(var_dic_list()) "
    }
   },
   "types_to_exclude": [
    "module",
    "function",
    "builtin_function_or_method",
    "instance",
    "_Feature"
   ],
   "window_display": false
  }
 },
 "nbformat": 4,
 "nbformat_minor": 1
}
