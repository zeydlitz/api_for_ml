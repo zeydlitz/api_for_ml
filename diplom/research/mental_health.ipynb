{
 "cells": [
  {
   "cell_type": "code",
   "execution_count": 1,
   "metadata": {
    "ExecuteTime": {
     "end_time": "2021-03-27T09:02:49.563047Z",
     "start_time": "2021-03-27T09:02:49.508086Z"
    }
   },
   "outputs": [
    {
     "name": "stdout",
     "output_type": "stream",
     "text": [
      "’ҐЄгй п Є®¤®ў п бва ­Ёж : 1251\n"
     ]
    },
    {
     "name": "stderr",
     "output_type": "stream",
     "text": [
      "\"ls\" ­Ґ пў«пҐвбп ў­гваҐ­­Ґ© Ё«Ё ў­Ґи­Ґ©\n",
      "Є®¬ ­¤®©, ЁбЇ®«­пҐ¬®© Їа®Ја ¬¬®© Ё«Ё Ї ЄҐв­л¬ д ©«®¬.\n"
     ]
    }
   ],
   "source": [
    "!ls"
   ]
  },
  {
   "cell_type": "code",
   "execution_count": 2,
   "metadata": {
    "ExecuteTime": {
     "end_time": "2021-03-27T09:02:56.136857Z",
     "start_time": "2021-03-27T09:02:56.074855Z"
    }
   },
   "outputs": [
    {
     "name": "stdout",
     "output_type": "stream",
     "text": [
      "’ҐЄгй п Є®¤®ў п бва ­Ёж : 1251\n",
      " Том в устройстве G имеет метку Data\n",
      " Серийный номер тома: D6D7-D26D\n",
      "\n",
      " Содержимое папки G:\\Programming\\data_sc\\github\\coursework\\research\n",
      "\n",
      "27.03.2021  12:02    <DIR>          .\n",
      "27.03.2021  12:02    <DIR>          ..\n",
      "25.01.2021  23:01    <DIR>          .ipynb_checkpoints\n",
      "09.12.2020  00:58            44 210 df.png\n",
      "01.10.2019  20:15            11 328 heart.csv\n",
      "20.12.2020  20:13         2 117 220 heart.ipynb\n",
      "01.11.2020  19:26            12 686 heart1.csv\n",
      "25.01.2021  23:01    <DIR>          label\n",
      "20.12.2020  19:39             1 273 lin.png\n",
      "20.12.2020  19:39            56 087 lin1.png\n",
      "26.03.2021  22:02               626 mental_health.ipynb\n",
      "25.01.2021  23:01    <DIR>          model\n",
      "29.10.2020  15:02         2 611 223 output.html\n",
      "20.09.2019  00:04           303 684 survey.csv\n",
      "20.12.2020  19:29             5 867 tree.dot\n",
      "22.09.2020  12:53           330 055 tree.png\n",
      "              11 файлов      5 494 259 байт\n",
      "               5 папок  86 859 882 496 байт свободно\n"
     ]
    }
   ],
   "source": [
    "!dir"
   ]
  },
  {
   "cell_type": "code",
   "execution_count": null,
   "metadata": {},
   "outputs": [],
   "source": []
  }
 ],
 "metadata": {
  "hide_input": false,
  "kernelspec": {
   "display_name": "Python 3",
   "language": "python",
   "name": "python3"
  },
  "language_info": {
   "codemirror_mode": {
    "name": "ipython",
    "version": 3
   },
   "file_extension": ".py",
   "mimetype": "text/x-python",
   "name": "python",
   "nbconvert_exporter": "python",
   "pygments_lexer": "ipython3",
   "version": "3.9.1"
  },
  "toc": {
   "base_numbering": 1,
   "nav_menu": {},
   "number_sections": true,
   "sideBar": true,
   "skip_h1_title": false,
   "title_cell": "Table of Contents",
   "title_sidebar": "Contents",
   "toc_cell": false,
   "toc_position": {},
   "toc_section_display": true,
   "toc_window_display": false
  },
  "varInspector": {
   "cols": {
    "lenName": 16,
    "lenType": 16,
    "lenVar": 40
   },
   "kernels_config": {
    "python": {
     "delete_cmd_postfix": "",
     "delete_cmd_prefix": "del ",
     "library": "var_list.py",
     "varRefreshCmd": "print(var_dic_list())"
    },
    "r": {
     "delete_cmd_postfix": ") ",
     "delete_cmd_prefix": "rm(",
     "library": "var_list.r",
     "varRefreshCmd": "cat(var_dic_list()) "
    }
   },
   "types_to_exclude": [
    "module",
    "function",
    "builtin_function_or_method",
    "instance",
    "_Feature"
   ],
   "window_display": false
  }
 },
 "nbformat": 4,
 "nbformat_minor": 1
}
